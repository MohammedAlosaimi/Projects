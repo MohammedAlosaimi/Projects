{
 "cells": [
  {
   "cell_type": "markdown",
   "metadata": {},
   "source": [
    "# Introduction"
   ]
  },
  {
   "cell_type": "markdown",
   "metadata": {},
   "source": [
    "In this project, I tried to assist a manpower agency to identify which country is best fit for a specific client based on client specifications. I also wanted to give a business solution to increase their profits by showing them the countries that best return the highest profit.\n",
    "\n",
    "First, I acquired a row and dirty data from the agency office that has been collected between the years 2014 and 2015. The first data came in three excel files and it was all associated with the countries Bangladesh, Philippines, and Sri Lanka. The data did not look like an easy and clean data to work with, which results in spending hours and hours of preprocessing which includes cleaning, extracting features, etc. Then, I combined all of the three datasets into one, so that I can perform some modelling and visualizations. I used this combined data to perform classification modelling which means that I wanted to predict the probability that a country would be the best choice for a client based on his/her specification. I also perform clustering modelling so that I can study the behaviour of clients. In the end, I ended up with a good accuracy model that predicts the probability of the best country that the client would like based on his/her specifications.\n",
    "\n",
    "Second, I spent a lot of time looking for different datasets on the agency online system, so that it would support my modelling process or help me to come up with another solution based on the first prediction. I found a really useful data that shows the price of recruitment, cost of the supplier, and the profit. Thus, I used this data to show the profit among countries after I predict the country in the first part so that the agency can use the model and the data analysis to the benefit of the business. In conclusion, service providers can benefit a lot from the model and the data analysis.\n",
    "\n",
    "Third, I broke my project process into three files. dirty_data where I got my data as a raw data and then I cleaned it. In the second file 'clean_data', I performed data visualization and drumming my data to prepare it for modelling. In this file, I performed a classification and clustering models. I the third file named 'profits_file', I visualized data after cleaning so that we can use them in the prediction file 'clean_data'.\n",
    "\n",
    "To sum up, I believed that I did good work achieving a better accuracy in my classification model that would be beneficial for the business. I also believed that my data analysis and visualizations would assist the employer to make better decisions. For future work, I am planning to work hand to hand with my uncle to build a system that collects data properly so that we can make better-looking visualization which would result in making better business decisions   "
   ]
  },
  {
   "cell_type": "markdown",
   "metadata": {},
   "source": [
    "### **WE READ THREE DIFFERENT FILES FOR PREPROCCESING**"
   ]
  },
  {
   "cell_type": "markdown",
   "metadata": {},
   "source": [
    "# Import libraries"
   ]
  },
  {
   "cell_type": "code",
   "execution_count": 104,
   "metadata": {},
   "outputs": [],
   "source": [
    "# import libraries\n",
    "import pandas as pd\n",
    "import numpy as np\n",
    "import seaborn as sns\n",
    "import matplotlib.pyplot as plt\n",
    "import re\n",
    "import hashlib\n",
    "from pandas.util import hash_pandas_object"
   ]
  },
  {
   "cell_type": "markdown",
   "metadata": {},
   "source": [
    "# Load in the data"
   ]
  },
  {
   "cell_type": "code",
   "execution_count": 105,
   "metadata": {},
   "outputs": [],
   "source": [
    "# load in the data\n",
    "bangladesh = pd.read_excel('datasets/Bangladesh_data.xlsx', header=None)\n",
    "philippines = pd.read_excel('datasets/Philippines_data.xlsx', header=None)\n",
    "sri_lanka = pd.read_excel('datasets/Sri_Lanka_data.xlsx', header=None)"
   ]
  },
  {
   "cell_type": "markdown",
   "metadata": {},
   "source": [
    "# Preprocessing the data\n",
    "    This preproccing would include different steps.\n",
    "    Step1: removing null values in the data\n",
    "    Step2: renaming columns for ease of use\n",
    "    Step3: extracting features from the existing columns"
   ]
  },
  {
   "cell_type": "markdown",
   "metadata": {},
   "source": [
    "**We'll seprate our preproccessing into three since we have three different datasets 'Bangladesh data, Philippines data, Sri Lanka data'**"
   ]
  },
  {
   "cell_type": "code",
   "execution_count": 106,
   "metadata": {},
   "outputs": [
    {
     "data": {
      "text/plain": [
       "((684, 20), (628, 20), (607, 18))"
      ]
     },
     "execution_count": 106,
     "metadata": {},
     "output_type": "execute_result"
    }
   ],
   "source": [
    "# check the shape of the data\n",
    "bangladesh.shape, philippines.shape, sri_lanka.shape"
   ]
  },
  {
   "cell_type": "markdown",
   "metadata": {},
   "source": [
    "# 1) cleaning Bangladesh data"
   ]
  },
  {
   "cell_type": "code",
   "execution_count": 107,
   "metadata": {},
   "outputs": [
    {
     "data": {
      "text/html": [
       "<div>\n",
       "<style scoped>\n",
       "    .dataframe tbody tr th:only-of-type {\n",
       "        vertical-align: middle;\n",
       "    }\n",
       "\n",
       "    .dataframe tbody tr th {\n",
       "        vertical-align: top;\n",
       "    }\n",
       "\n",
       "    .dataframe thead th {\n",
       "        text-align: right;\n",
       "    }\n",
       "</style>\n",
       "<table border=\"1\" class=\"dataframe\">\n",
       "  <thead>\n",
       "    <tr style=\"text-align: right;\">\n",
       "      <th></th>\n",
       "      <th>0</th>\n",
       "      <th>1</th>\n",
       "      <th>2</th>\n",
       "      <th>3</th>\n",
       "      <th>4</th>\n",
       "      <th>5</th>\n",
       "      <th>6</th>\n",
       "      <th>7</th>\n",
       "      <th>8</th>\n",
       "      <th>9</th>\n",
       "      <th>10</th>\n",
       "      <th>11</th>\n",
       "      <th>12</th>\n",
       "      <th>13</th>\n",
       "      <th>14</th>\n",
       "      <th>15</th>\n",
       "      <th>16</th>\n",
       "      <th>17</th>\n",
       "      <th>18</th>\n",
       "      <th>19</th>\n",
       "    </tr>\n",
       "  </thead>\n",
       "  <tbody>\n",
       "    <tr>\n",
       "      <th>0</th>\n",
       "      <td>NaN</td>\n",
       "      <td>NaN</td>\n",
       "      <td>NaN</td>\n",
       "      <td>NaN</td>\n",
       "      <td>NaN</td>\n",
       "      <td>NaN</td>\n",
       "      <td>NaN</td>\n",
       "      <td>NaN</td>\n",
       "      <td>NaN</td>\n",
       "      <td>NaN</td>\n",
       "      <td>NaN</td>\n",
       "      <td>NaN</td>\n",
       "      <td>NaN</td>\n",
       "      <td>NaN</td>\n",
       "      <td>NaN</td>\n",
       "      <td>NaN</td>\n",
       "      <td>NaN</td>\n",
       "      <td>NaN</td>\n",
       "      <td>NaN</td>\n",
       "      <td>NaN</td>\n",
       "    </tr>\n",
       "    <tr>\n",
       "      <th>1</th>\n",
       "      <td>NaN</td>\n",
       "      <td>مكتب الاختيار للاستقدام (معاملات بنجلاديش)</td>\n",
       "      <td>NaN</td>\n",
       "      <td>NaN</td>\n",
       "      <td>NaN</td>\n",
       "      <td>NaN</td>\n",
       "      <td>NaN</td>\n",
       "      <td>NaN</td>\n",
       "      <td>NaN</td>\n",
       "      <td>NaN</td>\n",
       "      <td>NaN</td>\n",
       "      <td>NaN</td>\n",
       "      <td>NaN</td>\n",
       "      <td>NaN</td>\n",
       "      <td>NaN</td>\n",
       "      <td>NaN</td>\n",
       "      <td>NaN</td>\n",
       "      <td>NaN</td>\n",
       "      <td>NaN</td>\n",
       "      <td>NaN</td>\n",
       "    </tr>\n",
       "    <tr>\n",
       "      <th>2</th>\n",
       "      <td>NaN</td>\n",
       "      <td>NaN</td>\n",
       "      <td>NaN</td>\n",
       "      <td>NaN</td>\n",
       "      <td>NaN</td>\n",
       "      <td>NaN</td>\n",
       "      <td>NaN</td>\n",
       "      <td>NaN</td>\n",
       "      <td>NaN</td>\n",
       "      <td>NaN</td>\n",
       "      <td>NaN</td>\n",
       "      <td>NaN</td>\n",
       "      <td>NaN</td>\n",
       "      <td>NaN</td>\n",
       "      <td>NaN</td>\n",
       "      <td>NaN</td>\n",
       "      <td>NaN</td>\n",
       "      <td>NaN</td>\n",
       "      <td>NaN</td>\n",
       "      <td>NaN</td>\n",
       "    </tr>\n",
       "    <tr>\n",
       "      <th>3</th>\n",
       "      <td>NaN</td>\n",
       "      <td>الرقم</td>\n",
       "      <td>الاسم</td>\n",
       "      <td>رقم التأشيره</td>\n",
       "      <td>رقم السجل</td>\n",
       "      <td>تاريخ الميلاد</td>\n",
       "      <td>العنوان - رقم الهاتف</td>\n",
       "      <td>المواصفات</td>\n",
       "      <td>تاريخ التقديم</td>\n",
       "      <td>المكتب</td>\n",
       "      <td>الحالة</td>\n",
       "      <td>اسم الخادمة</td>\n",
       "      <td>تاريخ التفييذ</td>\n",
       "      <td>تاريخ الوصول</td>\n",
       "      <td>ملاحظات</td>\n",
       "      <td>NaN</td>\n",
       "      <td>NaN</td>\n",
       "      <td>NaN</td>\n",
       "      <td>NaN</td>\n",
       "      <td>NaN</td>\n",
       "    </tr>\n",
       "    <tr>\n",
       "      <th>4</th>\n",
       "      <td>NaN</td>\n",
       "      <td>1</td>\n",
       "      <td>خالد محمد جمعان المالكي</td>\n",
       "      <td>1800025194</td>\n",
       "      <td>1054846645</td>\n",
       "      <td>NaN</td>\n",
       "      <td>الرياض - حي العريجاء هاتف 0544863487</td>\n",
       "      <td>مقبولة الشكل العمر من 25 الى 35</td>\n",
       "      <td>2016-04-01 00:00:00</td>\n",
       "      <td>D</td>\n",
       "      <td>تم الوصول</td>\n",
       "      <td>NaN</td>\n",
       "      <td>NaN</td>\n",
       "      <td>NaN</td>\n",
       "      <td>تم تسديد كامل المبلغ</td>\n",
       "      <td>NaN</td>\n",
       "      <td>NaN</td>\n",
       "      <td>NaN</td>\n",
       "      <td>NaN</td>\n",
       "      <td>NaN</td>\n",
       "    </tr>\n",
       "    <tr>\n",
       "      <th>5</th>\n",
       "      <td>NaN</td>\n",
       "      <td>2</td>\n",
       "      <td>حجي عسوج الشمري</td>\n",
       "      <td>1104303794</td>\n",
       "      <td>1034719789</td>\n",
       "      <td>NaN</td>\n",
       "      <td>الرياض - حي النسيم هاتف  0566266617</td>\n",
       "      <td>مقبولة الشكل العمر من 25 الى 35</td>\n",
       "      <td>2016-04-01 00:00:00</td>\n",
       "      <td>D</td>\n",
       "      <td>تم الوصول</td>\n",
       "      <td>NaN</td>\n",
       "      <td>NaN</td>\n",
       "      <td>NaN</td>\n",
       "      <td>تم تسديد كامل المبلغ</td>\n",
       "      <td>NaN</td>\n",
       "      <td>NaN</td>\n",
       "      <td>NaN</td>\n",
       "      <td>NaN</td>\n",
       "      <td>NaN</td>\n",
       "    </tr>\n",
       "    <tr>\n",
       "      <th>6</th>\n",
       "      <td>NaN</td>\n",
       "      <td>3</td>\n",
       "      <td>مسعود فرج العتيبي</td>\n",
       "      <td>1104304960</td>\n",
       "      <td>1002211058</td>\n",
       "      <td>NaN</td>\n",
       "      <td>الرياض-حي السعاده 0555419630</td>\n",
       "      <td>مقبولة الشكل العمر من 25 الى 35</td>\n",
       "      <td>2016-04-01 00:00:00</td>\n",
       "      <td>D</td>\n",
       "      <td>تم الوصول</td>\n",
       "      <td>NaN</td>\n",
       "      <td>NaN</td>\n",
       "      <td>NaN</td>\n",
       "      <td>NaN</td>\n",
       "      <td>NaN</td>\n",
       "      <td>NaN</td>\n",
       "      <td>NaN</td>\n",
       "      <td>D</td>\n",
       "      <td>تم التفييز</td>\n",
       "    </tr>\n",
       "    <tr>\n",
       "      <th>7</th>\n",
       "      <td>NaN</td>\n",
       "      <td>4</td>\n",
       "      <td>ماجد عبود القحطاني</td>\n",
       "      <td>1104298913</td>\n",
       "      <td>1016030874</td>\n",
       "      <td>NaN</td>\n",
       "      <td>الرياض-حي الرمال هاتف 0506865754</td>\n",
       "      <td>مقبولة الشكل العمر من 25 الى 35</td>\n",
       "      <td>2016-04-01 00:00:00</td>\n",
       "      <td>A</td>\n",
       "      <td>تم الوصول</td>\n",
       "      <td>NaN</td>\n",
       "      <td>NaN</td>\n",
       "      <td>2017-01-06 00:00:00</td>\n",
       "      <td>تم تسديد 12000</td>\n",
       "      <td>NaN</td>\n",
       "      <td>NaN</td>\n",
       "      <td>NaN</td>\n",
       "      <td>A</td>\n",
       "      <td>تم الحجز</td>\n",
       "    </tr>\n",
       "  </tbody>\n",
       "</table>\n",
       "</div>"
      ],
      "text/plain": [
       "    0                                           1                        2   \\\n",
       "0  NaN                                         NaN                      NaN   \n",
       "1  NaN  مكتب الاختيار للاستقدام (معاملات بنجلاديش)                      NaN   \n",
       "2  NaN                                         NaN                      NaN   \n",
       "3  NaN                                       الرقم                    الاسم   \n",
       "4  NaN                                           1  خالد محمد جمعان المالكي   \n",
       "5  NaN                                           2          حجي عسوج الشمري   \n",
       "6  NaN                                           3        مسعود فرج العتيبي   \n",
       "7  NaN                                           4      ماجد عبود القحطاني    \n",
       "\n",
       "             3           4              5   \\\n",
       "0           NaN         NaN            NaN   \n",
       "1           NaN         NaN            NaN   \n",
       "2           NaN         NaN            NaN   \n",
       "3  رقم التأشيره   رقم السجل  تاريخ الميلاد   \n",
       "4    1800025194  1054846645            NaN   \n",
       "5    1104303794  1034719789            NaN   \n",
       "6    1104304960  1002211058            NaN   \n",
       "7    1104298913  1016030874            NaN   \n",
       "\n",
       "                                     6                                7   \\\n",
       "0                                   NaN                              NaN   \n",
       "1                                   NaN                              NaN   \n",
       "2                                   NaN                              NaN   \n",
       "3                  العنوان - رقم الهاتف                        المواصفات   \n",
       "4  الرياض - حي العريجاء هاتف 0544863487  مقبولة الشكل العمر من 25 الى 35   \n",
       "5   الرياض - حي النسيم هاتف  0566266617  مقبولة الشكل العمر من 25 الى 35   \n",
       "6          الرياض-حي السعاده 0555419630  مقبولة الشكل العمر من 25 الى 35   \n",
       "7      الرياض-حي الرمال هاتف 0506865754  مقبولة الشكل العمر من 25 الى 35   \n",
       "\n",
       "                    8       9          10           11             12  \\\n",
       "0                  NaN     NaN        NaN          NaN            NaN   \n",
       "1                  NaN     NaN        NaN          NaN            NaN   \n",
       "2                  NaN     NaN        NaN          NaN            NaN   \n",
       "3        تاريخ التقديم  المكتب     الحالة  اسم الخادمة  تاريخ التفييذ   \n",
       "4  2016-04-01 00:00:00       D  تم الوصول          NaN            NaN   \n",
       "5  2016-04-01 00:00:00       D  تم الوصول          NaN            NaN   \n",
       "6  2016-04-01 00:00:00       D  تم الوصول          NaN            NaN   \n",
       "7  2016-04-01 00:00:00       A  تم الوصول          NaN            NaN   \n",
       "\n",
       "                    13                    14  15  16  17   18          19  \n",
       "0                  NaN                   NaN NaN NaN NaN  NaN         NaN  \n",
       "1                  NaN                   NaN NaN NaN NaN  NaN         NaN  \n",
       "2                  NaN                   NaN NaN NaN NaN  NaN         NaN  \n",
       "3         تاريخ الوصول               ملاحظات NaN NaN NaN  NaN         NaN  \n",
       "4                  NaN  تم تسديد كامل المبلغ NaN NaN NaN  NaN         NaN  \n",
       "5                  NaN  تم تسديد كامل المبلغ NaN NaN NaN  NaN         NaN  \n",
       "6                  NaN                   NaN NaN NaN NaN    D  تم التفييز  \n",
       "7  2017-01-06 00:00:00        تم تسديد 12000 NaN NaN NaN    A    تم الحجز  "
      ]
     },
     "execution_count": 107,
     "metadata": {},
     "output_type": "execute_result"
    }
   ],
   "source": [
    "# print the head of the data\n",
    "bangladesh.head(8)"
   ]
  },
  {
   "cell_type": "code",
   "execution_count": 108,
   "metadata": {},
   "outputs": [],
   "source": [
    "# drop the first three rows since that they have no values\n",
    "bangladesh.drop(bangladesh.index[:3], inplace=True)"
   ]
  },
  {
   "cell_type": "code",
   "execution_count": 109,
   "metadata": {},
   "outputs": [],
   "source": [
    "# set the first row to be our columns names\n",
    "bangladesh.rename(columns=bangladesh.iloc[0], inplace=True)"
   ]
  },
  {
   "cell_type": "code",
   "execution_count": 110,
   "metadata": {},
   "outputs": [],
   "source": [
    "# drop the first row which is a duplicate of our columns names\n",
    "bangladesh.drop(bangladesh.index[:1], inplace=True)"
   ]
  },
  {
   "cell_type": "code",
   "execution_count": 111,
   "metadata": {},
   "outputs": [],
   "source": [
    "# reassign the data after droping some unuseful columns\n",
    "bangladesh = bangladesh.iloc[:, 2:-5]"
   ]
  },
  {
   "cell_type": "code",
   "execution_count": 112,
   "metadata": {},
   "outputs": [],
   "source": [
    "# reset index\n",
    "bangladesh.reset_index(inplace=True, drop=True)"
   ]
  },
  {
   "cell_type": "code",
   "execution_count": 113,
   "metadata": {},
   "outputs": [
    {
     "data": {
      "text/html": [
       "<div>\n",
       "<style scoped>\n",
       "    .dataframe tbody tr th:only-of-type {\n",
       "        vertical-align: middle;\n",
       "    }\n",
       "\n",
       "    .dataframe tbody tr th {\n",
       "        vertical-align: top;\n",
       "    }\n",
       "\n",
       "    .dataframe thead th {\n",
       "        text-align: right;\n",
       "    }\n",
       "</style>\n",
       "<table border=\"1\" class=\"dataframe\">\n",
       "  <thead>\n",
       "    <tr style=\"text-align: right;\">\n",
       "      <th></th>\n",
       "      <th>الاسم</th>\n",
       "      <th>رقم التأشيره</th>\n",
       "      <th>رقم السجل</th>\n",
       "      <th>تاريخ الميلاد</th>\n",
       "      <th>العنوان - رقم الهاتف</th>\n",
       "      <th>المواصفات</th>\n",
       "      <th>تاريخ التقديم</th>\n",
       "      <th>المكتب</th>\n",
       "      <th>الحالة</th>\n",
       "      <th>اسم الخادمة</th>\n",
       "      <th>تاريخ التفييذ</th>\n",
       "      <th>تاريخ الوصول</th>\n",
       "      <th>ملاحظات</th>\n",
       "    </tr>\n",
       "  </thead>\n",
       "  <tbody>\n",
       "    <tr>\n",
       "      <th>0</th>\n",
       "      <td>خالد محمد جمعان المالكي</td>\n",
       "      <td>1800025194</td>\n",
       "      <td>1054846645</td>\n",
       "      <td>NaN</td>\n",
       "      <td>الرياض - حي العريجاء هاتف 0544863487</td>\n",
       "      <td>مقبولة الشكل العمر من 25 الى 35</td>\n",
       "      <td>2016-04-01 00:00:00</td>\n",
       "      <td>D</td>\n",
       "      <td>تم الوصول</td>\n",
       "      <td>NaN</td>\n",
       "      <td>NaN</td>\n",
       "      <td>NaN</td>\n",
       "      <td>تم تسديد كامل المبلغ</td>\n",
       "    </tr>\n",
       "    <tr>\n",
       "      <th>1</th>\n",
       "      <td>حجي عسوج الشمري</td>\n",
       "      <td>1104303794</td>\n",
       "      <td>1034719789</td>\n",
       "      <td>NaN</td>\n",
       "      <td>الرياض - حي النسيم هاتف  0566266617</td>\n",
       "      <td>مقبولة الشكل العمر من 25 الى 35</td>\n",
       "      <td>2016-04-01 00:00:00</td>\n",
       "      <td>D</td>\n",
       "      <td>تم الوصول</td>\n",
       "      <td>NaN</td>\n",
       "      <td>NaN</td>\n",
       "      <td>NaN</td>\n",
       "      <td>تم تسديد كامل المبلغ</td>\n",
       "    </tr>\n",
       "    <tr>\n",
       "      <th>2</th>\n",
       "      <td>مسعود فرج العتيبي</td>\n",
       "      <td>1104304960</td>\n",
       "      <td>1002211058</td>\n",
       "      <td>NaN</td>\n",
       "      <td>الرياض-حي السعاده 0555419630</td>\n",
       "      <td>مقبولة الشكل العمر من 25 الى 35</td>\n",
       "      <td>2016-04-01 00:00:00</td>\n",
       "      <td>D</td>\n",
       "      <td>تم الوصول</td>\n",
       "      <td>NaN</td>\n",
       "      <td>NaN</td>\n",
       "      <td>NaN</td>\n",
       "      <td>NaN</td>\n",
       "    </tr>\n",
       "    <tr>\n",
       "      <th>3</th>\n",
       "      <td>ماجد عبود القحطاني</td>\n",
       "      <td>1104298913</td>\n",
       "      <td>1016030874</td>\n",
       "      <td>NaN</td>\n",
       "      <td>الرياض-حي الرمال هاتف 0506865754</td>\n",
       "      <td>مقبولة الشكل العمر من 25 الى 35</td>\n",
       "      <td>2016-04-01 00:00:00</td>\n",
       "      <td>A</td>\n",
       "      <td>تم الوصول</td>\n",
       "      <td>NaN</td>\n",
       "      <td>NaN</td>\n",
       "      <td>2017-01-06 00:00:00</td>\n",
       "      <td>تم تسديد 12000</td>\n",
       "    </tr>\n",
       "    <tr>\n",
       "      <th>4</th>\n",
       "      <td>عبدالرحمن عبود القحطاني</td>\n",
       "      <td>3100056928</td>\n",
       "      <td>1016030833</td>\n",
       "      <td>NaN</td>\n",
       "      <td>الرياض-حي الرمال هاتف 0506865754</td>\n",
       "      <td>مقبولة الشكل العمر من 25 الى 35</td>\n",
       "      <td>2016-04-01 00:00:00</td>\n",
       "      <td>D</td>\n",
       "      <td>تم الوصول</td>\n",
       "      <td>NaN</td>\n",
       "      <td>NaN</td>\n",
       "      <td>NaN</td>\n",
       "      <td>تم تسديد كامل المبلغ</td>\n",
       "    </tr>\n",
       "  </tbody>\n",
       "</table>\n",
       "</div>"
      ],
      "text/plain": [
       "                     الاسم رقم التأشيره   رقم السجل تاريخ الميلاد  \\\n",
       "0  خالد محمد جمعان المالكي   1800025194  1054846645           NaN   \n",
       "1          حجي عسوج الشمري   1104303794  1034719789           NaN   \n",
       "2        مسعود فرج العتيبي   1104304960  1002211058           NaN   \n",
       "3      ماجد عبود القحطاني    1104298913  1016030874           NaN   \n",
       "4  عبدالرحمن عبود القحطاني   3100056928  1016030833           NaN   \n",
       "\n",
       "                   العنوان - رقم الهاتف                        المواصفات  \\\n",
       "0  الرياض - حي العريجاء هاتف 0544863487  مقبولة الشكل العمر من 25 الى 35   \n",
       "1   الرياض - حي النسيم هاتف  0566266617  مقبولة الشكل العمر من 25 الى 35   \n",
       "2          الرياض-حي السعاده 0555419630  مقبولة الشكل العمر من 25 الى 35   \n",
       "3      الرياض-حي الرمال هاتف 0506865754  مقبولة الشكل العمر من 25 الى 35   \n",
       "4      الرياض-حي الرمال هاتف 0506865754  مقبولة الشكل العمر من 25 الى 35   \n",
       "\n",
       "         تاريخ التقديم المكتب     الحالة اسم الخادمة تاريخ التفييذ  \\\n",
       "0  2016-04-01 00:00:00      D  تم الوصول         NaN           NaN   \n",
       "1  2016-04-01 00:00:00      D  تم الوصول         NaN           NaN   \n",
       "2  2016-04-01 00:00:00      D  تم الوصول         NaN           NaN   \n",
       "3  2016-04-01 00:00:00      A  تم الوصول         NaN           NaN   \n",
       "4  2016-04-01 00:00:00      D  تم الوصول         NaN           NaN   \n",
       "\n",
       "          تاريخ الوصول               ملاحظات  \n",
       "0                  NaN  تم تسديد كامل المبلغ  \n",
       "1                  NaN  تم تسديد كامل المبلغ  \n",
       "2                  NaN                   NaN  \n",
       "3  2017-01-06 00:00:00        تم تسديد 12000  \n",
       "4                  NaN  تم تسديد كامل المبلغ  "
      ]
     },
     "execution_count": 113,
     "metadata": {},
     "output_type": "execute_result"
    }
   ],
   "source": [
    "# print the head od the dataframe\n",
    "bangladesh.head()"
   ]
  },
  {
   "cell_type": "code",
   "execution_count": 114,
   "metadata": {},
   "outputs": [],
   "source": [
    "# rename columns\n",
    "columns_translated = {'الاسم': 'name', 'رقم التأشيره': 'visa_number', 'رقم السجل': 'id', 'تاريخ الميلاد': 'date_of_birth',\n",
    "                   'العنوان - رقم الهاتف': 'address_phone_number', 'المواصفات': 'specifications', 'تاريخ التقديم': 'date_of_submission',\n",
    "                   'المكتب': 'office', 'الحالة': 'condition', 'اسم الخادمة': 'maid_name', 'تاريخ التفييذ': 'Date_of_implementation',\n",
    "                   'تاريخ الوصول': 'arrival_date', 'ملاحظات': 'note'\n",
    "                  }"
   ]
  },
  {
   "cell_type": "code",
   "execution_count": 115,
   "metadata": {},
   "outputs": [],
   "source": [
    "# translate the columns from Arabic to English\n",
    "bangladesh.rename(columns=columns_translated, inplace=True)"
   ]
  },
  {
   "cell_type": "code",
   "execution_count": 116,
   "metadata": {},
   "outputs": [
    {
     "data": {
      "text/plain": [
       "Index(['name', 'visa_number', 'id', 'date_of_birth', 'address_phone_number',\n",
       "       'specifications', 'date_of_submission', 'office', 'condition',\n",
       "       'maid_name', 'Date_of_implementation', 'arrival_date', 'note'],\n",
       "      dtype='object')"
      ]
     },
     "execution_count": 116,
     "metadata": {},
     "output_type": "execute_result"
    }
   ],
   "source": [
    "# check the column names\n",
    "bangladesh.columns"
   ]
  },
  {
   "cell_type": "code",
   "execution_count": 117,
   "metadata": {},
   "outputs": [
    {
     "data": {
      "text/plain": [
       "name                        2\n",
       "visa_number                 3\n",
       "id                          2\n",
       "date_of_birth             520\n",
       "address_phone_number       50\n",
       "specifications             44\n",
       "date_of_submission         17\n",
       "office                     44\n",
       "condition                  42\n",
       "maid_name                 545\n",
       "Date_of_implementation    546\n",
       "arrival_date              336\n",
       "note                       40\n",
       "dtype: int64"
      ]
     },
     "execution_count": 117,
     "metadata": {},
     "output_type": "execute_result"
    }
   ],
   "source": [
    "# check the null values per column\n",
    "bangladesh.isnull().sum()"
   ]
  },
  {
   "cell_type": "code",
   "execution_count": 118,
   "metadata": {},
   "outputs": [],
   "source": [
    "# drop columns when null values are a lot\n",
    "bangladesh.drop(columns=['date_of_birth', 'date_of_submission', 'maid_name', 'Date_of_implementation', 'arrival_date', 'note', 'condition'], inplace=True)"
   ]
  },
  {
   "cell_type": "code",
   "execution_count": 119,
   "metadata": {},
   "outputs": [
    {
     "data": {
      "text/html": [
       "<div>\n",
       "<style scoped>\n",
       "    .dataframe tbody tr th:only-of-type {\n",
       "        vertical-align: middle;\n",
       "    }\n",
       "\n",
       "    .dataframe tbody tr th {\n",
       "        vertical-align: top;\n",
       "    }\n",
       "\n",
       "    .dataframe thead th {\n",
       "        text-align: right;\n",
       "    }\n",
       "</style>\n",
       "<table border=\"1\" class=\"dataframe\">\n",
       "  <thead>\n",
       "    <tr style=\"text-align: right;\">\n",
       "      <th></th>\n",
       "      <th>name</th>\n",
       "      <th>visa_number</th>\n",
       "      <th>id</th>\n",
       "      <th>address_phone_number</th>\n",
       "      <th>specifications</th>\n",
       "      <th>office</th>\n",
       "    </tr>\n",
       "  </thead>\n",
       "  <tbody>\n",
       "    <tr>\n",
       "      <th>0</th>\n",
       "      <td>خالد محمد جمعان المالكي</td>\n",
       "      <td>1800025194</td>\n",
       "      <td>1054846645</td>\n",
       "      <td>الرياض - حي العريجاء هاتف 0544863487</td>\n",
       "      <td>مقبولة الشكل العمر من 25 الى 35</td>\n",
       "      <td>D</td>\n",
       "    </tr>\n",
       "    <tr>\n",
       "      <th>1</th>\n",
       "      <td>حجي عسوج الشمري</td>\n",
       "      <td>1104303794</td>\n",
       "      <td>1034719789</td>\n",
       "      <td>الرياض - حي النسيم هاتف  0566266617</td>\n",
       "      <td>مقبولة الشكل العمر من 25 الى 35</td>\n",
       "      <td>D</td>\n",
       "    </tr>\n",
       "    <tr>\n",
       "      <th>2</th>\n",
       "      <td>مسعود فرج العتيبي</td>\n",
       "      <td>1104304960</td>\n",
       "      <td>1002211058</td>\n",
       "      <td>الرياض-حي السعاده 0555419630</td>\n",
       "      <td>مقبولة الشكل العمر من 25 الى 35</td>\n",
       "      <td>D</td>\n",
       "    </tr>\n",
       "    <tr>\n",
       "      <th>3</th>\n",
       "      <td>ماجد عبود القحطاني</td>\n",
       "      <td>1104298913</td>\n",
       "      <td>1016030874</td>\n",
       "      <td>الرياض-حي الرمال هاتف 0506865754</td>\n",
       "      <td>مقبولة الشكل العمر من 25 الى 35</td>\n",
       "      <td>A</td>\n",
       "    </tr>\n",
       "    <tr>\n",
       "      <th>4</th>\n",
       "      <td>عبدالرحمن عبود القحطاني</td>\n",
       "      <td>3100056928</td>\n",
       "      <td>1016030833</td>\n",
       "      <td>الرياض-حي الرمال هاتف 0506865754</td>\n",
       "      <td>مقبولة الشكل العمر من 25 الى 35</td>\n",
       "      <td>D</td>\n",
       "    </tr>\n",
       "    <tr>\n",
       "      <th>5</th>\n",
       "      <td>عبدالله علي الشهري</td>\n",
       "      <td>3100056880</td>\n",
       "      <td>1004780639</td>\n",
       "      <td>تبوك-المدينه العسكريه هاتف 0555380006</td>\n",
       "      <td>مقبولة الشكل العمر من 25 الى 35</td>\n",
       "      <td>D</td>\n",
       "    </tr>\n",
       "    <tr>\n",
       "      <th>6</th>\n",
       "      <td>فاطمه جروان محمد علي</td>\n",
       "      <td>1104300022</td>\n",
       "      <td>1050150869</td>\n",
       "      <td>الرياض البديعه شارع ابن الجوزي هاتف 0549444778...</td>\n",
       "      <td>مسلمه - مقبولة الشكل - رعاية الأطفال بسبب العمل</td>\n",
       "      <td>D</td>\n",
       "    </tr>\n",
       "    <tr>\n",
       "      <th>7</th>\n",
       "      <td>فاطمه سعيد علي القحطاني</td>\n",
       "      <td>5100166187</td>\n",
       "      <td>1095703334</td>\n",
       "      <td>أبها - حي النسيم بجوار مستشفى الولاده هاتف 054...</td>\n",
       "      <td>مقبولة الشكل العمر من 25 الى 35</td>\n",
       "      <td>D</td>\n",
       "    </tr>\n",
       "  </tbody>\n",
       "</table>\n",
       "</div>"
      ],
      "text/plain": [
       "                      name visa_number          id  \\\n",
       "0  خالد محمد جمعان المالكي  1800025194  1054846645   \n",
       "1          حجي عسوج الشمري  1104303794  1034719789   \n",
       "2        مسعود فرج العتيبي  1104304960  1002211058   \n",
       "3      ماجد عبود القحطاني   1104298913  1016030874   \n",
       "4  عبدالرحمن عبود القحطاني  3100056928  1016030833   \n",
       "5       عبدالله علي الشهري  3100056880  1004780639   \n",
       "6     فاطمه جروان محمد علي  1104300022  1050150869   \n",
       "7  فاطمه سعيد علي القحطاني  5100166187  1095703334   \n",
       "\n",
       "                                address_phone_number  \\\n",
       "0               الرياض - حي العريجاء هاتف 0544863487   \n",
       "1                الرياض - حي النسيم هاتف  0566266617   \n",
       "2                       الرياض-حي السعاده 0555419630   \n",
       "3                   الرياض-حي الرمال هاتف 0506865754   \n",
       "4                   الرياض-حي الرمال هاتف 0506865754   \n",
       "5              تبوك-المدينه العسكريه هاتف 0555380006   \n",
       "6  الرياض البديعه شارع ابن الجوزي هاتف 0549444778...   \n",
       "7  أبها - حي النسيم بجوار مستشفى الولاده هاتف 054...   \n",
       "\n",
       "                                    specifications office  \n",
       "0                  مقبولة الشكل العمر من 25 الى 35      D  \n",
       "1                  مقبولة الشكل العمر من 25 الى 35      D  \n",
       "2                  مقبولة الشكل العمر من 25 الى 35      D  \n",
       "3                  مقبولة الشكل العمر من 25 الى 35      A  \n",
       "4                  مقبولة الشكل العمر من 25 الى 35      D  \n",
       "5                  مقبولة الشكل العمر من 25 الى 35      D  \n",
       "6  مسلمه - مقبولة الشكل - رعاية الأطفال بسبب العمل      D  \n",
       "7                  مقبولة الشكل العمر من 25 الى 35      D  "
      ]
     },
     "execution_count": 119,
     "metadata": {},
     "output_type": "execute_result"
    }
   ],
   "source": [
    "# print the head od the dataframe after doing some cleaning\n",
    "bangladesh.head(8)"
   ]
  },
  {
   "cell_type": "code",
   "execution_count": 120,
   "metadata": {},
   "outputs": [],
   "source": [
    "# drop row if all values are null\n",
    "bangladesh.dropna(how='all', inplace=True)"
   ]
  },
  {
   "cell_type": "code",
   "execution_count": 121,
   "metadata": {},
   "outputs": [
    {
     "data": {
      "text/plain": [
       "(678, 6)"
      ]
     },
     "execution_count": 121,
     "metadata": {},
     "output_type": "execute_result"
    }
   ],
   "source": [
    "# check the shape of the data after doing some cleaning\n",
    "bangladesh.shape"
   ]
  },
  {
   "cell_type": "code",
   "execution_count": 122,
   "metadata": {},
   "outputs": [],
   "source": [
    "# could hash the dataframe columns\n",
    "# bangladesh.name = hash_pandas_object(bangladesh.name)\n",
    "# bangladesh.head()"
   ]
  },
  {
   "cell_type": "markdown",
   "metadata": {},
   "source": [
    "## **In the following cells, we'll do feature engineering**"
   ]
  },
  {
   "cell_type": "markdown",
   "metadata": {},
   "source": [
    "# extract phone number"
   ]
  },
  {
   "cell_type": "code",
   "execution_count": 123,
   "metadata": {},
   "outputs": [],
   "source": [
    "# get the digit out of the address_phone_number column\n",
    "bangladesh_phone_number = bangladesh.address_phone_number.str.findall(r'\\d+')\n",
    "\n",
    "# function to extract list of items into string separated by comma\n",
    "def extract_phone_number(x):\n",
    "    # try clause in case something unexpected happens \n",
    "    try :\n",
    "        # check the length of the item in the list, all phone numbers are 10 digits\n",
    "        # so if the item is less that that, then don't include it in the new string\n",
    "        for item in x:\n",
    "            # phone number here in Saudi are 10 digits, so if the length of the digits is less than 5, then return nan\n",
    "            if len(item) < 5:\n",
    "                return np.nan\n",
    "        # and if the cell is not empty cell, we'll return the value\n",
    "        if x != []:\n",
    "            return \",\".join(x)\n",
    "        # else, return nan, means none of the condition is met\n",
    "        else:\n",
    "            return np.nan\n",
    "    # if something unexpected happens, return nan\n",
    "    except:\n",
    "        return np.nan\n",
    "    \n",
    "# create a new column of phone number\n",
    "bangladesh['phone_number'] = bangladesh_phone_number.apply(extract_phone_number)"
   ]
  },
  {
   "cell_type": "markdown",
   "metadata": {},
   "source": [
    "# extract city from bangladesh data"
   ]
  },
  {
   "cell_type": "code",
   "execution_count": 124,
   "metadata": {},
   "outputs": [],
   "source": [
    "# extract city from the address_phone_number column\n",
    "def extract_city_bangladesh(value):\n",
    "    # instantiate an empty list\n",
    "    city = []\n",
    "    # always have a try except bluck in case something out of control happens\n",
    "    try:\n",
    "        # loop through the cell separating it by space\n",
    "        for i in value.split(' '):\n",
    "            # assign the first string which supposed to be a city to a variable named the city\n",
    "            the_city = value.split(' ')[0]\n",
    "            # in case the city is not in the expected location, we want to check if the string is not digit, then we'll append it to the list\n",
    "            # that we'll return at the end\n",
    "            if the_city.isdigit() != True:\n",
    "                # append the string 'city' to the list\n",
    "                city.append(the_city.split('-')[0])\n",
    "            break\n",
    "        # join all city together and separate them by comma    \n",
    "        city = \",\".join(city)\n",
    "    # if unexpected thing happend, return nan\n",
    "    except:\n",
    "         return np.nan\n",
    "    # return the city list which contains all city\n",
    "    return city\n",
    "# create a new column for city that we extracted from the address_phone_number column\n",
    "bangladesh['city'] = bangladesh['address_phone_number'].apply(extract_city_bangladesh)"
   ]
  },
  {
   "cell_type": "markdown",
   "metadata": {},
   "source": [
    "# extract neighbor bangladesh"
   ]
  },
  {
   "cell_type": "code",
   "execution_count": 125,
   "metadata": {},
   "outputs": [],
   "source": [
    "# extract neighbor from the address_phone_number column\n",
    "def extract_neighbor_bangladesh(value):\n",
    "    # unwanted words that I found within the whole columns\n",
    "    unwanted_words = ['1', '2', '3', '4', '5', '6', '7', '8', '9', '10', 'بديله', 'لم', 'راشد', 'هاتف', '.', '\\n']\n",
    "    # instantiate an empty list\n",
    "    neighbor = []\n",
    "    # always have a try except bluck in case something out of control happens\n",
    "    try:\n",
    "        # loop through cell passing the first index since it will always have the city\n",
    "        for i in value.split(' ')[1:]:\n",
    "                # since every neighbor starts with two unique letters, I set them in an if-statement\n",
    "            if i.strip().isdigit() == False and i != '-' and len(i) > 2 and i not in unwanted_words and re.findall('^\\w',i):\n",
    "                # append the neighbor to the neighbor list\n",
    "                neighbor.append(i)\n",
    "                break\n",
    "        # make the list as one string splitting it b comma        \n",
    "        neighbor = \",\".join(neighbor)\n",
    "    # if something unexpected happens, then return nan\n",
    "    except:\n",
    "         return np.nan\n",
    "    # return the neighbor list so that we can create a new column in our dataframe\n",
    "    return neighbor\n",
    "# Create a new column of neighbors\n",
    "bangladesh['neighbor'] = bangladesh['address_phone_number'].apply(extract_neighbor_bangladesh)\n",
    "\n",
    "# since I discovered that neighbors have inconsistent string, I do another extraction to extract the accurate ones\n",
    "new_neighbor_list = []\n",
    "# iterate through the neighbor column\n",
    "for i in bangladesh['neighbor']:\n",
    "# within the try block, check if the neighbor starts with two specific character which all neighbors in saudi starts with\n",
    "    try:\n",
    "        if \"ال\" in i or len(i) > 4:\n",
    "            # if the string starts with the two specified character, then append it to the new list\n",
    "            new_neighbor_list.append(i)\n",
    "    # if not, then append nan which means no neighbor was founded\n",
    "    except:\n",
    "        new_neighbor_list.append(np.nan)\n",
    "\n",
    "# convert the new neighbor list to a pandas series so that we can assign it to the neighbor column\n",
    "bangladesh['neighbor'] = pd.Series(new_neighbor_list)"
   ]
  },
  {
   "cell_type": "markdown",
   "metadata": {},
   "source": [
    "# Use Python vectorization technique to extract some features"
   ]
  },
  {
   "cell_type": "code",
   "execution_count": 126,
   "metadata": {},
   "outputs": [],
   "source": [
    "# splitting the specifications column into multiple columns with values 0s and 1s, \n",
    "# and then create another columns when two related columns have the value False\n",
    "\n",
    "# method to pass in a word and a cell and returns True False values if the string exists in the specified cell\n",
    "def word_in_col(word, x):\n",
    "    try : \n",
    "        # return True if the string is in the cell\n",
    "        return word in x\n",
    "    except:\n",
    "        # return False if the string is not in the cell\n",
    "        return False\n",
    "\n",
    "    \n",
    "# extract appearance with True and False values. True if the client specified appearance in the request form    \n",
    "bangladesh['appearance'] = bangladesh.specifications.str.contains('حسنة المظهر', 'مقبولة الشكل').astype(bool)\n",
    "\n",
    "# extract experience with True and False values. True if the client specified that the maid has experience in the request form    \n",
    "bangladesh['have_wokred'] = bangladesh.specifications.str.contains('سبق لها').astype(bool)\n",
    "\n",
    "# extract experience with True and False values. True if the client specified that the maid has no experience in the request form    \n",
    "bangladesh['no_experience'] = bangladesh.specifications.str.contains('جديدة', 'يسبق').astype(bool)\n",
    "\n",
    "# extract experience with True and False values. True if the client did not specified that the maid has nor does not have experience in the request form    \n",
    "bangladesh['experience_not_specified'] = (~bangladesh['no_experience']) & (~bangladesh['have_wokred'])\n",
    "\n",
    "# extract good with kids with True and False values. True if the client did not specified that the maid is okay with dealing with kids in the request form    \n",
    "bangladesh['good_with_kids'] = bangladesh.specifications.str.contains('أطفال').astype(bool)\n",
    "\n",
    "# extract good with elderly with True and False values. True if the client did not specified that the maid is okay with dealing with elderly in the request form\n",
    "bangladesh['good_with_elderly'] = bangladesh.specifications.str.contains('رعاية', 'السن').astype(bool)\n",
    "\n",
    "\n",
    "# making two masks with True and False values.\n",
    "# in the first mask, we specified that we want the value to be True if the word muslim is in the cell\n",
    "mask_muslim = bangladesh.specifications.apply(lambda x: word_in_col(\"مسلم\", x))\n",
    "\n",
    "# in the second mask, we specified that we want the value to be True if the word not-muslim is in the cell\n",
    "mask_not_muslim = bangladesh.specifications.apply(lambda x: word_in_col(\"غير مسلم\", x))\n",
    "\n",
    "# create a column named muslim if the mask is True when we specified that muslim return True\n",
    "bangladesh['muslim'] = (mask_muslim & ~mask_not_muslim)\n",
    "\n",
    "# create a column named not_muslim if the mask is True when we specified that not-muslim return True\n",
    "bangladesh['not_muslim'] =  mask_not_muslim\n",
    "\n",
    "# create a column named religion not specified if the mask is not True when we did not specified that religion\n",
    "bangladesh['religion_not_specified'] =  ~mask_muslim \n",
    "\n",
    "# making two masks with True and False values.\n",
    "# in the first mask, we specified that we want the value to be True if the word marrid is in the cell\n",
    "mask_marrid = bangladesh.specifications.apply(lambda x: word_in_col(\"متزوج\", x))\n",
    "\n",
    "# in the second mask, we specified that we want the value to be True if the word marrid is in the cell\n",
    "mask_not_marrid = bangladesh.specifications.apply(lambda x: word_in_col(\"غير متزوج\", x))\n",
    "\n",
    "# create a column named marrid if the mask is True when we specified that marrid return True\n",
    "bangladesh['marrid'] = (mask_marrid & ~mask_not_marrid)\n",
    "\n",
    "# create a column named not_marrid if the mask is True when we specified that not-marrid return True\n",
    "bangladesh['not_marrid'] =  mask_not_marrid\n",
    "\n",
    "# create a column named status not specified if the mask is not True when we did not specified that status\n",
    "bangladesh['status_not_specified'] =  ~mask_marrid "
   ]
  },
  {
   "cell_type": "markdown",
   "metadata": {},
   "source": [
    "**check specifications column and replace every occurrence of the word  الى |  من which corresponds to 'from' and 'to' we'll convert every occurrence of these two to - 'dash' so that we can extract the age range easily**"
   ]
  },
  {
   "cell_type": "code",
   "execution_count": 127,
   "metadata": {},
   "outputs": [],
   "source": [
    "# instantiate a new list of specifications with the age being in the right way  \n",
    "new_specifications = []\n",
    "\n",
    "# iterate through each row of the specifications\n",
    "for i in bangladesh.specifications.values:\n",
    "    # always have a try block, to check if the given string does exist in the cell\n",
    "    try:\n",
    "        # whenever you find the specified character, replace it with dash and append it to the list\n",
    "        if 'الى' in i:\n",
    "            new_specifications.append(i.replace('الى','-'))\n",
    "        # whenever you find the specified character, replace it with dash and append it to the list\n",
    "        elif 'من' in i:\n",
    "            new_specifications.append(i.replace('من', '-'))\n",
    "        # if we don't find the specified character, then we'll append the character the wasy it is\n",
    "        else:\n",
    "            new_specifications.append(i)\n",
    "    # if something unexpected happens, then return the cell as it is\n",
    "    except:\n",
    "        new_specifications.append(i)\n",
    "\n",
    "# replace the specifications column values with the new vlaues after converting the new list to a pandas series\n",
    "bangladesh.specifications = pd.Series(new_specifications)"
   ]
  },
  {
   "cell_type": "markdown",
   "metadata": {},
   "source": [
    "# extract age range from bangladesh data"
   ]
  },
  {
   "cell_type": "code",
   "execution_count": 128,
   "metadata": {},
   "outputs": [],
   "source": [
    "# extract age range from the specifications column\n",
    "def extract_age_range_bangladesh(value):\n",
    "    \n",
    "    \"\"\"\n",
    "    now since we did some cleaning to the specification column so that it can help us extract the age range easily,\n",
    "    we'll extract the age range\n",
    "    \"\"\"\n",
    "    \n",
    "    # instantiate a new age range list\n",
    "    age_range = []\n",
    "    # always have a try block \n",
    "    try:\n",
    "        # split the cell by space \n",
    "        for i in value.split(' '):\n",
    "            # check if the string is digit, which means it is an age\n",
    "            if i.isdigit() == True:\n",
    "                # if you find two age ranges, then append them to the list\n",
    "                age_range.append(i)\n",
    "        # split the age ranges by a dash symbol \n",
    "        age_range = \"-\".join(age_range)\n",
    "    # if something unexpected happens, then return a nan\n",
    "    except:\n",
    "         return np.nan\n",
    "    # return the age ranges list\n",
    "    return age_range\n",
    "\n",
    "# create a new column which would contains the age ranges that we extracted from the specification columns\n",
    "bangladesh['age_range'] = bangladesh['specifications'].apply(extract_age_range_bangladesh)"
   ]
  },
  {
   "cell_type": "markdown",
   "metadata": {},
   "source": [
    "# extract family name bangladesh"
   ]
  },
  {
   "cell_type": "code",
   "execution_count": 129,
   "metadata": {},
   "outputs": [],
   "source": [
    "def extract_family_name_bangladesh(value):\n",
    "    \"\"\"\n",
    "    since we have a name column, we'll extract the last name which is the family name.\n",
    "    \"\"\"\n",
    "    # try block in case something unexpected happens\n",
    "    try:\n",
    "        # check if the last string in the cell is not a digit\n",
    "        if value.split(' ')[-1] != '' and value.split(' ')[-1].isdigit() != True:\n",
    "            # if the condition is true, then we'll return the string\n",
    "            return value.split(' ')[-1]\n",
    "        # else, we'll check the same condition with the two to the last string \n",
    "        elif value.split(' ')[-2].isdigit() != True:\n",
    "            # if the condition is true, then we'll return the string\n",
    "            return value.split(' ')[-2]\n",
    "        # if the condition is not met, then we'll return nan\n",
    "        else:\n",
    "            return np.nan\n",
    "    # if something unexpected happens, then we'll return nan\n",
    "    except:\n",
    "        return np.nan\n",
    "# create a new column with the family name extracted fromt the name column\n",
    "bangladesh['family_name'] = bangladesh['name'].apply(extract_family_name_bangladesh)"
   ]
  },
  {
   "cell_type": "code",
   "execution_count": 130,
   "metadata": {},
   "outputs": [
    {
     "data": {
      "text/plain": [
       "name                        object\n",
       "visa_number                 object\n",
       "id                          object\n",
       "address_phone_number        object\n",
       "specifications              object\n",
       "office                      object\n",
       "phone_number                object\n",
       "city                        object\n",
       "neighbor                    object\n",
       "appearance                    bool\n",
       "have_wokred                   bool\n",
       "no_experience                 bool\n",
       "experience_not_specified      bool\n",
       "good_with_kids                bool\n",
       "good_with_elderly             bool\n",
       "muslim                        bool\n",
       "not_muslim                    bool\n",
       "religion_not_specified        bool\n",
       "marrid                        bool\n",
       "not_marrid                    bool\n",
       "status_not_specified          bool\n",
       "age_range                   object\n",
       "family_name                 object\n",
       "dtype: object"
      ]
     },
     "execution_count": 130,
     "metadata": {},
     "output_type": "execute_result"
    }
   ],
   "source": [
    "# print the data after creating new columns\n",
    "bangladesh.dtypes"
   ]
  },
  {
   "cell_type": "code",
   "execution_count": 131,
   "metadata": {},
   "outputs": [],
   "source": [
    "# drop the original columns\n",
    "bangladesh.drop(['name', 'address_phone_number', 'specifications', 'phone_number', 'neighbor'], axis=1, inplace=True)"
   ]
  },
  {
   "cell_type": "code",
   "execution_count": 132,
   "metadata": {},
   "outputs": [
    {
     "data": {
      "text/plain": [
       "(678, 18)"
      ]
     },
     "execution_count": 132,
     "metadata": {},
     "output_type": "execute_result"
    }
   ],
   "source": [
    "# check the shape of the data\n",
    "bangladesh.shape"
   ]
  },
  {
   "cell_type": "code",
   "execution_count": 133,
   "metadata": {},
   "outputs": [],
   "source": [
    "# drop rows if all columns are null\n",
    "bangladesh.dropna(how='all', inplace=True)"
   ]
  },
  {
   "cell_type": "code",
   "execution_count": 134,
   "metadata": {},
   "outputs": [
    {
     "data": {
      "text/plain": [
       "(678, 18)"
      ]
     },
     "execution_count": 134,
     "metadata": {},
     "output_type": "execute_result"
    }
   ],
   "source": [
    "# check the shape of the data after dropping null rows\n",
    "bangladesh.shape"
   ]
  },
  {
   "cell_type": "code",
   "execution_count": 135,
   "metadata": {},
   "outputs": [
    {
     "data": {
      "text/html": [
       "<div>\n",
       "<style scoped>\n",
       "    .dataframe tbody tr th:only-of-type {\n",
       "        vertical-align: middle;\n",
       "    }\n",
       "\n",
       "    .dataframe tbody tr th {\n",
       "        vertical-align: top;\n",
       "    }\n",
       "\n",
       "    .dataframe thead th {\n",
       "        text-align: right;\n",
       "    }\n",
       "</style>\n",
       "<table border=\"1\" class=\"dataframe\">\n",
       "  <thead>\n",
       "    <tr style=\"text-align: right;\">\n",
       "      <th></th>\n",
       "      <th>visa_number</th>\n",
       "      <th>id</th>\n",
       "      <th>office</th>\n",
       "      <th>city</th>\n",
       "      <th>appearance</th>\n",
       "      <th>have_wokred</th>\n",
       "      <th>no_experience</th>\n",
       "      <th>experience_not_specified</th>\n",
       "      <th>good_with_kids</th>\n",
       "      <th>good_with_elderly</th>\n",
       "      <th>muslim</th>\n",
       "      <th>not_muslim</th>\n",
       "      <th>religion_not_specified</th>\n",
       "      <th>marrid</th>\n",
       "      <th>not_marrid</th>\n",
       "      <th>status_not_specified</th>\n",
       "      <th>age_range</th>\n",
       "      <th>family_name</th>\n",
       "    </tr>\n",
       "  </thead>\n",
       "  <tbody>\n",
       "    <tr>\n",
       "      <th>0</th>\n",
       "      <td>1800025194</td>\n",
       "      <td>1054846645</td>\n",
       "      <td>D</td>\n",
       "      <td>الرياض</td>\n",
       "      <td>False</td>\n",
       "      <td>False</td>\n",
       "      <td>False</td>\n",
       "      <td>True</td>\n",
       "      <td>False</td>\n",
       "      <td>False</td>\n",
       "      <td>False</td>\n",
       "      <td>False</td>\n",
       "      <td>True</td>\n",
       "      <td>False</td>\n",
       "      <td>False</td>\n",
       "      <td>True</td>\n",
       "      <td>25-35</td>\n",
       "      <td>المالكي</td>\n",
       "    </tr>\n",
       "    <tr>\n",
       "      <th>1</th>\n",
       "      <td>1104303794</td>\n",
       "      <td>1034719789</td>\n",
       "      <td>D</td>\n",
       "      <td>الرياض</td>\n",
       "      <td>False</td>\n",
       "      <td>False</td>\n",
       "      <td>False</td>\n",
       "      <td>True</td>\n",
       "      <td>False</td>\n",
       "      <td>False</td>\n",
       "      <td>False</td>\n",
       "      <td>False</td>\n",
       "      <td>True</td>\n",
       "      <td>False</td>\n",
       "      <td>False</td>\n",
       "      <td>True</td>\n",
       "      <td>25-35</td>\n",
       "      <td>الشمري</td>\n",
       "    </tr>\n",
       "    <tr>\n",
       "      <th>2</th>\n",
       "      <td>1104304960</td>\n",
       "      <td>1002211058</td>\n",
       "      <td>D</td>\n",
       "      <td>الرياض</td>\n",
       "      <td>False</td>\n",
       "      <td>False</td>\n",
       "      <td>False</td>\n",
       "      <td>True</td>\n",
       "      <td>False</td>\n",
       "      <td>False</td>\n",
       "      <td>False</td>\n",
       "      <td>False</td>\n",
       "      <td>True</td>\n",
       "      <td>False</td>\n",
       "      <td>False</td>\n",
       "      <td>True</td>\n",
       "      <td>25-35</td>\n",
       "      <td>العتيبي</td>\n",
       "    </tr>\n",
       "    <tr>\n",
       "      <th>3</th>\n",
       "      <td>1104298913</td>\n",
       "      <td>1016030874</td>\n",
       "      <td>A</td>\n",
       "      <td>الرياض</td>\n",
       "      <td>False</td>\n",
       "      <td>False</td>\n",
       "      <td>False</td>\n",
       "      <td>True</td>\n",
       "      <td>False</td>\n",
       "      <td>False</td>\n",
       "      <td>False</td>\n",
       "      <td>False</td>\n",
       "      <td>True</td>\n",
       "      <td>False</td>\n",
       "      <td>False</td>\n",
       "      <td>True</td>\n",
       "      <td>25-35</td>\n",
       "      <td>القحطاني</td>\n",
       "    </tr>\n",
       "    <tr>\n",
       "      <th>4</th>\n",
       "      <td>3100056928</td>\n",
       "      <td>1016030833</td>\n",
       "      <td>D</td>\n",
       "      <td>الرياض</td>\n",
       "      <td>False</td>\n",
       "      <td>False</td>\n",
       "      <td>False</td>\n",
       "      <td>True</td>\n",
       "      <td>False</td>\n",
       "      <td>False</td>\n",
       "      <td>False</td>\n",
       "      <td>False</td>\n",
       "      <td>True</td>\n",
       "      <td>False</td>\n",
       "      <td>False</td>\n",
       "      <td>True</td>\n",
       "      <td>25-35</td>\n",
       "      <td>القحطاني</td>\n",
       "    </tr>\n",
       "  </tbody>\n",
       "</table>\n",
       "</div>"
      ],
      "text/plain": [
       "  visa_number          id office    city  appearance  have_wokred  \\\n",
       "0  1800025194  1054846645      D  الرياض       False        False   \n",
       "1  1104303794  1034719789      D  الرياض       False        False   \n",
       "2  1104304960  1002211058      D  الرياض       False        False   \n",
       "3  1104298913  1016030874      A  الرياض       False        False   \n",
       "4  3100056928  1016030833      D  الرياض       False        False   \n",
       "\n",
       "   no_experience  experience_not_specified  good_with_kids  good_with_elderly  \\\n",
       "0          False                      True           False              False   \n",
       "1          False                      True           False              False   \n",
       "2          False                      True           False              False   \n",
       "3          False                      True           False              False   \n",
       "4          False                      True           False              False   \n",
       "\n",
       "   muslim  not_muslim  religion_not_specified  marrid  not_marrid  \\\n",
       "0   False       False                    True   False       False   \n",
       "1   False       False                    True   False       False   \n",
       "2   False       False                    True   False       False   \n",
       "3   False       False                    True   False       False   \n",
       "4   False       False                    True   False       False   \n",
       "\n",
       "   status_not_specified age_range family_name  \n",
       "0                  True     25-35     المالكي  \n",
       "1                  True     25-35      الشمري  \n",
       "2                  True     25-35     العتيبي  \n",
       "3                  True     25-35    القحطاني  \n",
       "4                  True     25-35    القحطاني  "
      ]
     },
     "execution_count": 135,
     "metadata": {},
     "output_type": "execute_result"
    }
   ],
   "source": [
    "# print the final version of our data\n",
    "bangladesh.head()"
   ]
  },
  {
   "cell_type": "code",
   "execution_count": 136,
   "metadata": {},
   "outputs": [
    {
     "data": {
      "text/plain": [
       "visa_number                  1\n",
       "id                           0\n",
       "office                      42\n",
       "city                        56\n",
       "appearance                   0\n",
       "have_wokred                  0\n",
       "no_experience                0\n",
       "experience_not_specified     0\n",
       "good_with_kids               0\n",
       "good_with_elderly            0\n",
       "muslim                       0\n",
       "not_muslim                   0\n",
       "religion_not_specified       0\n",
       "marrid                       0\n",
       "not_marrid                   0\n",
       "status_not_specified         0\n",
       "age_range                   42\n",
       "family_name                  3\n",
       "dtype: int64"
      ]
     },
     "execution_count": 136,
     "metadata": {},
     "output_type": "execute_result"
    }
   ],
   "source": [
    "# check the null values\n",
    "bangladesh.isnull().sum()"
   ]
  },
  {
   "cell_type": "markdown",
   "metadata": {},
   "source": [
    "### - The first part of preprocessing in the bangladesh data is done. Now we'll make sure that we replace any dirty value with the the value other values."
   ]
  },
  {
   "cell_type": "code",
   "execution_count": 137,
   "metadata": {},
   "outputs": [],
   "source": [
    "# bangladesh.visa_number.isnull().sum()\n",
    "bangladesh.visa_number.fillna(0, inplace=True)"
   ]
  },
  {
   "cell_type": "code",
   "execution_count": 138,
   "metadata": {},
   "outputs": [],
   "source": [
    "bangladesh.office.value_counts()\n",
    "# I replace the null values with the most frequent office 'class'\n",
    "bangladesh.office.fillna('office_not_specified', inplace=True)"
   ]
  },
  {
   "cell_type": "code",
   "execution_count": 139,
   "metadata": {},
   "outputs": [],
   "source": [
    "bangladesh.city.value_counts()\n",
    "# I replace the null values with the most frequent office 'class'\n",
    "bangladesh.city.fillna('city_not_specified', inplace=True)"
   ]
  },
  {
   "cell_type": "markdown",
   "metadata": {},
   "source": [
    "## I think that neighbor would not be useful for our model since most rows have no values for neighbor"
   ]
  },
  {
   "cell_type": "code",
   "execution_count": 140,
   "metadata": {},
   "outputs": [],
   "source": [
    "# bangladesh.neighbor.value_counts()"
   ]
  },
  {
   "cell_type": "markdown",
   "metadata": {},
   "source": [
    "## clean the extracted features"
   ]
  },
  {
   "cell_type": "code",
   "execution_count": 141,
   "metadata": {},
   "outputs": [],
   "source": [
    "# replacing age_rnges that have fewer values with the most frequent age_range 'class'\n",
    "# instantiate a new age ranges list\n",
    "new_age_range = []\n",
    "# iterate through the age ranges list\n",
    "for i in bangladesh.age_range:\n",
    "    # these the most frequent classes by ascending order\n",
    "    # if you face these ages ranges, then append them as the way they are\n",
    "    if i == '25-35' or i == '30-35' or i == '25-30' or i == '30-40' or i == '35-40':\n",
    "        new_age_range.append(i)\n",
    "    # if you find any other age ranges, then append the string 'age_not_specified'\n",
    "    else:\n",
    "        new_age_range.append('age_not_specified')\n",
    "# replace the age ranges column with the new cleaned list after is is converted to a pandas list\n",
    "bangladesh.age_range = pd.Series(new_age_range)\n",
    "# check the value counts after our final cleaning\n",
    "# bangladesh.age_range.value_counts()"
   ]
  },
  {
   "cell_type": "code",
   "execution_count": 142,
   "metadata": {},
   "outputs": [],
   "source": [
    "# make two masks: 1st: for family name that occurs less than 6 times. 2nd: strange family name\n",
    "mask_family_name_less_than_six = bangladesh.family_name.value_counts()[bangladesh.family_name.value_counts() < 6]\n",
    "mask_strange_family_name = ['عبدالله', 'المعامله', 'شاكر', 'فيصل']\n",
    "\n",
    "# apply our two masks\n",
    "bangladesh.family_name = bangladesh.family_name.apply(lambda x: 'family_not_specified' if x in mask_family_name_less_than_six or x in mask_strange_family_name else x)\n",
    "\n",
    "# check the value counts after our final cleaning\n",
    "# bangladesh.family_name.value_counts()"
   ]
  },
  {
   "cell_type": "code",
   "execution_count": 143,
   "metadata": {},
   "outputs": [],
   "source": [
    "# use loc to check replace the null values in the specified column\n",
    "bangladesh.loc[bangladesh.family_name.isnull(),\"family_name\"] = 'family_not_specified'"
   ]
  },
  {
   "cell_type": "code",
   "execution_count": 144,
   "metadata": {},
   "outputs": [
    {
     "data": {
      "text/plain": [
       "visa_number                 0\n",
       "id                          0\n",
       "office                      0\n",
       "city                        0\n",
       "appearance                  0\n",
       "have_wokred                 0\n",
       "no_experience               0\n",
       "experience_not_specified    0\n",
       "good_with_kids              0\n",
       "good_with_elderly           0\n",
       "muslim                      0\n",
       "not_muslim                  0\n",
       "religion_not_specified      0\n",
       "marrid                      0\n",
       "not_marrid                  0\n",
       "status_not_specified        0\n",
       "age_range                   0\n",
       "family_name                 0\n",
       "dtype: int64"
      ]
     },
     "execution_count": 144,
     "metadata": {},
     "output_type": "execute_result"
    }
   ],
   "source": [
    "# finally we have no null values\n",
    "bangladesh.isnull().sum()"
   ]
  },
  {
   "cell_type": "code",
   "execution_count": 145,
   "metadata": {},
   "outputs": [
    {
     "data": {
      "text/html": [
       "<div>\n",
       "<style scoped>\n",
       "    .dataframe tbody tr th:only-of-type {\n",
       "        vertical-align: middle;\n",
       "    }\n",
       "\n",
       "    .dataframe tbody tr th {\n",
       "        vertical-align: top;\n",
       "    }\n",
       "\n",
       "    .dataframe thead th {\n",
       "        text-align: right;\n",
       "    }\n",
       "</style>\n",
       "<table border=\"1\" class=\"dataframe\">\n",
       "  <thead>\n",
       "    <tr style=\"text-align: right;\">\n",
       "      <th></th>\n",
       "      <th>visa_number</th>\n",
       "      <th>id</th>\n",
       "      <th>office</th>\n",
       "      <th>city</th>\n",
       "      <th>appearance</th>\n",
       "      <th>have_wokred</th>\n",
       "      <th>no_experience</th>\n",
       "      <th>experience_not_specified</th>\n",
       "      <th>good_with_kids</th>\n",
       "      <th>good_with_elderly</th>\n",
       "      <th>muslim</th>\n",
       "      <th>not_muslim</th>\n",
       "      <th>religion_not_specified</th>\n",
       "      <th>marrid</th>\n",
       "      <th>not_marrid</th>\n",
       "      <th>status_not_specified</th>\n",
       "      <th>age_range</th>\n",
       "      <th>family_name</th>\n",
       "    </tr>\n",
       "  </thead>\n",
       "  <tbody>\n",
       "    <tr>\n",
       "      <th>0</th>\n",
       "      <td>1800025194</td>\n",
       "      <td>1054846645</td>\n",
       "      <td>D</td>\n",
       "      <td>الرياض</td>\n",
       "      <td>False</td>\n",
       "      <td>False</td>\n",
       "      <td>False</td>\n",
       "      <td>True</td>\n",
       "      <td>False</td>\n",
       "      <td>False</td>\n",
       "      <td>False</td>\n",
       "      <td>False</td>\n",
       "      <td>True</td>\n",
       "      <td>False</td>\n",
       "      <td>False</td>\n",
       "      <td>True</td>\n",
       "      <td>25-35</td>\n",
       "      <td>family_not_specified</td>\n",
       "    </tr>\n",
       "    <tr>\n",
       "      <th>1</th>\n",
       "      <td>1104303794</td>\n",
       "      <td>1034719789</td>\n",
       "      <td>D</td>\n",
       "      <td>الرياض</td>\n",
       "      <td>False</td>\n",
       "      <td>False</td>\n",
       "      <td>False</td>\n",
       "      <td>True</td>\n",
       "      <td>False</td>\n",
       "      <td>False</td>\n",
       "      <td>False</td>\n",
       "      <td>False</td>\n",
       "      <td>True</td>\n",
       "      <td>False</td>\n",
       "      <td>False</td>\n",
       "      <td>True</td>\n",
       "      <td>25-35</td>\n",
       "      <td>الشمري</td>\n",
       "    </tr>\n",
       "    <tr>\n",
       "      <th>2</th>\n",
       "      <td>1104304960</td>\n",
       "      <td>1002211058</td>\n",
       "      <td>D</td>\n",
       "      <td>الرياض</td>\n",
       "      <td>False</td>\n",
       "      <td>False</td>\n",
       "      <td>False</td>\n",
       "      <td>True</td>\n",
       "      <td>False</td>\n",
       "      <td>False</td>\n",
       "      <td>False</td>\n",
       "      <td>False</td>\n",
       "      <td>True</td>\n",
       "      <td>False</td>\n",
       "      <td>False</td>\n",
       "      <td>True</td>\n",
       "      <td>25-35</td>\n",
       "      <td>العتيبي</td>\n",
       "    </tr>\n",
       "    <tr>\n",
       "      <th>3</th>\n",
       "      <td>1104298913</td>\n",
       "      <td>1016030874</td>\n",
       "      <td>A</td>\n",
       "      <td>الرياض</td>\n",
       "      <td>False</td>\n",
       "      <td>False</td>\n",
       "      <td>False</td>\n",
       "      <td>True</td>\n",
       "      <td>False</td>\n",
       "      <td>False</td>\n",
       "      <td>False</td>\n",
       "      <td>False</td>\n",
       "      <td>True</td>\n",
       "      <td>False</td>\n",
       "      <td>False</td>\n",
       "      <td>True</td>\n",
       "      <td>25-35</td>\n",
       "      <td>القحطاني</td>\n",
       "    </tr>\n",
       "    <tr>\n",
       "      <th>4</th>\n",
       "      <td>3100056928</td>\n",
       "      <td>1016030833</td>\n",
       "      <td>D</td>\n",
       "      <td>الرياض</td>\n",
       "      <td>False</td>\n",
       "      <td>False</td>\n",
       "      <td>False</td>\n",
       "      <td>True</td>\n",
       "      <td>False</td>\n",
       "      <td>False</td>\n",
       "      <td>False</td>\n",
       "      <td>False</td>\n",
       "      <td>True</td>\n",
       "      <td>False</td>\n",
       "      <td>False</td>\n",
       "      <td>True</td>\n",
       "      <td>25-35</td>\n",
       "      <td>القحطاني</td>\n",
       "    </tr>\n",
       "  </tbody>\n",
       "</table>\n",
       "</div>"
      ],
      "text/plain": [
       "  visa_number          id office    city  appearance  have_wokred  \\\n",
       "0  1800025194  1054846645      D  الرياض       False        False   \n",
       "1  1104303794  1034719789      D  الرياض       False        False   \n",
       "2  1104304960  1002211058      D  الرياض       False        False   \n",
       "3  1104298913  1016030874      A  الرياض       False        False   \n",
       "4  3100056928  1016030833      D  الرياض       False        False   \n",
       "\n",
       "   no_experience  experience_not_specified  good_with_kids  good_with_elderly  \\\n",
       "0          False                      True           False              False   \n",
       "1          False                      True           False              False   \n",
       "2          False                      True           False              False   \n",
       "3          False                      True           False              False   \n",
       "4          False                      True           False              False   \n",
       "\n",
       "   muslim  not_muslim  religion_not_specified  marrid  not_marrid  \\\n",
       "0   False       False                    True   False       False   \n",
       "1   False       False                    True   False       False   \n",
       "2   False       False                    True   False       False   \n",
       "3   False       False                    True   False       False   \n",
       "4   False       False                    True   False       False   \n",
       "\n",
       "   status_not_specified age_range           family_name  \n",
       "0                  True     25-35  family_not_specified  \n",
       "1                  True     25-35                الشمري  \n",
       "2                  True     25-35               العتيبي  \n",
       "3                  True     25-35              القحطاني  \n",
       "4                  True     25-35              القحطاني  "
      ]
     },
     "execution_count": 145,
     "metadata": {},
     "output_type": "execute_result"
    }
   ],
   "source": [
    "# print the head of the dataframe after it's cleaned\n",
    "bangladesh.head()"
   ]
  },
  {
   "cell_type": "code",
   "execution_count": 146,
   "metadata": {},
   "outputs": [
    {
     "data": {
      "text/plain": [
       "['visa_number',\n",
       " 'id',\n",
       " 'office',\n",
       " 'city',\n",
       " 'appearance',\n",
       " 'have_wokred',\n",
       " 'no_experience',\n",
       " 'experience_not_specified',\n",
       " 'good_with_kids',\n",
       " 'good_with_elderly',\n",
       " 'muslim',\n",
       " 'not_muslim',\n",
       " 'religion_not_specified',\n",
       " 'marrid',\n",
       " 'not_marrid',\n",
       " 'status_not_specified',\n",
       " 'age_range',\n",
       " 'family_name']"
      ]
     },
     "execution_count": 146,
     "metadata": {},
     "output_type": "execute_result"
    }
   ],
   "source": [
    "list(bangladesh.columns)"
   ]
  },
  {
   "cell_type": "markdown",
   "metadata": {},
   "source": [
    "# 2) cleaning Philippines data"
   ]
  },
  {
   "cell_type": "code",
   "execution_count": 147,
   "metadata": {},
   "outputs": [
    {
     "data": {
      "text/html": [
       "<div>\n",
       "<style scoped>\n",
       "    .dataframe tbody tr th:only-of-type {\n",
       "        vertical-align: middle;\n",
       "    }\n",
       "\n",
       "    .dataframe tbody tr th {\n",
       "        vertical-align: top;\n",
       "    }\n",
       "\n",
       "    .dataframe thead th {\n",
       "        text-align: right;\n",
       "    }\n",
       "</style>\n",
       "<table border=\"1\" class=\"dataframe\">\n",
       "  <thead>\n",
       "    <tr style=\"text-align: right;\">\n",
       "      <th></th>\n",
       "      <th>0</th>\n",
       "      <th>1</th>\n",
       "      <th>2</th>\n",
       "      <th>3</th>\n",
       "      <th>4</th>\n",
       "      <th>5</th>\n",
       "      <th>6</th>\n",
       "      <th>7</th>\n",
       "      <th>8</th>\n",
       "      <th>9</th>\n",
       "      <th>10</th>\n",
       "      <th>11</th>\n",
       "      <th>12</th>\n",
       "      <th>13</th>\n",
       "      <th>14</th>\n",
       "      <th>15</th>\n",
       "      <th>16</th>\n",
       "      <th>17</th>\n",
       "      <th>18</th>\n",
       "      <th>19</th>\n",
       "    </tr>\n",
       "  </thead>\n",
       "  <tbody>\n",
       "    <tr>\n",
       "      <th>0</th>\n",
       "      <td>NaN</td>\n",
       "      <td>NaN</td>\n",
       "      <td>NaN</td>\n",
       "      <td>NaN</td>\n",
       "      <td>NaN</td>\n",
       "      <td>NaN</td>\n",
       "      <td>NaN</td>\n",
       "      <td>NaN</td>\n",
       "      <td>NaN</td>\n",
       "      <td>NaN</td>\n",
       "      <td>NaN</td>\n",
       "      <td>NaN</td>\n",
       "      <td>NaN</td>\n",
       "      <td>NaN</td>\n",
       "      <td>NaN</td>\n",
       "      <td>NaN</td>\n",
       "      <td>NaN</td>\n",
       "      <td>NaN</td>\n",
       "      <td>NaN</td>\n",
       "      <td>NaN</td>\n",
       "    </tr>\n",
       "    <tr>\n",
       "      <th>1</th>\n",
       "      <td>NaN</td>\n",
       "      <td>متابعة معاملات دولة الفلبين</td>\n",
       "      <td>NaN</td>\n",
       "      <td>NaN</td>\n",
       "      <td>NaN</td>\n",
       "      <td>NaN</td>\n",
       "      <td>NaN</td>\n",
       "      <td>NaN</td>\n",
       "      <td>NaN</td>\n",
       "      <td>NaN</td>\n",
       "      <td>NaN</td>\n",
       "      <td>NaN</td>\n",
       "      <td>NaN</td>\n",
       "      <td>NaN</td>\n",
       "      <td>NaN</td>\n",
       "      <td>NaN</td>\n",
       "      <td>NaN</td>\n",
       "      <td>NaN</td>\n",
       "      <td>NaN</td>\n",
       "      <td>NaN</td>\n",
       "    </tr>\n",
       "  </tbody>\n",
       "</table>\n",
       "</div>"
      ],
      "text/plain": [
       "    0                            1    2    3    4    5    6    7    8    9   \\\n",
       "0  NaN                          NaN  NaN  NaN  NaN  NaN  NaN  NaN  NaN  NaN   \n",
       "1  NaN  متابعة معاملات دولة الفلبين  NaN  NaN  NaN  NaN  NaN  NaN  NaN  NaN   \n",
       "\n",
       "    10   11   12   13   14  15  16  17   18   19  \n",
       "0  NaN  NaN  NaN  NaN  NaN NaN NaN NaN  NaN  NaN  \n",
       "1  NaN  NaN  NaN  NaN  NaN NaN NaN NaN  NaN  NaN  "
      ]
     },
     "execution_count": 147,
     "metadata": {},
     "output_type": "execute_result"
    }
   ],
   "source": [
    "# print the head of the data\n",
    "philippines.head(2)"
   ]
  },
  {
   "cell_type": "code",
   "execution_count": 148,
   "metadata": {},
   "outputs": [],
   "source": [
    "# drop the first three rows since that they have no values\n",
    "philippines.drop(bangladesh.index[:3], inplace=True)"
   ]
  },
  {
   "cell_type": "code",
   "execution_count": 149,
   "metadata": {},
   "outputs": [],
   "source": [
    "# set the first row to be our columns names\n",
    "philippines.rename(columns=philippines.iloc[0], inplace=True)"
   ]
  },
  {
   "cell_type": "code",
   "execution_count": 150,
   "metadata": {},
   "outputs": [],
   "source": [
    "# drop the first row which is a duplicate of our columns names\n",
    "philippines.drop(philippines.index[:1], inplace=True)"
   ]
  },
  {
   "cell_type": "code",
   "execution_count": 151,
   "metadata": {},
   "outputs": [],
   "source": [
    "# reassign the data after droping some unuseful columns\n",
    "philippines = philippines.iloc[:, 2:-5]"
   ]
  },
  {
   "cell_type": "code",
   "execution_count": 152,
   "metadata": {},
   "outputs": [],
   "source": [
    "# reset index\n",
    "philippines.reset_index(inplace=True, drop=True)"
   ]
  },
  {
   "cell_type": "code",
   "execution_count": 153,
   "metadata": {},
   "outputs": [],
   "source": [
    "# since mostl rows at the end are null, I am going to reassign the dataframe with the none_null values one\n",
    "philippines = philippines.iloc[:222]"
   ]
  },
  {
   "cell_type": "code",
   "execution_count": 154,
   "metadata": {},
   "outputs": [],
   "source": [
    "# rename columns\n",
    "columns_translated = {'الاسم': 'name', 'رقم التأشيره': 'visa_number', 'رقم السجل': 'id', 'العنوان ': 'address',\n",
    "                   'الهاتف': 'phone_number', 'المواصفات': 'specifications', 'تاريخ التقديم': 'date_of_submission',\n",
    "                   'المكتب': 'office', 'الحالة': 'condition', 'تاريخ الوصول': 'arrival_date', 'المبلغ المدفوع': 'payed_amount',\n",
    "                   'المبلغ المتبقي': 'remaining_amount', 'ملاحظات': 'note'\n",
    "                  }\n"
   ]
  },
  {
   "cell_type": "code",
   "execution_count": 155,
   "metadata": {},
   "outputs": [],
   "source": [
    "# translate the columns from Arabic to English\n",
    "philippines.rename(columns=columns_translated, inplace=True)"
   ]
  },
  {
   "cell_type": "code",
   "execution_count": 156,
   "metadata": {},
   "outputs": [
    {
     "data": {
      "text/plain": [
       "Index(['name', 'visa_number', 'id', 'address', 'phone_number',\n",
       "       'specifications', 'date_of_submission', 'office', 'condition',\n",
       "       'arrival_date', 'payed_amount', 'remaining_amount', 'note'],\n",
       "      dtype='object')"
      ]
     },
     "execution_count": 156,
     "metadata": {},
     "output_type": "execute_result"
    }
   ],
   "source": [
    "# check the column names\n",
    "philippines.columns"
   ]
  },
  {
   "cell_type": "code",
   "execution_count": 157,
   "metadata": {},
   "outputs": [
    {
     "data": {
      "text/plain": [
       "name                   0\n",
       "visa_number            0\n",
       "id                     0\n",
       "address                6\n",
       "phone_number          19\n",
       "specifications        19\n",
       "date_of_submission    18\n",
       "office                18\n",
       "condition             25\n",
       "arrival_date          36\n",
       "payed_amount          68\n",
       "remaining_amount       1\n",
       "note                  51\n",
       "dtype: int64"
      ]
     },
     "execution_count": 157,
     "metadata": {},
     "output_type": "execute_result"
    }
   ],
   "source": [
    "# check the null values per column\n",
    "philippines.isnull().sum()"
   ]
  },
  {
   "cell_type": "code",
   "execution_count": 158,
   "metadata": {},
   "outputs": [],
   "source": [
    "# drop columns when null values are a lot\n",
    "philippines.drop(columns=['date_of_submission', 'arrival_date', 'payed_amount', 'remaining_amount', 'note'], inplace=True)"
   ]
  },
  {
   "cell_type": "code",
   "execution_count": 159,
   "metadata": {},
   "outputs": [
    {
     "data": {
      "text/html": [
       "<div>\n",
       "<style scoped>\n",
       "    .dataframe tbody tr th:only-of-type {\n",
       "        vertical-align: middle;\n",
       "    }\n",
       "\n",
       "    .dataframe tbody tr th {\n",
       "        vertical-align: top;\n",
       "    }\n",
       "\n",
       "    .dataframe thead th {\n",
       "        text-align: right;\n",
       "    }\n",
       "</style>\n",
       "<table border=\"1\" class=\"dataframe\">\n",
       "  <thead>\n",
       "    <tr style=\"text-align: right;\">\n",
       "      <th></th>\n",
       "      <th>name</th>\n",
       "      <th>visa_number</th>\n",
       "      <th>id</th>\n",
       "      <th>address</th>\n",
       "      <th>phone_number</th>\n",
       "      <th>specifications</th>\n",
       "      <th>office</th>\n",
       "      <th>condition</th>\n",
       "    </tr>\n",
       "  </thead>\n",
       "  <tbody>\n",
       "    <tr>\n",
       "      <th>0</th>\n",
       "      <td>مسعود مقيت محمد الشبوي</td>\n",
       "      <td>1104381620</td>\n",
       "      <td>1013904816</td>\n",
       "      <td>الرياض - حي السويدي - شارع اسحق بن عبدالرحمن -...</td>\n",
       "      <td>NaN</td>\n",
       "      <td>جديدة/ عمر(30-38)/ مهم مسلمة - تجيد معاملة الأ...</td>\n",
       "      <td>PH</td>\n",
       "      <td>تم الوصول</td>\n",
       "    </tr>\n",
       "    <tr>\n",
       "      <th>1</th>\n",
       "      <td>مسعد سرحان عبدالله الخالدي</td>\n",
       "      <td>1104373638</td>\n",
       "      <td>1033166263</td>\n",
       "      <td>الرياض-حي الياسمين - شارع الفرعة - منزل 9/ب / ...</td>\n",
       "      <td>NaN</td>\n",
       "      <td>خبيرة- عمر (30-40) - معاملة أطفال (3)</td>\n",
       "      <td>PH</td>\n",
       "      <td>تم الوصول</td>\n",
       "    </tr>\n",
       "    <tr>\n",
       "      <th>2</th>\n",
       "      <td>مريحه سالم ال دغيش اليامي</td>\n",
       "      <td>5200101517</td>\n",
       "      <td>1025375773</td>\n",
       "      <td>الجنوب نجران - بدر الجنوب - شارع انيزة/ 056060...</td>\n",
       "      <td>NaN</td>\n",
       "      <td>عمر (35-40) رعاية  ومعاملة طيبة كبار السن/ متعلمة</td>\n",
       "      <td>PH</td>\n",
       "      <td>تم الوصول</td>\n",
       "    </tr>\n",
       "    <tr>\n",
       "      <th>3</th>\n",
       "      <td>كادي محمد بن مقعد العتيبي</td>\n",
       "      <td>1104218534</td>\n",
       "      <td>1110896246</td>\n",
       "      <td>الرياض - الخرج - حي البدع - الشارع العام/ 0555...</td>\n",
       "      <td>555101919 - 0568656050</td>\n",
       "      <td>جديدة/ العمر(30-35) تجيد معاملة الأطفال</td>\n",
       "      <td>PH</td>\n",
       "      <td>تم الوصول</td>\n",
       "    </tr>\n",
       "    <tr>\n",
       "      <th>4</th>\n",
       "      <td>علي محمد صالح الشمراني</td>\n",
       "      <td>3100050964</td>\n",
       "      <td>1023827015</td>\n",
       "      <td>تبوك</td>\n",
       "      <td>NaN</td>\n",
       "      <td>معينة - 0556447959</td>\n",
       "      <td>PH</td>\n",
       "      <td>تم الوصول</td>\n",
       "    </tr>\n",
       "  </tbody>\n",
       "</table>\n",
       "</div>"
      ],
      "text/plain": [
       "                         name visa_number          id  \\\n",
       "0      مسعود مقيت محمد الشبوي  1104381620  1013904816   \n",
       "1  مسعد سرحان عبدالله الخالدي  1104373638  1033166263   \n",
       "2   مريحه سالم ال دغيش اليامي  5200101517  1025375773   \n",
       "3   كادي محمد بن مقعد العتيبي  1104218534  1110896246   \n",
       "4      علي محمد صالح الشمراني  3100050964  1023827015   \n",
       "\n",
       "                                             address            phone_number  \\\n",
       "0  الرياض - حي السويدي - شارع اسحق بن عبدالرحمن -...                     NaN   \n",
       "1  الرياض-حي الياسمين - شارع الفرعة - منزل 9/ب / ...                     NaN   \n",
       "2  الجنوب نجران - بدر الجنوب - شارع انيزة/ 056060...                     NaN   \n",
       "3  الرياض - الخرج - حي البدع - الشارع العام/ 0555...  555101919 - 0568656050   \n",
       "4                                               تبوك                     NaN   \n",
       "\n",
       "                                      specifications office  condition  \n",
       "0  جديدة/ عمر(30-38)/ مهم مسلمة - تجيد معاملة الأ...     PH  تم الوصول  \n",
       "1             خبيرة- عمر (30-40) - معاملة أطفال (3)      PH  تم الوصول  \n",
       "2  عمر (35-40) رعاية  ومعاملة طيبة كبار السن/ متعلمة     PH  تم الوصول  \n",
       "3           جديدة/ العمر(30-35) تجيد معاملة الأطفال      PH  تم الوصول  \n",
       "4                                 معينة - 0556447959     PH  تم الوصول  "
      ]
     },
     "execution_count": 159,
     "metadata": {},
     "output_type": "execute_result"
    }
   ],
   "source": [
    "# print the data after dropping unuseful columns\n",
    "philippines.head()"
   ]
  },
  {
   "cell_type": "markdown",
   "metadata": {},
   "source": [
    "# extract phone number from philippines data"
   ]
  },
  {
   "cell_type": "code",
   "execution_count": 160,
   "metadata": {},
   "outputs": [],
   "source": [
    "# get the digit out of the address_phone_number column\n",
    "philippines_phone_number = philippines.address.str.findall(r'\\d+')\n",
    "\n",
    "philippines['phone_number'] = philippines_phone_number.apply(extract_phone_number)"
   ]
  },
  {
   "cell_type": "markdown",
   "metadata": {},
   "source": [
    "### **NOTE: There is not a lot of phone number to extract, so we might consider to drop this column afterword."
   ]
  },
  {
   "cell_type": "markdown",
   "metadata": {},
   "source": [
    "# extract city from philippines data"
   ]
  },
  {
   "cell_type": "code",
   "execution_count": 161,
   "metadata": {},
   "outputs": [],
   "source": [
    "def extract_city(value):\n",
    "\n",
    "    \"\"\"\n",
    "    extract the city form the address column\n",
    "    \"\"\"\n",
    "    # instantiate a list named city to append\n",
    "    city = []\n",
    "    # try clause in case something unexpected happens\n",
    "    try:\n",
    "        # iterate through the cell separating by space\n",
    "        for i in value.split(' '):\n",
    "            # if the string is not digit and it's a string, then the condition is met\n",
    "            if i.isdigit() != True and isinstance(i, str) == True:\n",
    "                # now make a new variable with the first string in the cell which contains multiple strings in ones\n",
    "                the_city = value.split(' ')[0]\n",
    "                # append the last string in the variable above which is the city\n",
    "                city.append(the_city.split('-')[0])\n",
    "                break\n",
    "        # split the list by comma\n",
    "        city = \",\".join(city)\n",
    "    # if something unexpected happens, then we'll return nan\n",
    "    except:\n",
    "         return np.nan\n",
    "    # return the city list\n",
    "    return city\n",
    "# convert the city list to a pandas series then assign it to a new column named city\n",
    "philippines['city'] = philippines['address'].apply(extract_city)"
   ]
  },
  {
   "cell_type": "markdown",
   "metadata": {},
   "source": [
    "# extract neighbor philippines data"
   ]
  },
  {
   "cell_type": "code",
   "execution_count": 162,
   "metadata": {},
   "outputs": [],
   "source": [
    "def extract_neighbor_philippines(value):\n",
    "    \"\"\"\n",
    "    extract neighbor from the address_phone_number column\n",
    "    \"\"\"\n",
    "    # instantiate a list\n",
    "    neighbor = []\n",
    "    # try clause in case something happens\n",
    "    try:\n",
    "        # neighbor alwasy located in the second index of the address column\n",
    "        # so we'll append in the second index to our neighbor list\n",
    "        neighbor.append(value.split('-')[1])\n",
    "        # separate strings in the list by comma\n",
    "        neighbor = \",\".join(neighbor)\n",
    "    # in case something unexpected happens, then we'll return nan\n",
    "    except:\n",
    "         return np.nan\n",
    "    # return the neighbor list\n",
    "    return neighbor\n",
    "# create a new column named neighbor \n",
    "philippines['neighbor'] = philippines['address'].apply(extract_neighbor_philippines)"
   ]
  },
  {
   "cell_type": "markdown",
   "metadata": {},
   "source": [
    "# Use Python vectorization technique to extract some features"
   ]
  },
  {
   "cell_type": "code",
   "execution_count": 163,
   "metadata": {},
   "outputs": [],
   "source": [
    "# splitting the specifications column into multiple columns with values 0s and 1s, \n",
    "# and then create another columns when two related columns have the value False\n",
    "\n",
    "# extract appearance with True and False values. True if the client specified appearance in the request form    \n",
    "philippines['appearance'] = philippines.specifications.str.contains('حسنة المظهر', 'مقبولة الشكل').astype(bool)\n",
    "# extract experience with True and False values. True if the client specified that the maid has experience in the request form \n",
    "philippines['have_wokred'] = philippines.specifications.str.contains('سبق لها').astype(bool)\n",
    "# extract experience with True and False values. True if the client specified that the maid has no experience in the request form \n",
    "philippines['no_experience'] = philippines.specifications.str.contains('جديدة', 'يسبق').astype(bool)\n",
    "# extract experience with True and False values. True if the client did not specified that the maid has nor does not have experience in the request form    \n",
    "philippines['experience_not_specified'] = (~philippines['no_experience']) & (~philippines['have_wokred'])\n",
    "# extract good with kids with True and False values. True if the client did not specified that the maid is okay with dealing with kids in the request form  \n",
    "philippines['good_with_kids'] = philippines.specifications.str.contains('أطفال').astype(bool)\n",
    "# extract good with elderly with True and False values. True if the client did not specified that the maid is okay with dealing with elderly in the request form\n",
    "philippines['good_with_elderly'] = philippines.specifications.str.contains('رعاية', 'السن').astype(bool)\n",
    "\n",
    "# making two masks with True and False values.\n",
    "# in the first mask, we specified that we want the value to be True if the word muslim is in the cell\n",
    "mask_muslim = philippines.specifications.apply(lambda x: word_in_col(\"مسلم\", x))\n",
    "# in the second mask, we specified that we want the value to be True if the word not-muslim is in the cell\n",
    "mask_not_muslim = philippines.specifications.apply(lambda x: word_in_col(\"غير مسلم\", x))\n",
    "# create a column named muslim if the mask is True when we specified that muslim return True\n",
    "philippines['muslim'] = (mask_muslim & ~mask_not_muslim)\n",
    "# create a column named not_muslim if the mask is True when we specified that not-muslim return True\n",
    "philippines['not_muslim'] =  mask_not_muslim\n",
    "# create a column named religion not specified if the mask is not True when we did not specified that religion\n",
    "philippines['religion_not_specified'] =  ~mask_muslim \n",
    "\n",
    "# making two masks with True and False values.\n",
    "# in the first mask, we specified that we want the value to be True if the word marrid is in the cell\n",
    "mask_marrid = philippines.specifications.apply(lambda x: word_in_col(\"متزوج\", x))\n",
    "# in the second mask, we specified that we want the value to be True if the word marrid is in the cell\n",
    "mask_not_marrid = philippines.specifications.apply(lambda x: word_in_col(\"غير متزوج\", x))\n",
    "# create a column named marrid if the mask is True when we specified that marrid return True\n",
    "philippines['marrid'] = (mask_marrid & ~mask_not_marrid)\n",
    "# create a column named not_marrid if the mask is True when we specified that not-marrid return True\n",
    "philippines['not_marrid'] =  mask_not_marrid\n",
    "# create a column named status not specified if the mask is not True when we did not specified that status\n",
    "philippines['status_not_specified'] =  ~mask_marrid "
   ]
  },
  {
   "cell_type": "markdown",
   "metadata": {},
   "source": [
    "# extract age ranges from philippines data"
   ]
  },
  {
   "cell_type": "code",
   "execution_count": 164,
   "metadata": {},
   "outputs": [],
   "source": [
    "# extract age range from the specifications column\n",
    "def extract_age_range(value):\n",
    "    # instantiate an age range list\n",
    "    age_range = []\n",
    "    # try clause in case something unexpected happens\n",
    "    try:\n",
    "        # use regular expression to find digits\n",
    "        if re.search('\\d+', value) != []:\n",
    "            # assign the first part of the digit to a variable named age_a\n",
    "            age_a = re.findall('\\d+', value)[0]\n",
    "            # assign the second part of the digit to a variable named age_b\n",
    "            age_b = re.findall('\\d+', value)[1]\n",
    "            # merge the tow parts into one serparated  by dash symbol\n",
    "            age = age_a + '-' + age_b\n",
    "            # append age range to the list\n",
    "            age_range.append(age)\n",
    "            age_range = \"-\".join(age_range)\n",
    "    # if something unexpected happens, then return nan\n",
    "    except:\n",
    "         return np.nan\n",
    "    # return the age range list\n",
    "    return age_range\n",
    "# create a new column of age ranges\n",
    "philippines['age_range'] = philippines['specifications'].apply(extract_age_range)"
   ]
  },
  {
   "cell_type": "markdown",
   "metadata": {},
   "source": [
    "# extract family name from philippines data"
   ]
  },
  {
   "cell_type": "code",
   "execution_count": 165,
   "metadata": {},
   "outputs": [],
   "source": [
    "# extract family name from name column\n",
    "def extract_family_name(value):\n",
    "    # always have a try clause in case something unexpected happens\n",
    "    try:\n",
    "        # check some conditions before entering the block\n",
    "        if value.split(' ')[-1] != '' and value.split(' ')[-1].isdigit() != True and len(value.split(' ')[-1]) > 4 and '\\n' not in value.split(' ')[-1] \\\n",
    "        and '(' not in value.split(' ')[-1]:\n",
    "            # return the last string \n",
    "            return value.split(' ')[-1]\n",
    "        # check some other conditions before entering the block\n",
    "        elif value.split(' ')[-2].isdigit() != True and len(value.split(' ')[-2]) > 4 and '\\n' not in value.split(' ')[-1] \\\n",
    "        and '(' not in value.split(' ')[-2]:\n",
    "            # return the last string \n",
    "            return value.split(' ')[-2]\n",
    "        # if neither one of the conditions is met, then return nan\n",
    "        else:\n",
    "            return np.nan\n",
    "    # if something unexpected happens, then return nan\n",
    "    except:\n",
    "        return np.nan\n",
    "# create a column for the family name which we extracted from the name column\n",
    "philippines['family_name'] = philippines['name'].apply(extract_family_name)"
   ]
  },
  {
   "cell_type": "code",
   "execution_count": 166,
   "metadata": {},
   "outputs": [
    {
     "data": {
      "text/html": [
       "<div>\n",
       "<style scoped>\n",
       "    .dataframe tbody tr th:only-of-type {\n",
       "        vertical-align: middle;\n",
       "    }\n",
       "\n",
       "    .dataframe tbody tr th {\n",
       "        vertical-align: top;\n",
       "    }\n",
       "\n",
       "    .dataframe thead th {\n",
       "        text-align: right;\n",
       "    }\n",
       "</style>\n",
       "<table border=\"1\" class=\"dataframe\">\n",
       "  <thead>\n",
       "    <tr style=\"text-align: right;\">\n",
       "      <th></th>\n",
       "      <th>name</th>\n",
       "      <th>visa_number</th>\n",
       "      <th>id</th>\n",
       "      <th>address</th>\n",
       "      <th>phone_number</th>\n",
       "      <th>specifications</th>\n",
       "      <th>office</th>\n",
       "      <th>condition</th>\n",
       "      <th>city</th>\n",
       "      <th>neighbor</th>\n",
       "      <th>...</th>\n",
       "      <th>good_with_kids</th>\n",
       "      <th>good_with_elderly</th>\n",
       "      <th>muslim</th>\n",
       "      <th>not_muslim</th>\n",
       "      <th>religion_not_specified</th>\n",
       "      <th>marrid</th>\n",
       "      <th>not_marrid</th>\n",
       "      <th>status_not_specified</th>\n",
       "      <th>age_range</th>\n",
       "      <th>family_name</th>\n",
       "    </tr>\n",
       "  </thead>\n",
       "  <tbody>\n",
       "    <tr>\n",
       "      <th>0</th>\n",
       "      <td>مسعود مقيت محمد الشبوي</td>\n",
       "      <td>1104381620</td>\n",
       "      <td>1013904816</td>\n",
       "      <td>الرياض - حي السويدي - شارع اسحق بن عبدالرحمن -...</td>\n",
       "      <td>NaN</td>\n",
       "      <td>جديدة/ عمر(30-38)/ مهم مسلمة - تجيد معاملة الأ...</td>\n",
       "      <td>PH</td>\n",
       "      <td>تم الوصول</td>\n",
       "      <td>الرياض</td>\n",
       "      <td>حي السويدي</td>\n",
       "      <td>...</td>\n",
       "      <td>True</td>\n",
       "      <td>False</td>\n",
       "      <td>True</td>\n",
       "      <td>False</td>\n",
       "      <td>False</td>\n",
       "      <td>False</td>\n",
       "      <td>False</td>\n",
       "      <td>True</td>\n",
       "      <td>30-38</td>\n",
       "      <td>الشبوي</td>\n",
       "    </tr>\n",
       "    <tr>\n",
       "      <th>1</th>\n",
       "      <td>مسعد سرحان عبدالله الخالدي</td>\n",
       "      <td>1104373638</td>\n",
       "      <td>1033166263</td>\n",
       "      <td>الرياض-حي الياسمين - شارع الفرعة - منزل 9/ب / ...</td>\n",
       "      <td>NaN</td>\n",
       "      <td>خبيرة- عمر (30-40) - معاملة أطفال (3)</td>\n",
       "      <td>PH</td>\n",
       "      <td>تم الوصول</td>\n",
       "      <td>الرياض</td>\n",
       "      <td>حي الياسمين</td>\n",
       "      <td>...</td>\n",
       "      <td>True</td>\n",
       "      <td>False</td>\n",
       "      <td>False</td>\n",
       "      <td>False</td>\n",
       "      <td>True</td>\n",
       "      <td>False</td>\n",
       "      <td>False</td>\n",
       "      <td>True</td>\n",
       "      <td>30-40</td>\n",
       "      <td>الخالدي</td>\n",
       "    </tr>\n",
       "  </tbody>\n",
       "</table>\n",
       "<p>2 rows × 24 columns</p>\n",
       "</div>"
      ],
      "text/plain": [
       "                         name visa_number          id  \\\n",
       "0      مسعود مقيت محمد الشبوي  1104381620  1013904816   \n",
       "1  مسعد سرحان عبدالله الخالدي  1104373638  1033166263   \n",
       "\n",
       "                                             address phone_number  \\\n",
       "0  الرياض - حي السويدي - شارع اسحق بن عبدالرحمن -...          NaN   \n",
       "1  الرياض-حي الياسمين - شارع الفرعة - منزل 9/ب / ...          NaN   \n",
       "\n",
       "                                      specifications office  condition  \\\n",
       "0  جديدة/ عمر(30-38)/ مهم مسلمة - تجيد معاملة الأ...     PH  تم الوصول   \n",
       "1             خبيرة- عمر (30-40) - معاملة أطفال (3)      PH  تم الوصول   \n",
       "\n",
       "     city      neighbor     ...       good_with_kids  good_with_elderly  \\\n",
       "0  الرياض   حي السويدي      ...                 True              False   \n",
       "1  الرياض  حي الياسمين      ...                 True              False   \n",
       "\n",
       "   muslim  not_muslim  religion_not_specified  marrid  not_marrid  \\\n",
       "0    True       False                   False   False       False   \n",
       "1   False       False                    True   False       False   \n",
       "\n",
       "   status_not_specified  age_range  family_name  \n",
       "0                  True      30-38       الشبوي  \n",
       "1                  True      30-40      الخالدي  \n",
       "\n",
       "[2 rows x 24 columns]"
      ]
     },
     "execution_count": 166,
     "metadata": {},
     "output_type": "execute_result"
    }
   ],
   "source": [
    "# print the head of the dataframe\n",
    "philippines.head(2)"
   ]
  },
  {
   "cell_type": "code",
   "execution_count": 167,
   "metadata": {},
   "outputs": [
    {
     "data": {
      "text/plain": [
       "(222, 24)"
      ]
     },
     "execution_count": 167,
     "metadata": {},
     "output_type": "execute_result"
    }
   ],
   "source": [
    "# check the shape of the data\n",
    "philippines.shape"
   ]
  },
  {
   "cell_type": "code",
   "execution_count": 168,
   "metadata": {},
   "outputs": [],
   "source": [
    "# drop the original columns\n",
    "philippines.drop(['name', 'address', 'specifications', 'condition', 'phone_number', 'neighbor'], axis=1, inplace=True)"
   ]
  },
  {
   "cell_type": "code",
   "execution_count": 169,
   "metadata": {},
   "outputs": [],
   "source": [
    "# drop rows if all columns are null\n",
    "philippines.dropna(how='all', inplace=True)"
   ]
  },
  {
   "cell_type": "code",
   "execution_count": 170,
   "metadata": {},
   "outputs": [
    {
     "data": {
      "text/plain": [
       "(222, 18)"
      ]
     },
     "execution_count": 170,
     "metadata": {},
     "output_type": "execute_result"
    }
   ],
   "source": [
    "# check the shape of the data after dropping null rows\n",
    "philippines.shape"
   ]
  },
  {
   "cell_type": "code",
   "execution_count": 171,
   "metadata": {},
   "outputs": [
    {
     "data": {
      "text/html": [
       "<div>\n",
       "<style scoped>\n",
       "    .dataframe tbody tr th:only-of-type {\n",
       "        vertical-align: middle;\n",
       "    }\n",
       "\n",
       "    .dataframe tbody tr th {\n",
       "        vertical-align: top;\n",
       "    }\n",
       "\n",
       "    .dataframe thead th {\n",
       "        text-align: right;\n",
       "    }\n",
       "</style>\n",
       "<table border=\"1\" class=\"dataframe\">\n",
       "  <thead>\n",
       "    <tr style=\"text-align: right;\">\n",
       "      <th></th>\n",
       "      <th>visa_number</th>\n",
       "      <th>id</th>\n",
       "      <th>office</th>\n",
       "      <th>city</th>\n",
       "      <th>appearance</th>\n",
       "      <th>have_wokred</th>\n",
       "      <th>no_experience</th>\n",
       "      <th>experience_not_specified</th>\n",
       "      <th>good_with_kids</th>\n",
       "      <th>good_with_elderly</th>\n",
       "      <th>muslim</th>\n",
       "      <th>not_muslim</th>\n",
       "      <th>religion_not_specified</th>\n",
       "      <th>marrid</th>\n",
       "      <th>not_marrid</th>\n",
       "      <th>status_not_specified</th>\n",
       "      <th>age_range</th>\n",
       "      <th>family_name</th>\n",
       "    </tr>\n",
       "  </thead>\n",
       "  <tbody>\n",
       "    <tr>\n",
       "      <th>0</th>\n",
       "      <td>1104381620</td>\n",
       "      <td>1013904816</td>\n",
       "      <td>PH</td>\n",
       "      <td>الرياض</td>\n",
       "      <td>False</td>\n",
       "      <td>False</td>\n",
       "      <td>True</td>\n",
       "      <td>False</td>\n",
       "      <td>True</td>\n",
       "      <td>False</td>\n",
       "      <td>True</td>\n",
       "      <td>False</td>\n",
       "      <td>False</td>\n",
       "      <td>False</td>\n",
       "      <td>False</td>\n",
       "      <td>True</td>\n",
       "      <td>30-38</td>\n",
       "      <td>الشبوي</td>\n",
       "    </tr>\n",
       "    <tr>\n",
       "      <th>1</th>\n",
       "      <td>1104373638</td>\n",
       "      <td>1033166263</td>\n",
       "      <td>PH</td>\n",
       "      <td>الرياض</td>\n",
       "      <td>False</td>\n",
       "      <td>False</td>\n",
       "      <td>False</td>\n",
       "      <td>True</td>\n",
       "      <td>True</td>\n",
       "      <td>False</td>\n",
       "      <td>False</td>\n",
       "      <td>False</td>\n",
       "      <td>True</td>\n",
       "      <td>False</td>\n",
       "      <td>False</td>\n",
       "      <td>True</td>\n",
       "      <td>30-40</td>\n",
       "      <td>الخالدي</td>\n",
       "    </tr>\n",
       "    <tr>\n",
       "      <th>2</th>\n",
       "      <td>5200101517</td>\n",
       "      <td>1025375773</td>\n",
       "      <td>PH</td>\n",
       "      <td>الجنوب</td>\n",
       "      <td>False</td>\n",
       "      <td>False</td>\n",
       "      <td>False</td>\n",
       "      <td>True</td>\n",
       "      <td>False</td>\n",
       "      <td>True</td>\n",
       "      <td>False</td>\n",
       "      <td>False</td>\n",
       "      <td>True</td>\n",
       "      <td>False</td>\n",
       "      <td>False</td>\n",
       "      <td>True</td>\n",
       "      <td>35-40</td>\n",
       "      <td>اليامي</td>\n",
       "    </tr>\n",
       "    <tr>\n",
       "      <th>3</th>\n",
       "      <td>1104218534</td>\n",
       "      <td>1110896246</td>\n",
       "      <td>PH</td>\n",
       "      <td>الرياض</td>\n",
       "      <td>False</td>\n",
       "      <td>False</td>\n",
       "      <td>True</td>\n",
       "      <td>False</td>\n",
       "      <td>True</td>\n",
       "      <td>False</td>\n",
       "      <td>False</td>\n",
       "      <td>False</td>\n",
       "      <td>True</td>\n",
       "      <td>False</td>\n",
       "      <td>False</td>\n",
       "      <td>True</td>\n",
       "      <td>30-35</td>\n",
       "      <td>العتيبي</td>\n",
       "    </tr>\n",
       "    <tr>\n",
       "      <th>4</th>\n",
       "      <td>3100050964</td>\n",
       "      <td>1023827015</td>\n",
       "      <td>PH</td>\n",
       "      <td>تبوك</td>\n",
       "      <td>False</td>\n",
       "      <td>False</td>\n",
       "      <td>False</td>\n",
       "      <td>True</td>\n",
       "      <td>False</td>\n",
       "      <td>False</td>\n",
       "      <td>False</td>\n",
       "      <td>False</td>\n",
       "      <td>True</td>\n",
       "      <td>False</td>\n",
       "      <td>False</td>\n",
       "      <td>True</td>\n",
       "      <td>NaN</td>\n",
       "      <td>الشمراني</td>\n",
       "    </tr>\n",
       "  </tbody>\n",
       "</table>\n",
       "</div>"
      ],
      "text/plain": [
       "  visa_number          id office    city  appearance  have_wokred  \\\n",
       "0  1104381620  1013904816     PH  الرياض       False        False   \n",
       "1  1104373638  1033166263     PH  الرياض       False        False   \n",
       "2  5200101517  1025375773     PH  الجنوب       False        False   \n",
       "3  1104218534  1110896246     PH  الرياض       False        False   \n",
       "4  3100050964  1023827015     PH    تبوك       False        False   \n",
       "\n",
       "   no_experience  experience_not_specified  good_with_kids  good_with_elderly  \\\n",
       "0           True                     False            True              False   \n",
       "1          False                      True            True              False   \n",
       "2          False                      True           False               True   \n",
       "3           True                     False            True              False   \n",
       "4          False                      True           False              False   \n",
       "\n",
       "   muslim  not_muslim  religion_not_specified  marrid  not_marrid  \\\n",
       "0    True       False                   False   False       False   \n",
       "1   False       False                    True   False       False   \n",
       "2   False       False                    True   False       False   \n",
       "3   False       False                    True   False       False   \n",
       "4   False       False                    True   False       False   \n",
       "\n",
       "   status_not_specified age_range family_name  \n",
       "0                  True     30-38      الشبوي  \n",
       "1                  True     30-40     الخالدي  \n",
       "2                  True     35-40      اليامي  \n",
       "3                  True     30-35     العتيبي  \n",
       "4                  True       NaN    الشمراني  "
      ]
     },
     "execution_count": 171,
     "metadata": {},
     "output_type": "execute_result"
    }
   ],
   "source": [
    "# print the final version of our data\n",
    "philippines.head()"
   ]
  },
  {
   "cell_type": "code",
   "execution_count": 172,
   "metadata": {},
   "outputs": [
    {
     "data": {
      "text/plain": [
       "visa_number                  0\n",
       "id                           0\n",
       "office                      18\n",
       "city                         6\n",
       "appearance                   0\n",
       "have_wokred                  0\n",
       "no_experience                0\n",
       "experience_not_specified     0\n",
       "good_with_kids               0\n",
       "good_with_elderly            0\n",
       "muslim                       0\n",
       "not_muslim                   0\n",
       "religion_not_specified       0\n",
       "marrid                       0\n",
       "not_marrid                   0\n",
       "status_not_specified         0\n",
       "age_range                   36\n",
       "family_name                 43\n",
       "dtype: int64"
      ]
     },
     "execution_count": 172,
     "metadata": {},
     "output_type": "execute_result"
    }
   ],
   "source": [
    "# check the null values\n",
    "philippines.isnull().sum()"
   ]
  },
  {
   "cell_type": "markdown",
   "metadata": {},
   "source": [
    "### - The first part of preprocessing in the philippines data is done. Now we'll make sure that we replace any dirty value with the the value other values."
   ]
  },
  {
   "cell_type": "code",
   "execution_count": 173,
   "metadata": {},
   "outputs": [],
   "source": [
    "# philippines.office.isnull().sum()\n",
    "# I replace the null values with the most frequent office 'class'\n",
    "philippines.office.fillna('office_not_specified', inplace=True)"
   ]
  },
  {
   "cell_type": "code",
   "execution_count": 174,
   "metadata": {},
   "outputs": [
    {
     "data": {
      "text/plain": [
       "الرياض                115\n",
       "city_not_specified     64\n",
       "ابها                   14\n",
       "تبوك                   13\n",
       "الطائف                 10\n",
       "Name: city, dtype: int64"
      ]
     },
     "execution_count": 174,
     "metadata": {},
     "output_type": "execute_result"
    }
   ],
   "source": [
    "# make a mask: 1st: for city that occurs less than 6 times.\n",
    "mask_city_less_than_five = philippines.city.value_counts()[philippines.city.value_counts() < 6]\n",
    "\n",
    "# apply our mask\n",
    "philippines.city = philippines.city.apply(lambda x: 'city_not_specified' if x in mask_city_less_than_five else x)\n",
    "\n",
    "# check the value counts after our final cleaning\n",
    "philippines.city.value_counts()"
   ]
  },
  {
   "cell_type": "code",
   "execution_count": 175,
   "metadata": {},
   "outputs": [
    {
     "data": {
      "text/plain": [
       "30-40                46\n",
       "25-35                45\n",
       "age_not_specified    35\n",
       "25-30                17\n",
       "35-40                16\n",
       "30-35                12\n",
       "35-45                 5\n",
       "25-37                 5\n",
       "30-38                 5\n",
       "Name: age_range, dtype: int64"
      ]
     },
     "execution_count": 175,
     "metadata": {},
     "output_type": "execute_result"
    }
   ],
   "source": [
    "# make a mask: 1st: for age range that occurs less than 6 times.\n",
    "mask_age_range_less_than_five = philippines.age_range.value_counts()[philippines.age_range.value_counts() < 5]\n",
    "\n",
    "# apply our mask\n",
    "philippines.age_range = philippines.age_range.apply(lambda x: 'age_not_specified' if x in mask_age_range_less_than_five else x)\n",
    "\n",
    "# check the value counts after our final cleaning\n",
    "philippines.age_range.value_counts()"
   ]
  },
  {
   "cell_type": "code",
   "execution_count": 176,
   "metadata": {},
   "outputs": [
    {
     "data": {
      "text/plain": [
       "family_not_specified    78\n",
       "العتيبي                 17\n",
       "القحطاني                12\n",
       "العنزي                   9\n",
       "الشهراني                 8\n",
       "الشهري                   7\n",
       "الدوسري                  7\n",
       "المطيري                  6\n",
       "العصيمي                  6\n",
       "العمري                   5\n",
       "الزهراني                 4\n",
       "السبيعي                  4\n",
       "البلوي                   4\n",
       "الرويلي                  4\n",
       "البقمي                   4\n",
       "الحربي                   4\n",
       "Name: family_name, dtype: int64"
      ]
     },
     "execution_count": 176,
     "metadata": {},
     "output_type": "execute_result"
    }
   ],
   "source": [
    "# make a mask: 1st: for family name that occurs less than 4 times.\n",
    "mask_family_name_less_than_five = philippines.family_name.value_counts()[philippines.family_name.value_counts() < 4]\n",
    "\n",
    "# apply our mask\n",
    "philippines.family_name = philippines.family_name.apply(lambda x: 'family_not_specified' if x in mask_family_name_less_than_five else x)\n",
    "\n",
    "# check the value counts after our final cleaning\n",
    "philippines.family_name.value_counts()"
   ]
  },
  {
   "cell_type": "code",
   "execution_count": 177,
   "metadata": {},
   "outputs": [
    {
     "data": {
      "text/plain": [
       "visa_number                  0\n",
       "id                           0\n",
       "office                       0\n",
       "city                         6\n",
       "appearance                   0\n",
       "have_wokred                  0\n",
       "no_experience                0\n",
       "experience_not_specified     0\n",
       "good_with_kids               0\n",
       "good_with_elderly            0\n",
       "muslim                       0\n",
       "not_muslim                   0\n",
       "religion_not_specified       0\n",
       "marrid                       0\n",
       "not_marrid                   0\n",
       "status_not_specified         0\n",
       "age_range                   36\n",
       "family_name                 43\n",
       "dtype: int64"
      ]
     },
     "execution_count": 177,
     "metadata": {},
     "output_type": "execute_result"
    }
   ],
   "source": [
    "# finally we have no null values\n",
    "philippines.isnull().sum()"
   ]
  },
  {
   "cell_type": "code",
   "execution_count": 178,
   "metadata": {},
   "outputs": [],
   "source": [
    "# deal with null values and replace them with most the frequent class\n",
    "philippines.loc[philippines.age_range.isnull(),\"age_range\"] = 'age_not_specified'\n",
    "philippines.loc[philippines.family_name.isnull(),\"family_name\"] = 'family_not_specified'"
   ]
  },
  {
   "cell_type": "code",
   "execution_count": 179,
   "metadata": {},
   "outputs": [
    {
     "data": {
      "text/plain": [
       "visa_number                 0\n",
       "id                          0\n",
       "office                      0\n",
       "city                        6\n",
       "appearance                  0\n",
       "have_wokred                 0\n",
       "no_experience               0\n",
       "experience_not_specified    0\n",
       "good_with_kids              0\n",
       "good_with_elderly           0\n",
       "muslim                      0\n",
       "not_muslim                  0\n",
       "religion_not_specified      0\n",
       "marrid                      0\n",
       "not_marrid                  0\n",
       "status_not_specified        0\n",
       "age_range                   0\n",
       "family_name                 0\n",
       "dtype: int64"
      ]
     },
     "execution_count": 179,
     "metadata": {},
     "output_type": "execute_result"
    }
   ],
   "source": [
    "# finally we have no null values\n",
    "philippines.isnull().sum()"
   ]
  },
  {
   "cell_type": "markdown",
   "metadata": {},
   "source": [
    "### - Now we'll print the dataframe after done preproccesing"
   ]
  },
  {
   "cell_type": "code",
   "execution_count": 180,
   "metadata": {},
   "outputs": [
    {
     "data": {
      "text/html": [
       "<div>\n",
       "<style scoped>\n",
       "    .dataframe tbody tr th:only-of-type {\n",
       "        vertical-align: middle;\n",
       "    }\n",
       "\n",
       "    .dataframe tbody tr th {\n",
       "        vertical-align: top;\n",
       "    }\n",
       "\n",
       "    .dataframe thead th {\n",
       "        text-align: right;\n",
       "    }\n",
       "</style>\n",
       "<table border=\"1\" class=\"dataframe\">\n",
       "  <thead>\n",
       "    <tr style=\"text-align: right;\">\n",
       "      <th></th>\n",
       "      <th>visa_number</th>\n",
       "      <th>id</th>\n",
       "      <th>office</th>\n",
       "      <th>city</th>\n",
       "      <th>appearance</th>\n",
       "      <th>have_wokred</th>\n",
       "      <th>no_experience</th>\n",
       "      <th>experience_not_specified</th>\n",
       "      <th>good_with_kids</th>\n",
       "      <th>good_with_elderly</th>\n",
       "      <th>muslim</th>\n",
       "      <th>not_muslim</th>\n",
       "      <th>religion_not_specified</th>\n",
       "      <th>marrid</th>\n",
       "      <th>not_marrid</th>\n",
       "      <th>status_not_specified</th>\n",
       "      <th>age_range</th>\n",
       "      <th>family_name</th>\n",
       "    </tr>\n",
       "  </thead>\n",
       "  <tbody>\n",
       "    <tr>\n",
       "      <th>0</th>\n",
       "      <td>1104381620</td>\n",
       "      <td>1013904816</td>\n",
       "      <td>PH</td>\n",
       "      <td>الرياض</td>\n",
       "      <td>False</td>\n",
       "      <td>False</td>\n",
       "      <td>True</td>\n",
       "      <td>False</td>\n",
       "      <td>True</td>\n",
       "      <td>False</td>\n",
       "      <td>True</td>\n",
       "      <td>False</td>\n",
       "      <td>False</td>\n",
       "      <td>False</td>\n",
       "      <td>False</td>\n",
       "      <td>True</td>\n",
       "      <td>30-38</td>\n",
       "      <td>family_not_specified</td>\n",
       "    </tr>\n",
       "    <tr>\n",
       "      <th>1</th>\n",
       "      <td>1104373638</td>\n",
       "      <td>1033166263</td>\n",
       "      <td>PH</td>\n",
       "      <td>الرياض</td>\n",
       "      <td>False</td>\n",
       "      <td>False</td>\n",
       "      <td>False</td>\n",
       "      <td>True</td>\n",
       "      <td>True</td>\n",
       "      <td>False</td>\n",
       "      <td>False</td>\n",
       "      <td>False</td>\n",
       "      <td>True</td>\n",
       "      <td>False</td>\n",
       "      <td>False</td>\n",
       "      <td>True</td>\n",
       "      <td>30-40</td>\n",
       "      <td>family_not_specified</td>\n",
       "    </tr>\n",
       "    <tr>\n",
       "      <th>2</th>\n",
       "      <td>5200101517</td>\n",
       "      <td>1025375773</td>\n",
       "      <td>PH</td>\n",
       "      <td>city_not_specified</td>\n",
       "      <td>False</td>\n",
       "      <td>False</td>\n",
       "      <td>False</td>\n",
       "      <td>True</td>\n",
       "      <td>False</td>\n",
       "      <td>True</td>\n",
       "      <td>False</td>\n",
       "      <td>False</td>\n",
       "      <td>True</td>\n",
       "      <td>False</td>\n",
       "      <td>False</td>\n",
       "      <td>True</td>\n",
       "      <td>35-40</td>\n",
       "      <td>family_not_specified</td>\n",
       "    </tr>\n",
       "    <tr>\n",
       "      <th>3</th>\n",
       "      <td>1104218534</td>\n",
       "      <td>1110896246</td>\n",
       "      <td>PH</td>\n",
       "      <td>الرياض</td>\n",
       "      <td>False</td>\n",
       "      <td>False</td>\n",
       "      <td>True</td>\n",
       "      <td>False</td>\n",
       "      <td>True</td>\n",
       "      <td>False</td>\n",
       "      <td>False</td>\n",
       "      <td>False</td>\n",
       "      <td>True</td>\n",
       "      <td>False</td>\n",
       "      <td>False</td>\n",
       "      <td>True</td>\n",
       "      <td>30-35</td>\n",
       "      <td>العتيبي</td>\n",
       "    </tr>\n",
       "    <tr>\n",
       "      <th>4</th>\n",
       "      <td>3100050964</td>\n",
       "      <td>1023827015</td>\n",
       "      <td>PH</td>\n",
       "      <td>تبوك</td>\n",
       "      <td>False</td>\n",
       "      <td>False</td>\n",
       "      <td>False</td>\n",
       "      <td>True</td>\n",
       "      <td>False</td>\n",
       "      <td>False</td>\n",
       "      <td>False</td>\n",
       "      <td>False</td>\n",
       "      <td>True</td>\n",
       "      <td>False</td>\n",
       "      <td>False</td>\n",
       "      <td>True</td>\n",
       "      <td>age_not_specified</td>\n",
       "      <td>family_not_specified</td>\n",
       "    </tr>\n",
       "  </tbody>\n",
       "</table>\n",
       "</div>"
      ],
      "text/plain": [
       "  visa_number          id office                city  appearance  have_wokred  \\\n",
       "0  1104381620  1013904816     PH              الرياض       False        False   \n",
       "1  1104373638  1033166263     PH              الرياض       False        False   \n",
       "2  5200101517  1025375773     PH  city_not_specified       False        False   \n",
       "3  1104218534  1110896246     PH              الرياض       False        False   \n",
       "4  3100050964  1023827015     PH                تبوك       False        False   \n",
       "\n",
       "   no_experience  experience_not_specified  good_with_kids  good_with_elderly  \\\n",
       "0           True                     False            True              False   \n",
       "1          False                      True            True              False   \n",
       "2          False                      True           False               True   \n",
       "3           True                     False            True              False   \n",
       "4          False                      True           False              False   \n",
       "\n",
       "   muslim  not_muslim  religion_not_specified  marrid  not_marrid  \\\n",
       "0    True       False                   False   False       False   \n",
       "1   False       False                    True   False       False   \n",
       "2   False       False                    True   False       False   \n",
       "3   False       False                    True   False       False   \n",
       "4   False       False                    True   False       False   \n",
       "\n",
       "   status_not_specified          age_range           family_name  \n",
       "0                  True              30-38  family_not_specified  \n",
       "1                  True              30-40  family_not_specified  \n",
       "2                  True              35-40  family_not_specified  \n",
       "3                  True              30-35               العتيبي  \n",
       "4                  True  age_not_specified  family_not_specified  "
      ]
     },
     "execution_count": 180,
     "metadata": {},
     "output_type": "execute_result"
    }
   ],
   "source": [
    "# print the head of the dataframe\n",
    "philippines.head()"
   ]
  },
  {
   "cell_type": "markdown",
   "metadata": {},
   "source": [
    "# 3) cleaning sri_lanka data"
   ]
  },
  {
   "cell_type": "code",
   "execution_count": 181,
   "metadata": {},
   "outputs": [
    {
     "data": {
      "text/html": [
       "<div>\n",
       "<style scoped>\n",
       "    .dataframe tbody tr th:only-of-type {\n",
       "        vertical-align: middle;\n",
       "    }\n",
       "\n",
       "    .dataframe tbody tr th {\n",
       "        vertical-align: top;\n",
       "    }\n",
       "\n",
       "    .dataframe thead th {\n",
       "        text-align: right;\n",
       "    }\n",
       "</style>\n",
       "<table border=\"1\" class=\"dataframe\">\n",
       "  <thead>\n",
       "    <tr style=\"text-align: right;\">\n",
       "      <th></th>\n",
       "      <th>0</th>\n",
       "      <th>1</th>\n",
       "      <th>2</th>\n",
       "      <th>3</th>\n",
       "      <th>4</th>\n",
       "      <th>5</th>\n",
       "      <th>6</th>\n",
       "      <th>7</th>\n",
       "      <th>8</th>\n",
       "      <th>9</th>\n",
       "      <th>10</th>\n",
       "      <th>11</th>\n",
       "      <th>12</th>\n",
       "      <th>13</th>\n",
       "      <th>14</th>\n",
       "      <th>15</th>\n",
       "      <th>16</th>\n",
       "      <th>17</th>\n",
       "    </tr>\n",
       "  </thead>\n",
       "  <tbody>\n",
       "    <tr>\n",
       "      <th>0</th>\n",
       "      <td>NaN</td>\n",
       "      <td>NaN</td>\n",
       "      <td>NaN</td>\n",
       "      <td>NaN</td>\n",
       "      <td>NaN</td>\n",
       "      <td>NaN</td>\n",
       "      <td>NaN</td>\n",
       "      <td>NaN</td>\n",
       "      <td>NaN</td>\n",
       "      <td>NaN</td>\n",
       "      <td>NaN</td>\n",
       "      <td>NaN</td>\n",
       "      <td>NaN</td>\n",
       "      <td>NaN</td>\n",
       "      <td>NaN</td>\n",
       "      <td>NaN</td>\n",
       "      <td>NaN</td>\n",
       "      <td>NaN</td>\n",
       "    </tr>\n",
       "    <tr>\n",
       "      <th>1</th>\n",
       "      <td>NaN</td>\n",
       "      <td>متابعة معاملات دولة سريلانكا</td>\n",
       "      <td>NaN</td>\n",
       "      <td>NaN</td>\n",
       "      <td>NaN</td>\n",
       "      <td>NaN</td>\n",
       "      <td>NaN</td>\n",
       "      <td>NaN</td>\n",
       "      <td>NaN</td>\n",
       "      <td>NaN</td>\n",
       "      <td>NaN</td>\n",
       "      <td>NaN</td>\n",
       "      <td>NaN</td>\n",
       "      <td>NaN</td>\n",
       "      <td>NaN</td>\n",
       "      <td>NaN</td>\n",
       "      <td>NaN</td>\n",
       "      <td>NaN</td>\n",
       "    </tr>\n",
       "    <tr>\n",
       "      <th>2</th>\n",
       "      <td>NaN</td>\n",
       "      <td>NaN</td>\n",
       "      <td>NaN</td>\n",
       "      <td>NaN</td>\n",
       "      <td>NaN</td>\n",
       "      <td>NaN</td>\n",
       "      <td>NaN</td>\n",
       "      <td>NaN</td>\n",
       "      <td>NaN</td>\n",
       "      <td>NaN</td>\n",
       "      <td>NaN</td>\n",
       "      <td>NaN</td>\n",
       "      <td>NaN</td>\n",
       "      <td>NaN</td>\n",
       "      <td>NaN</td>\n",
       "      <td>NaN</td>\n",
       "      <td>NaN</td>\n",
       "      <td>NaN</td>\n",
       "    </tr>\n",
       "  </tbody>\n",
       "</table>\n",
       "</div>"
      ],
      "text/plain": [
       "    0                             1    2    3    4    5    6    7    8    9   \\\n",
       "0  NaN                           NaN  NaN  NaN  NaN  NaN  NaN  NaN  NaN  NaN   \n",
       "1  NaN  متابعة معاملات دولة سريلانكا  NaN  NaN  NaN  NaN  NaN  NaN  NaN  NaN   \n",
       "2  NaN                           NaN  NaN  NaN  NaN  NaN  NaN  NaN  NaN  NaN   \n",
       "\n",
       "    10   11   12  13  14   15   16   17  \n",
       "0  NaN  NaN  NaN NaN NaN  NaN  NaN  NaN  \n",
       "1  NaN  NaN  NaN NaN NaN  NaN  NaN  NaN  \n",
       "2  NaN  NaN  NaN NaN NaN  NaN  NaN  NaN  "
      ]
     },
     "execution_count": 181,
     "metadata": {},
     "output_type": "execute_result"
    }
   ],
   "source": [
    "# print the head of the data\n",
    "sri_lanka.head(3)"
   ]
  },
  {
   "cell_type": "code",
   "execution_count": 182,
   "metadata": {},
   "outputs": [],
   "source": [
    "# drop the first three rows since that they have no values\n",
    "sri_lanka.drop(sri_lanka.index[:3], inplace=True)"
   ]
  },
  {
   "cell_type": "code",
   "execution_count": 183,
   "metadata": {},
   "outputs": [],
   "source": [
    "# set the first row to be our columns names\n",
    "sri_lanka.rename(columns=sri_lanka.iloc[0], inplace=True)"
   ]
  },
  {
   "cell_type": "code",
   "execution_count": 184,
   "metadata": {},
   "outputs": [],
   "source": [
    "# drop the first row which is a duplicate of our columns names\n",
    "sri_lanka.drop(sri_lanka.index[:1], inplace=True)"
   ]
  },
  {
   "cell_type": "code",
   "execution_count": 185,
   "metadata": {},
   "outputs": [],
   "source": [
    "# reassign the data after droping some unuseful columns\n",
    "sri_lanka = sri_lanka.iloc[:, 2:-5]"
   ]
  },
  {
   "cell_type": "code",
   "execution_count": 186,
   "metadata": {},
   "outputs": [],
   "source": [
    "# reset index\n",
    "sri_lanka.reset_index(inplace=True, drop=True)"
   ]
  },
  {
   "cell_type": "code",
   "execution_count": 187,
   "metadata": {},
   "outputs": [],
   "source": [
    "# since mostl rows at the end are null, I am going to reassign the dataframe with the none_null values one\n",
    "sri_lanka = sri_lanka.iloc[:440]"
   ]
  },
  {
   "cell_type": "code",
   "execution_count": 188,
   "metadata": {},
   "outputs": [],
   "source": [
    "# rename columns\n",
    "columns_translated = {'الاسم': 'name', 'رقم التأشيره': 'visa_number', 'رقم السجل': 'id', 'تاريخ الميلاد': 'date_of_birth',\n",
    "                   'العنوان - رقم الهاتف': 'address_phone_number', 'المواصفات': 'specifications', 'تاريخ التقديم': 'date_of_submission',\n",
    "                   'المكتب': 'office', 'الحالة': 'condition', 'تاريخ الوصول': 'arrival_date', 'ملاحظات': 'note'\n",
    "                  }"
   ]
  },
  {
   "cell_type": "code",
   "execution_count": 189,
   "metadata": {},
   "outputs": [],
   "source": [
    "# translate the columns from Arabic to English\n",
    "sri_lanka.rename(columns=columns_translated, inplace=True)"
   ]
  },
  {
   "cell_type": "code",
   "execution_count": 190,
   "metadata": {},
   "outputs": [
    {
     "data": {
      "text/plain": [
       "Index(['name', 'visa_number', 'id', 'date_of_birth', 'address_phone_number',\n",
       "       'specifications', 'date_of_submission', 'office', 'condition',\n",
       "       'arrival_date', 'note'],\n",
       "      dtype='object')"
      ]
     },
     "execution_count": 190,
     "metadata": {},
     "output_type": "execute_result"
    }
   ],
   "source": [
    "# check the column names\n",
    "sri_lanka.columns"
   ]
  },
  {
   "cell_type": "code",
   "execution_count": 191,
   "metadata": {},
   "outputs": [
    {
     "data": {
      "text/plain": [
       "name                      0\n",
       "visa_number               2\n",
       "id                        2\n",
       "date_of_birth           273\n",
       "address_phone_number     35\n",
       "specifications           59\n",
       "date_of_submission       65\n",
       "office                   72\n",
       "condition                 8\n",
       "arrival_date            253\n",
       "note                     41\n",
       "dtype: int64"
      ]
     },
     "execution_count": 191,
     "metadata": {},
     "output_type": "execute_result"
    }
   ],
   "source": [
    "# check the null values per column\n",
    "sri_lanka.isnull().sum()"
   ]
  },
  {
   "cell_type": "code",
   "execution_count": 192,
   "metadata": {},
   "outputs": [],
   "source": [
    "# drop columns when null values are a lot\n",
    "sri_lanka.drop(columns=['date_of_birth', 'date_of_submission', 'arrival_date', 'note'], inplace=True)"
   ]
  },
  {
   "cell_type": "code",
   "execution_count": 193,
   "metadata": {},
   "outputs": [
    {
     "data": {
      "text/html": [
       "<div>\n",
       "<style scoped>\n",
       "    .dataframe tbody tr th:only-of-type {\n",
       "        vertical-align: middle;\n",
       "    }\n",
       "\n",
       "    .dataframe tbody tr th {\n",
       "        vertical-align: top;\n",
       "    }\n",
       "\n",
       "    .dataframe thead th {\n",
       "        text-align: right;\n",
       "    }\n",
       "</style>\n",
       "<table border=\"1\" class=\"dataframe\">\n",
       "  <thead>\n",
       "    <tr style=\"text-align: right;\">\n",
       "      <th></th>\n",
       "      <th>name</th>\n",
       "      <th>visa_number</th>\n",
       "      <th>id</th>\n",
       "      <th>address_phone_number</th>\n",
       "      <th>specifications</th>\n",
       "      <th>office</th>\n",
       "      <th>condition</th>\n",
       "    </tr>\n",
       "  </thead>\n",
       "  <tbody>\n",
       "    <tr>\n",
       "      <th>0</th>\n",
       "      <td>فيصل صلال العصيمي</td>\n",
       "      <td>1104288734</td>\n",
       "      <td>1045706197</td>\n",
       "      <td>الرياض  - 0505456478</td>\n",
       "      <td>جديدة - غير مسلمة \\nالعمر30-35</td>\n",
       "      <td>Y</td>\n",
       "      <td>تم الوصول</td>\n",
       "    </tr>\n",
       "    <tr>\n",
       "      <th>1</th>\n",
       "      <td>عبدالله صلال العصيمي</td>\n",
       "      <td>1104235110</td>\n",
       "      <td>1000547560</td>\n",
       "      <td>الرياض</td>\n",
       "      <td>جديدة</td>\n",
       "      <td>NaN</td>\n",
       "      <td>تم الوصول</td>\n",
       "    </tr>\n",
       "  </tbody>\n",
       "</table>\n",
       "</div>"
      ],
      "text/plain": [
       "                   name visa_number          id  address_phone_number  \\\n",
       "0     فيصل صلال العصيمي  1104288734  1045706197  الرياض  - 0505456478   \n",
       "1  عبدالله صلال العصيمي  1104235110  1000547560                الرياض   \n",
       "\n",
       "                   specifications office  condition  \n",
       "0  جديدة - غير مسلمة \\nالعمر30-35      Y  تم الوصول  \n",
       "1                           جديدة    NaN  تم الوصول  "
      ]
     },
     "execution_count": 193,
     "metadata": {},
     "output_type": "execute_result"
    }
   ],
   "source": [
    "# print the data after dropping unuseful columns\n",
    "sri_lanka.head(2)"
   ]
  },
  {
   "cell_type": "markdown",
   "metadata": {},
   "source": [
    "# extract phone number from sri_lanka data"
   ]
  },
  {
   "cell_type": "code",
   "execution_count": 194,
   "metadata": {},
   "outputs": [],
   "source": [
    "# get the digit out of the address_phone_number column\n",
    "sri_lanka_phone_number = sri_lanka.address_phone_number.str.findall(r'\\d+')\n",
    "\n",
    "# create a new column of phone number extracted from address and phone number column\n",
    "sri_lanka['phone_number'] = sri_lanka_phone_number.apply(extract_phone_number)"
   ]
  },
  {
   "cell_type": "markdown",
   "metadata": {},
   "source": [
    "# extract city from sri_lanka data"
   ]
  },
  {
   "cell_type": "code",
   "execution_count": 195,
   "metadata": {},
   "outputs": [],
   "source": [
    "# extract city from the address_phone_number column\n",
    "\n",
    "# create a new column of the city out from the address_phone_number column\n",
    "sri_lanka['city'] = sri_lanka['address_phone_number'].apply(extract_city)"
   ]
  },
  {
   "cell_type": "markdown",
   "metadata": {},
   "source": [
    "### **NOTE: There is no neighbor provided for this dataset"
   ]
  },
  {
   "cell_type": "markdown",
   "metadata": {},
   "source": [
    "# Use Python vectorization technique to extract some features"
   ]
  },
  {
   "cell_type": "code",
   "execution_count": 196,
   "metadata": {},
   "outputs": [],
   "source": [
    "# extract appearance with True and False values. True if the client specified appearance in the request form    \n",
    "sri_lanka['appearance'] = sri_lanka.specifications.str.contains('حسنة المظهر', 'مقبولة الشكل').astype(bool)\n",
    "\n",
    "# extract experience with True and False values. True if the client specified that the maid has experience in the request form    \n",
    "sri_lanka['have_wokred'] = sri_lanka.specifications.str.contains('سبق لها').astype(bool)\n",
    "\n",
    "# extract experience with True and False values. True if the client specified that the maid has no experience in the request form    \n",
    "sri_lanka['no_experience'] = sri_lanka.specifications.str.contains('جديدة', 'يسبق').astype(bool)\n",
    "\n",
    "# extract experience with True and False values. True if the client did not specified that the maid has nor does not have experience in the request form    \n",
    "sri_lanka['experience_not_specified'] = (~sri_lanka['no_experience']) & (~sri_lanka['have_wokred'])\n",
    "\n",
    "# extract good with kids with True and False values. True if the client did not specified that the maid is okay with dealing with kids in the request form    \n",
    "sri_lanka['good_with_kids'] = sri_lanka.specifications.str.contains('أطفال').astype(bool)\n",
    "\n",
    "# extract good with elderly with True and False values. True if the client did not specified that the maid is okay with dealing with elderly in the request form\n",
    "sri_lanka['good_with_elderly'] = sri_lanka.specifications.str.contains('رعاية', 'السن').astype(bool)\n",
    "\n",
    "\n",
    "# making two masks with True and False values.\n",
    "# in the first mask, we specified that we want the value to be True if the word muslim is in the cell\n",
    "mask_muslim = sri_lanka.specifications.apply(lambda x: word_in_col(\"مسلم\", x))\n",
    "\n",
    "# in the second mask, we specified that we want the value to be True if the word not-muslim is in the cell\n",
    "mask_not_muslim = sri_lanka.specifications.apply(lambda x: word_in_col(\"غير مسلم\", x))\n",
    "\n",
    "# create a column named muslim if the mask is True when we specified that muslim return True\n",
    "sri_lanka['muslim'] = (mask_muslim & ~mask_not_muslim)\n",
    "\n",
    "# create a column named not_muslim if the mask is True when we specified that not-muslim return True\n",
    "sri_lanka['not_muslim'] =  mask_not_muslim\n",
    "\n",
    "# create a column named religion not specified if the mask is not True when we did not specified that religion\n",
    "sri_lanka['religion_not_specified'] =  ~mask_muslim \n",
    "\n",
    "# making two masks with True and False values.\n",
    "# in the first mask, we specified that we want the value to be True if the word marrid is in the cell\n",
    "mask_marrid = sri_lanka.specifications.apply(lambda x: word_in_col(\"متزوج\", x))\n",
    "\n",
    "# in the second mask, we specified that we want the value to be True if the word marrid is in the cell\n",
    "mask_not_marrid = sri_lanka.specifications.apply(lambda x: word_in_col(\"غير متزوج\", x))\n",
    "\n",
    "# create a column named marrid if the mask is True when we specified that marrid return True\n",
    "sri_lanka['marrid'] = (mask_marrid & ~mask_not_marrid)\n",
    "\n",
    "# create a column named not_marrid if the mask is True when we specified that not-marrid return True\n",
    "sri_lanka['not_marrid'] =  mask_not_marrid\n",
    "\n",
    "# create a column named status not specified if the mask is not True when we did not specified that status\n",
    "sri_lanka['status_not_specified'] =  ~mask_marrid "
   ]
  },
  {
   "cell_type": "code",
   "execution_count": 197,
   "metadata": {},
   "outputs": [],
   "source": [
    "# extract age range from the specifications column\n",
    "\n",
    "# create a new column named age_range\n",
    "sri_lanka['age_range'] = sri_lanka['specifications'].apply(extract_age_range)"
   ]
  },
  {
   "cell_type": "code",
   "execution_count": 198,
   "metadata": {},
   "outputs": [],
   "source": [
    "# extract family name from name column\n",
    "# make a new column named faimly name where we extracted last name from the column name\n",
    "sri_lanka['family_name'] = sri_lanka['name'].apply(extract_family_name)"
   ]
  },
  {
   "cell_type": "code",
   "execution_count": 199,
   "metadata": {},
   "outputs": [
    {
     "data": {
      "text/html": [
       "<div>\n",
       "<style scoped>\n",
       "    .dataframe tbody tr th:only-of-type {\n",
       "        vertical-align: middle;\n",
       "    }\n",
       "\n",
       "    .dataframe tbody tr th {\n",
       "        vertical-align: top;\n",
       "    }\n",
       "\n",
       "    .dataframe thead th {\n",
       "        text-align: right;\n",
       "    }\n",
       "</style>\n",
       "<table border=\"1\" class=\"dataframe\">\n",
       "  <thead>\n",
       "    <tr style=\"text-align: right;\">\n",
       "      <th></th>\n",
       "      <th>name</th>\n",
       "      <th>visa_number</th>\n",
       "      <th>id</th>\n",
       "      <th>address_phone_number</th>\n",
       "      <th>specifications</th>\n",
       "      <th>office</th>\n",
       "      <th>condition</th>\n",
       "      <th>phone_number</th>\n",
       "      <th>city</th>\n",
       "      <th>appearance</th>\n",
       "      <th>...</th>\n",
       "      <th>good_with_kids</th>\n",
       "      <th>good_with_elderly</th>\n",
       "      <th>muslim</th>\n",
       "      <th>not_muslim</th>\n",
       "      <th>religion_not_specified</th>\n",
       "      <th>marrid</th>\n",
       "      <th>not_marrid</th>\n",
       "      <th>status_not_specified</th>\n",
       "      <th>age_range</th>\n",
       "      <th>family_name</th>\n",
       "    </tr>\n",
       "  </thead>\n",
       "  <tbody>\n",
       "    <tr>\n",
       "      <th>0</th>\n",
       "      <td>فيصل صلال العصيمي</td>\n",
       "      <td>1104288734</td>\n",
       "      <td>1045706197</td>\n",
       "      <td>الرياض  - 0505456478</td>\n",
       "      <td>جديدة - غير مسلمة \\nالعمر30-35</td>\n",
       "      <td>Y</td>\n",
       "      <td>تم الوصول</td>\n",
       "      <td>0505456478</td>\n",
       "      <td>الرياض</td>\n",
       "      <td>False</td>\n",
       "      <td>...</td>\n",
       "      <td>False</td>\n",
       "      <td>False</td>\n",
       "      <td>False</td>\n",
       "      <td>True</td>\n",
       "      <td>False</td>\n",
       "      <td>False</td>\n",
       "      <td>False</td>\n",
       "      <td>True</td>\n",
       "      <td>30-35</td>\n",
       "      <td>العصيمي</td>\n",
       "    </tr>\n",
       "    <tr>\n",
       "      <th>1</th>\n",
       "      <td>عبدالله صلال العصيمي</td>\n",
       "      <td>1104235110</td>\n",
       "      <td>1000547560</td>\n",
       "      <td>الرياض</td>\n",
       "      <td>جديدة</td>\n",
       "      <td>NaN</td>\n",
       "      <td>تم الوصول</td>\n",
       "      <td>NaN</td>\n",
       "      <td>الرياض</td>\n",
       "      <td>False</td>\n",
       "      <td>...</td>\n",
       "      <td>False</td>\n",
       "      <td>False</td>\n",
       "      <td>False</td>\n",
       "      <td>False</td>\n",
       "      <td>True</td>\n",
       "      <td>False</td>\n",
       "      <td>False</td>\n",
       "      <td>True</td>\n",
       "      <td>NaN</td>\n",
       "      <td>العصيمي</td>\n",
       "    </tr>\n",
       "  </tbody>\n",
       "</table>\n",
       "<p>2 rows × 23 columns</p>\n",
       "</div>"
      ],
      "text/plain": [
       "                   name visa_number          id  address_phone_number  \\\n",
       "0     فيصل صلال العصيمي  1104288734  1045706197  الرياض  - 0505456478   \n",
       "1  عبدالله صلال العصيمي  1104235110  1000547560                الرياض   \n",
       "\n",
       "                   specifications office  condition phone_number    city  \\\n",
       "0  جديدة - غير مسلمة \\nالعمر30-35      Y  تم الوصول   0505456478  الرياض   \n",
       "1                           جديدة    NaN  تم الوصول          NaN  الرياض   \n",
       "\n",
       "   appearance     ...       good_with_kids  good_with_elderly  muslim  \\\n",
       "0       False     ...                False              False   False   \n",
       "1       False     ...                False              False   False   \n",
       "\n",
       "   not_muslim  religion_not_specified  marrid  not_marrid  \\\n",
       "0        True                   False   False       False   \n",
       "1       False                    True   False       False   \n",
       "\n",
       "   status_not_specified  age_range  family_name  \n",
       "0                  True      30-35      العصيمي  \n",
       "1                  True        NaN      العصيمي  \n",
       "\n",
       "[2 rows x 23 columns]"
      ]
     },
     "execution_count": 199,
     "metadata": {},
     "output_type": "execute_result"
    }
   ],
   "source": [
    "sri_lanka.head(2)"
   ]
  },
  {
   "cell_type": "code",
   "execution_count": 200,
   "metadata": {},
   "outputs": [
    {
     "data": {
      "text/plain": [
       "(440, 23)"
      ]
     },
     "execution_count": 200,
     "metadata": {},
     "output_type": "execute_result"
    }
   ],
   "source": [
    "# check the shape of the data\n",
    "sri_lanka.shape"
   ]
  },
  {
   "cell_type": "code",
   "execution_count": 201,
   "metadata": {},
   "outputs": [
    {
     "data": {
      "text/plain": [
       "name                          0\n",
       "visa_number                   2\n",
       "id                            2\n",
       "address_phone_number         35\n",
       "specifications               59\n",
       "office                       72\n",
       "condition                     8\n",
       "phone_number                121\n",
       "city                         48\n",
       "appearance                    0\n",
       "have_wokred                   0\n",
       "no_experience                 0\n",
       "experience_not_specified      0\n",
       "good_with_kids                0\n",
       "good_with_elderly             0\n",
       "muslim                        0\n",
       "not_muslim                    0\n",
       "religion_not_specified        0\n",
       "marrid                        0\n",
       "not_marrid                    0\n",
       "status_not_specified          0\n",
       "age_range                   113\n",
       "family_name                  85\n",
       "dtype: int64"
      ]
     },
     "execution_count": 201,
     "metadata": {},
     "output_type": "execute_result"
    }
   ],
   "source": [
    "sri_lanka.isnull().sum()"
   ]
  },
  {
   "cell_type": "code",
   "execution_count": 202,
   "metadata": {},
   "outputs": [],
   "source": [
    "# drop the original columns\n",
    "sri_lanka.drop(['name', 'address_phone_number', 'specifications', 'condition', 'phone_number'], axis=1, inplace=True)"
   ]
  },
  {
   "cell_type": "code",
   "execution_count": 203,
   "metadata": {},
   "outputs": [],
   "source": [
    "# drop rows if all columns are null\n",
    "sri_lanka.dropna(how='all', inplace=True)"
   ]
  },
  {
   "cell_type": "code",
   "execution_count": 204,
   "metadata": {},
   "outputs": [
    {
     "data": {
      "text/plain": [
       "(440, 18)"
      ]
     },
     "execution_count": 204,
     "metadata": {},
     "output_type": "execute_result"
    }
   ],
   "source": [
    "# check the shape of the data after dropping null rows\n",
    "sri_lanka.shape"
   ]
  },
  {
   "cell_type": "code",
   "execution_count": 205,
   "metadata": {},
   "outputs": [
    {
     "data": {
      "text/html": [
       "<div>\n",
       "<style scoped>\n",
       "    .dataframe tbody tr th:only-of-type {\n",
       "        vertical-align: middle;\n",
       "    }\n",
       "\n",
       "    .dataframe tbody tr th {\n",
       "        vertical-align: top;\n",
       "    }\n",
       "\n",
       "    .dataframe thead th {\n",
       "        text-align: right;\n",
       "    }\n",
       "</style>\n",
       "<table border=\"1\" class=\"dataframe\">\n",
       "  <thead>\n",
       "    <tr style=\"text-align: right;\">\n",
       "      <th></th>\n",
       "      <th>visa_number</th>\n",
       "      <th>id</th>\n",
       "      <th>office</th>\n",
       "      <th>city</th>\n",
       "      <th>appearance</th>\n",
       "      <th>have_wokred</th>\n",
       "      <th>no_experience</th>\n",
       "      <th>experience_not_specified</th>\n",
       "      <th>good_with_kids</th>\n",
       "      <th>good_with_elderly</th>\n",
       "      <th>muslim</th>\n",
       "      <th>not_muslim</th>\n",
       "      <th>religion_not_specified</th>\n",
       "      <th>marrid</th>\n",
       "      <th>not_marrid</th>\n",
       "      <th>status_not_specified</th>\n",
       "      <th>age_range</th>\n",
       "      <th>family_name</th>\n",
       "    </tr>\n",
       "  </thead>\n",
       "  <tbody>\n",
       "    <tr>\n",
       "      <th>0</th>\n",
       "      <td>1104288734</td>\n",
       "      <td>1045706197</td>\n",
       "      <td>Y</td>\n",
       "      <td>الرياض</td>\n",
       "      <td>False</td>\n",
       "      <td>False</td>\n",
       "      <td>True</td>\n",
       "      <td>False</td>\n",
       "      <td>False</td>\n",
       "      <td>False</td>\n",
       "      <td>False</td>\n",
       "      <td>True</td>\n",
       "      <td>False</td>\n",
       "      <td>False</td>\n",
       "      <td>False</td>\n",
       "      <td>True</td>\n",
       "      <td>30-35</td>\n",
       "      <td>العصيمي</td>\n",
       "    </tr>\n",
       "    <tr>\n",
       "      <th>1</th>\n",
       "      <td>1104235110</td>\n",
       "      <td>1000547560</td>\n",
       "      <td>NaN</td>\n",
       "      <td>الرياض</td>\n",
       "      <td>False</td>\n",
       "      <td>False</td>\n",
       "      <td>True</td>\n",
       "      <td>False</td>\n",
       "      <td>False</td>\n",
       "      <td>False</td>\n",
       "      <td>False</td>\n",
       "      <td>False</td>\n",
       "      <td>True</td>\n",
       "      <td>False</td>\n",
       "      <td>False</td>\n",
       "      <td>True</td>\n",
       "      <td>NaN</td>\n",
       "      <td>العصيمي</td>\n",
       "    </tr>\n",
       "    <tr>\n",
       "      <th>2</th>\n",
       "      <td>1104307271</td>\n",
       "      <td>1007875352</td>\n",
       "      <td>NaN</td>\n",
       "      <td>الرياض</td>\n",
       "      <td>False</td>\n",
       "      <td>False</td>\n",
       "      <td>True</td>\n",
       "      <td>False</td>\n",
       "      <td>False</td>\n",
       "      <td>False</td>\n",
       "      <td>False</td>\n",
       "      <td>False</td>\n",
       "      <td>True</td>\n",
       "      <td>False</td>\n",
       "      <td>False</td>\n",
       "      <td>True</td>\n",
       "      <td>25-35</td>\n",
       "      <td>الحربي</td>\n",
       "    </tr>\n",
       "    <tr>\n",
       "      <th>3</th>\n",
       "      <td>1104062658</td>\n",
       "      <td>1000624708</td>\n",
       "      <td>NaN</td>\n",
       "      <td>الرياض</td>\n",
       "      <td>False</td>\n",
       "      <td>True</td>\n",
       "      <td>False</td>\n",
       "      <td>False</td>\n",
       "      <td>False</td>\n",
       "      <td>False</td>\n",
       "      <td>False</td>\n",
       "      <td>False</td>\n",
       "      <td>True</td>\n",
       "      <td>False</td>\n",
       "      <td>False</td>\n",
       "      <td>True</td>\n",
       "      <td>NaN</td>\n",
       "      <td>العتيبي</td>\n",
       "    </tr>\n",
       "    <tr>\n",
       "      <th>4</th>\n",
       "      <td>1104268516</td>\n",
       "      <td>1013037559</td>\n",
       "      <td>Y</td>\n",
       "      <td>الرياض</td>\n",
       "      <td>False</td>\n",
       "      <td>True</td>\n",
       "      <td>False</td>\n",
       "      <td>False</td>\n",
       "      <td>False</td>\n",
       "      <td>False</td>\n",
       "      <td>False</td>\n",
       "      <td>True</td>\n",
       "      <td>False</td>\n",
       "      <td>False</td>\n",
       "      <td>False</td>\n",
       "      <td>True</td>\n",
       "      <td>30-40</td>\n",
       "      <td>الرويس</td>\n",
       "    </tr>\n",
       "  </tbody>\n",
       "</table>\n",
       "</div>"
      ],
      "text/plain": [
       "  visa_number          id office    city  appearance  have_wokred  \\\n",
       "0  1104288734  1045706197      Y  الرياض       False        False   \n",
       "1  1104235110  1000547560    NaN  الرياض       False        False   \n",
       "2  1104307271  1007875352    NaN  الرياض       False        False   \n",
       "3  1104062658  1000624708    NaN  الرياض       False         True   \n",
       "4  1104268516  1013037559      Y  الرياض       False         True   \n",
       "\n",
       "   no_experience  experience_not_specified  good_with_kids  good_with_elderly  \\\n",
       "0           True                     False           False              False   \n",
       "1           True                     False           False              False   \n",
       "2           True                     False           False              False   \n",
       "3          False                     False           False              False   \n",
       "4          False                     False           False              False   \n",
       "\n",
       "   muslim  not_muslim  religion_not_specified  marrid  not_marrid  \\\n",
       "0   False        True                   False   False       False   \n",
       "1   False       False                    True   False       False   \n",
       "2   False       False                    True   False       False   \n",
       "3   False       False                    True   False       False   \n",
       "4   False        True                   False   False       False   \n",
       "\n",
       "   status_not_specified age_range family_name  \n",
       "0                  True     30-35     العصيمي  \n",
       "1                  True       NaN     العصيمي  \n",
       "2                  True     25-35      الحربي  \n",
       "3                  True       NaN     العتيبي  \n",
       "4                  True     30-40      الرويس  "
      ]
     },
     "execution_count": 205,
     "metadata": {},
     "output_type": "execute_result"
    }
   ],
   "source": [
    "# print the final version of our data\n",
    "sri_lanka.head()"
   ]
  },
  {
   "cell_type": "code",
   "execution_count": 206,
   "metadata": {},
   "outputs": [
    {
     "data": {
      "text/plain": [
       "visa_number                   2\n",
       "id                            2\n",
       "office                       72\n",
       "city                         48\n",
       "appearance                    0\n",
       "have_wokred                   0\n",
       "no_experience                 0\n",
       "experience_not_specified      0\n",
       "good_with_kids                0\n",
       "good_with_elderly             0\n",
       "muslim                        0\n",
       "not_muslim                    0\n",
       "religion_not_specified        0\n",
       "marrid                        0\n",
       "not_marrid                    0\n",
       "status_not_specified          0\n",
       "age_range                   113\n",
       "family_name                  85\n",
       "dtype: int64"
      ]
     },
     "execution_count": 206,
     "metadata": {},
     "output_type": "execute_result"
    }
   ],
   "source": [
    "# check the null values\n",
    "sri_lanka.isnull().sum()"
   ]
  },
  {
   "cell_type": "markdown",
   "metadata": {},
   "source": [
    "### - The first part of preprocessing in the philippines data is done. Now we'll make sure that we replace any dirty value with the the value other values."
   ]
  },
  {
   "cell_type": "code",
   "execution_count": 207,
   "metadata": {},
   "outputs": [],
   "source": [
    "# sri_lanka.visa_number.isnull().sum()\n",
    "sri_lanka.visa_number.fillna(0, inplace=True)"
   ]
  },
  {
   "cell_type": "code",
   "execution_count": 208,
   "metadata": {},
   "outputs": [],
   "source": [
    "# sri_lanka.id.isnull().sum()\n",
    "sri_lanka.id.fillna(0, inplace=True)"
   ]
  },
  {
   "cell_type": "code",
   "execution_count": 209,
   "metadata": {},
   "outputs": [],
   "source": [
    "# sri_lanka.office.isnull().sum()\n",
    "sri_lanka.office.fillna('office_not_specified', inplace=True)"
   ]
  },
  {
   "cell_type": "code",
   "execution_count": 210,
   "metadata": {},
   "outputs": [
    {
     "data": {
      "text/plain": [
       "الرياض                240\n",
       "city_not_specified     87\n",
       "القصيم                 17\n",
       "وادي                   13\n",
       "الدمام                 11\n",
       "حائل                    9\n",
       "ابها                    9\n",
       "الطائف                  6\n",
       "Name: city, dtype: int64"
      ]
     },
     "execution_count": 210,
     "metadata": {},
     "output_type": "execute_result"
    }
   ],
   "source": [
    "# make a mask: 1st: for city that occurs less than 6 times.\n",
    "mask_city_less_than_six = sri_lanka.city.value_counts()[sri_lanka.city.value_counts() < 6]\n",
    "\n",
    "# apply our mask\n",
    "sri_lanka.city = sri_lanka.city.apply(lambda x: 'city_not_specified' if (x in mask_city_less_than_six or x == 'أبو') else x)\n",
    "\n",
    "# check the value counts after our final cleaning\n",
    "sri_lanka.city.value_counts()"
   ]
  },
  {
   "cell_type": "code",
   "execution_count": 211,
   "metadata": {},
   "outputs": [],
   "source": [
    "# deal with unfamiliar family name\n",
    "sri_lanka.loc[sri_lanka.city == 'وادي',\"city\"] = 'وادي الدواسر'\n",
    "sri_lanka.loc[sri_lanka.city.isnull(),\"city\"] = 'city_not_specified'"
   ]
  },
  {
   "cell_type": "code",
   "execution_count": 212,
   "metadata": {},
   "outputs": [
    {
     "data": {
      "text/plain": [
       "30-40                89\n",
       "25-35                71\n",
       "30-35                46\n",
       "age_not_specified    42\n",
       "35-40                21\n",
       "25-40                15\n",
       "30-38                14\n",
       "35-45                14\n",
       "25-30                 9\n",
       "25-38                 6\n",
       "Name: age_range, dtype: int64"
      ]
     },
     "execution_count": 212,
     "metadata": {},
     "output_type": "execute_result"
    }
   ],
   "source": [
    "# make a mask: 1st: for age range that occurs less than 6 times.\n",
    "mask_age_range_less_than_six = sri_lanka.age_range.value_counts()[sri_lanka.age_range.value_counts() < 6]\n",
    "\n",
    "# apply our mask\n",
    "sri_lanka.age_range = sri_lanka.age_range.apply(lambda x: 'age_not_specified' if x in mask_age_range_less_than_six else x)\n",
    "\n",
    "# check the value counts after our final cleaning\n",
    "sri_lanka.age_range.value_counts()"
   ]
  },
  {
   "cell_type": "code",
   "execution_count": 213,
   "metadata": {},
   "outputs": [
    {
     "data": {
      "text/plain": [
       "family_not_specified    189\n",
       "العتيبي                  37\n",
       "العنزي                   26\n",
       "المطيري                  23\n",
       "الدوسري                  16\n",
       "القحطاني                 14\n",
       "الحربي                    8\n",
       "السلمي                    7\n",
       "الشهراني                  7\n",
       "السبيعي                   7\n",
       "الشمري                    6\n",
       "الغبيشي                   5\n",
       "الشهري                    5\n",
       "العصيمي                   5\n",
       "Name: family_name, dtype: int64"
      ]
     },
     "execution_count": 213,
     "metadata": {},
     "output_type": "execute_result"
    }
   ],
   "source": [
    "# make a mask: 1st: for family name that occurs less than 5 times.\n",
    "mask_family_name_less_than_five = sri_lanka.family_name.value_counts()[sri_lanka.family_name.value_counts() < 5]\n",
    "\n",
    "# apply our mask\n",
    "sri_lanka.family_name = sri_lanka.family_name.apply(lambda x: 'family_not_specified' if x in mask_family_name_less_than_five else x)\n",
    "\n",
    "# check the value counts after our final cleaning\n",
    "sri_lanka.family_name.value_counts()"
   ]
  },
  {
   "cell_type": "code",
   "execution_count": 214,
   "metadata": {},
   "outputs": [
    {
     "data": {
      "text/plain": [
       "visa_number                   0\n",
       "id                            0\n",
       "office                        0\n",
       "city                          0\n",
       "appearance                    0\n",
       "have_wokred                   0\n",
       "no_experience                 0\n",
       "experience_not_specified      0\n",
       "good_with_kids                0\n",
       "good_with_elderly             0\n",
       "muslim                        0\n",
       "not_muslim                    0\n",
       "religion_not_specified        0\n",
       "marrid                        0\n",
       "not_marrid                    0\n",
       "status_not_specified          0\n",
       "age_range                   113\n",
       "family_name                  85\n",
       "dtype: int64"
      ]
     },
     "execution_count": 214,
     "metadata": {},
     "output_type": "execute_result"
    }
   ],
   "source": [
    "# finally we have no null values\n",
    "sri_lanka.isnull().sum()"
   ]
  },
  {
   "cell_type": "code",
   "execution_count": 215,
   "metadata": {},
   "outputs": [],
   "source": [
    "# deal with null values and replace them with most the frequent class\n",
    "sri_lanka.loc[sri_lanka.age_range.isnull(),\"age_range\"] = 'age_not_specified'\n",
    "sri_lanka.loc[sri_lanka.family_name.isnull(),\"family_name\"] = 'family_not_specified'"
   ]
  },
  {
   "cell_type": "code",
   "execution_count": 216,
   "metadata": {},
   "outputs": [
    {
     "data": {
      "text/plain": [
       "visa_number                 0\n",
       "id                          0\n",
       "office                      0\n",
       "city                        0\n",
       "appearance                  0\n",
       "have_wokred                 0\n",
       "no_experience               0\n",
       "experience_not_specified    0\n",
       "good_with_kids              0\n",
       "good_with_elderly           0\n",
       "muslim                      0\n",
       "not_muslim                  0\n",
       "religion_not_specified      0\n",
       "marrid                      0\n",
       "not_marrid                  0\n",
       "status_not_specified        0\n",
       "age_range                   0\n",
       "family_name                 0\n",
       "dtype: int64"
      ]
     },
     "execution_count": 216,
     "metadata": {},
     "output_type": "execute_result"
    }
   ],
   "source": [
    "# finally we have no null values\n",
    "sri_lanka.isnull().sum()"
   ]
  },
  {
   "cell_type": "code",
   "execution_count": 217,
   "metadata": {},
   "outputs": [
    {
     "data": {
      "text/html": [
       "<div>\n",
       "<style scoped>\n",
       "    .dataframe tbody tr th:only-of-type {\n",
       "        vertical-align: middle;\n",
       "    }\n",
       "\n",
       "    .dataframe tbody tr th {\n",
       "        vertical-align: top;\n",
       "    }\n",
       "\n",
       "    .dataframe thead th {\n",
       "        text-align: right;\n",
       "    }\n",
       "</style>\n",
       "<table border=\"1\" class=\"dataframe\">\n",
       "  <thead>\n",
       "    <tr style=\"text-align: right;\">\n",
       "      <th></th>\n",
       "      <th>visa_number</th>\n",
       "      <th>id</th>\n",
       "      <th>office</th>\n",
       "      <th>city</th>\n",
       "      <th>appearance</th>\n",
       "      <th>have_wokred</th>\n",
       "      <th>no_experience</th>\n",
       "      <th>experience_not_specified</th>\n",
       "      <th>good_with_kids</th>\n",
       "      <th>good_with_elderly</th>\n",
       "      <th>muslim</th>\n",
       "      <th>not_muslim</th>\n",
       "      <th>religion_not_specified</th>\n",
       "      <th>marrid</th>\n",
       "      <th>not_marrid</th>\n",
       "      <th>status_not_specified</th>\n",
       "      <th>age_range</th>\n",
       "      <th>family_name</th>\n",
       "    </tr>\n",
       "  </thead>\n",
       "  <tbody>\n",
       "    <tr>\n",
       "      <th>0</th>\n",
       "      <td>1104288734</td>\n",
       "      <td>1045706197</td>\n",
       "      <td>Y</td>\n",
       "      <td>الرياض</td>\n",
       "      <td>False</td>\n",
       "      <td>False</td>\n",
       "      <td>True</td>\n",
       "      <td>False</td>\n",
       "      <td>False</td>\n",
       "      <td>False</td>\n",
       "      <td>False</td>\n",
       "      <td>True</td>\n",
       "      <td>False</td>\n",
       "      <td>False</td>\n",
       "      <td>False</td>\n",
       "      <td>True</td>\n",
       "      <td>30-35</td>\n",
       "      <td>العصيمي</td>\n",
       "    </tr>\n",
       "    <tr>\n",
       "      <th>1</th>\n",
       "      <td>1104235110</td>\n",
       "      <td>1000547560</td>\n",
       "      <td>office_not_specified</td>\n",
       "      <td>الرياض</td>\n",
       "      <td>False</td>\n",
       "      <td>False</td>\n",
       "      <td>True</td>\n",
       "      <td>False</td>\n",
       "      <td>False</td>\n",
       "      <td>False</td>\n",
       "      <td>False</td>\n",
       "      <td>False</td>\n",
       "      <td>True</td>\n",
       "      <td>False</td>\n",
       "      <td>False</td>\n",
       "      <td>True</td>\n",
       "      <td>age_not_specified</td>\n",
       "      <td>العصيمي</td>\n",
       "    </tr>\n",
       "    <tr>\n",
       "      <th>2</th>\n",
       "      <td>1104307271</td>\n",
       "      <td>1007875352</td>\n",
       "      <td>office_not_specified</td>\n",
       "      <td>الرياض</td>\n",
       "      <td>False</td>\n",
       "      <td>False</td>\n",
       "      <td>True</td>\n",
       "      <td>False</td>\n",
       "      <td>False</td>\n",
       "      <td>False</td>\n",
       "      <td>False</td>\n",
       "      <td>False</td>\n",
       "      <td>True</td>\n",
       "      <td>False</td>\n",
       "      <td>False</td>\n",
       "      <td>True</td>\n",
       "      <td>25-35</td>\n",
       "      <td>الحربي</td>\n",
       "    </tr>\n",
       "    <tr>\n",
       "      <th>3</th>\n",
       "      <td>1104062658</td>\n",
       "      <td>1000624708</td>\n",
       "      <td>office_not_specified</td>\n",
       "      <td>الرياض</td>\n",
       "      <td>False</td>\n",
       "      <td>True</td>\n",
       "      <td>False</td>\n",
       "      <td>False</td>\n",
       "      <td>False</td>\n",
       "      <td>False</td>\n",
       "      <td>False</td>\n",
       "      <td>False</td>\n",
       "      <td>True</td>\n",
       "      <td>False</td>\n",
       "      <td>False</td>\n",
       "      <td>True</td>\n",
       "      <td>age_not_specified</td>\n",
       "      <td>العتيبي</td>\n",
       "    </tr>\n",
       "    <tr>\n",
       "      <th>4</th>\n",
       "      <td>1104268516</td>\n",
       "      <td>1013037559</td>\n",
       "      <td>Y</td>\n",
       "      <td>الرياض</td>\n",
       "      <td>False</td>\n",
       "      <td>True</td>\n",
       "      <td>False</td>\n",
       "      <td>False</td>\n",
       "      <td>False</td>\n",
       "      <td>False</td>\n",
       "      <td>False</td>\n",
       "      <td>True</td>\n",
       "      <td>False</td>\n",
       "      <td>False</td>\n",
       "      <td>False</td>\n",
       "      <td>True</td>\n",
       "      <td>30-40</td>\n",
       "      <td>family_not_specified</td>\n",
       "    </tr>\n",
       "  </tbody>\n",
       "</table>\n",
       "</div>"
      ],
      "text/plain": [
       "  visa_number          id                office    city  appearance  \\\n",
       "0  1104288734  1045706197                     Y  الرياض       False   \n",
       "1  1104235110  1000547560  office_not_specified  الرياض       False   \n",
       "2  1104307271  1007875352  office_not_specified  الرياض       False   \n",
       "3  1104062658  1000624708  office_not_specified  الرياض       False   \n",
       "4  1104268516  1013037559                     Y  الرياض       False   \n",
       "\n",
       "   have_wokred  no_experience  experience_not_specified  good_with_kids  \\\n",
       "0        False           True                     False           False   \n",
       "1        False           True                     False           False   \n",
       "2        False           True                     False           False   \n",
       "3         True          False                     False           False   \n",
       "4         True          False                     False           False   \n",
       "\n",
       "   good_with_elderly  muslim  not_muslim  religion_not_specified  marrid  \\\n",
       "0              False   False        True                   False   False   \n",
       "1              False   False       False                    True   False   \n",
       "2              False   False       False                    True   False   \n",
       "3              False   False       False                    True   False   \n",
       "4              False   False        True                   False   False   \n",
       "\n",
       "   not_marrid  status_not_specified          age_range           family_name  \n",
       "0       False                  True              30-35               العصيمي  \n",
       "1       False                  True  age_not_specified               العصيمي  \n",
       "2       False                  True              25-35                الحربي  \n",
       "3       False                  True  age_not_specified               العتيبي  \n",
       "4       False                  True              30-40  family_not_specified  "
      ]
     },
     "execution_count": 217,
     "metadata": {},
     "output_type": "execute_result"
    }
   ],
   "source": [
    "sri_lanka.head()"
   ]
  },
  {
   "cell_type": "markdown",
   "metadata": {},
   "source": [
    "### we're done preprocessing the data and cleaning it. \n",
    "    Now we'll create another column in each one which will contain the country name, so that we can concat the three of them afterwords"
   ]
  },
  {
   "cell_type": "code",
   "execution_count": 218,
   "metadata": {},
   "outputs": [
    {
     "data": {
      "text/plain": [
       "((678, 19), (222, 19), (440, 19))"
      ]
     },
     "execution_count": 218,
     "metadata": {},
     "output_type": "execute_result"
    }
   ],
   "source": [
    "# creating a column for the country in all three dataframes\n",
    "bangladesh['country'] = 'Bangladesh'\n",
    "philippines['country'] = 'Philippines'\n",
    "sri_lanka['country'] = 'Srilanka'\n",
    "bangladesh.shape, philippines.shape, sri_lanka.shape\n",
    "# sri_lanka is -1 because this dataframe doesn't contain a neighbor info"
   ]
  },
  {
   "cell_type": "code",
   "execution_count": 219,
   "metadata": {},
   "outputs": [],
   "source": [
    "# create a new dataframe which contain all three dataframes\n",
    "bps_df = pd.concat([bangladesh, philippines, sri_lanka])"
   ]
  },
  {
   "cell_type": "code",
   "execution_count": 220,
   "metadata": {},
   "outputs": [
    {
     "data": {
      "text/html": [
       "<div>\n",
       "<style scoped>\n",
       "    .dataframe tbody tr th:only-of-type {\n",
       "        vertical-align: middle;\n",
       "    }\n",
       "\n",
       "    .dataframe tbody tr th {\n",
       "        vertical-align: top;\n",
       "    }\n",
       "\n",
       "    .dataframe thead th {\n",
       "        text-align: right;\n",
       "    }\n",
       "</style>\n",
       "<table border=\"1\" class=\"dataframe\">\n",
       "  <thead>\n",
       "    <tr style=\"text-align: right;\">\n",
       "      <th></th>\n",
       "      <th>visa_number</th>\n",
       "      <th>id</th>\n",
       "      <th>office</th>\n",
       "      <th>city</th>\n",
       "      <th>appearance</th>\n",
       "      <th>have_wokred</th>\n",
       "      <th>no_experience</th>\n",
       "      <th>experience_not_specified</th>\n",
       "      <th>good_with_kids</th>\n",
       "      <th>good_with_elderly</th>\n",
       "      <th>muslim</th>\n",
       "      <th>not_muslim</th>\n",
       "      <th>religion_not_specified</th>\n",
       "      <th>marrid</th>\n",
       "      <th>not_marrid</th>\n",
       "      <th>status_not_specified</th>\n",
       "      <th>age_range</th>\n",
       "      <th>family_name</th>\n",
       "      <th>country</th>\n",
       "    </tr>\n",
       "  </thead>\n",
       "  <tbody>\n",
       "    <tr>\n",
       "      <th>0</th>\n",
       "      <td>1800025194</td>\n",
       "      <td>1054846645</td>\n",
       "      <td>D</td>\n",
       "      <td>الرياض</td>\n",
       "      <td>False</td>\n",
       "      <td>False</td>\n",
       "      <td>False</td>\n",
       "      <td>True</td>\n",
       "      <td>False</td>\n",
       "      <td>False</td>\n",
       "      <td>False</td>\n",
       "      <td>False</td>\n",
       "      <td>True</td>\n",
       "      <td>False</td>\n",
       "      <td>False</td>\n",
       "      <td>True</td>\n",
       "      <td>25-35</td>\n",
       "      <td>family_not_specified</td>\n",
       "      <td>Bangladesh</td>\n",
       "    </tr>\n",
       "    <tr>\n",
       "      <th>1</th>\n",
       "      <td>1104303794</td>\n",
       "      <td>1034719789</td>\n",
       "      <td>D</td>\n",
       "      <td>الرياض</td>\n",
       "      <td>False</td>\n",
       "      <td>False</td>\n",
       "      <td>False</td>\n",
       "      <td>True</td>\n",
       "      <td>False</td>\n",
       "      <td>False</td>\n",
       "      <td>False</td>\n",
       "      <td>False</td>\n",
       "      <td>True</td>\n",
       "      <td>False</td>\n",
       "      <td>False</td>\n",
       "      <td>True</td>\n",
       "      <td>25-35</td>\n",
       "      <td>الشمري</td>\n",
       "      <td>Bangladesh</td>\n",
       "    </tr>\n",
       "    <tr>\n",
       "      <th>2</th>\n",
       "      <td>1104304960</td>\n",
       "      <td>1002211058</td>\n",
       "      <td>D</td>\n",
       "      <td>الرياض</td>\n",
       "      <td>False</td>\n",
       "      <td>False</td>\n",
       "      <td>False</td>\n",
       "      <td>True</td>\n",
       "      <td>False</td>\n",
       "      <td>False</td>\n",
       "      <td>False</td>\n",
       "      <td>False</td>\n",
       "      <td>True</td>\n",
       "      <td>False</td>\n",
       "      <td>False</td>\n",
       "      <td>True</td>\n",
       "      <td>25-35</td>\n",
       "      <td>العتيبي</td>\n",
       "      <td>Bangladesh</td>\n",
       "    </tr>\n",
       "    <tr>\n",
       "      <th>3</th>\n",
       "      <td>1104298913</td>\n",
       "      <td>1016030874</td>\n",
       "      <td>A</td>\n",
       "      <td>الرياض</td>\n",
       "      <td>False</td>\n",
       "      <td>False</td>\n",
       "      <td>False</td>\n",
       "      <td>True</td>\n",
       "      <td>False</td>\n",
       "      <td>False</td>\n",
       "      <td>False</td>\n",
       "      <td>False</td>\n",
       "      <td>True</td>\n",
       "      <td>False</td>\n",
       "      <td>False</td>\n",
       "      <td>True</td>\n",
       "      <td>25-35</td>\n",
       "      <td>القحطاني</td>\n",
       "      <td>Bangladesh</td>\n",
       "    </tr>\n",
       "    <tr>\n",
       "      <th>4</th>\n",
       "      <td>3100056928</td>\n",
       "      <td>1016030833</td>\n",
       "      <td>D</td>\n",
       "      <td>الرياض</td>\n",
       "      <td>False</td>\n",
       "      <td>False</td>\n",
       "      <td>False</td>\n",
       "      <td>True</td>\n",
       "      <td>False</td>\n",
       "      <td>False</td>\n",
       "      <td>False</td>\n",
       "      <td>False</td>\n",
       "      <td>True</td>\n",
       "      <td>False</td>\n",
       "      <td>False</td>\n",
       "      <td>True</td>\n",
       "      <td>25-35</td>\n",
       "      <td>القحطاني</td>\n",
       "      <td>Bangladesh</td>\n",
       "    </tr>\n",
       "  </tbody>\n",
       "</table>\n",
       "</div>"
      ],
      "text/plain": [
       "  visa_number          id office    city  appearance  have_wokred  \\\n",
       "0  1800025194  1054846645      D  الرياض       False        False   \n",
       "1  1104303794  1034719789      D  الرياض       False        False   \n",
       "2  1104304960  1002211058      D  الرياض       False        False   \n",
       "3  1104298913  1016030874      A  الرياض       False        False   \n",
       "4  3100056928  1016030833      D  الرياض       False        False   \n",
       "\n",
       "   no_experience  experience_not_specified  good_with_kids  good_with_elderly  \\\n",
       "0          False                      True           False              False   \n",
       "1          False                      True           False              False   \n",
       "2          False                      True           False              False   \n",
       "3          False                      True           False              False   \n",
       "4          False                      True           False              False   \n",
       "\n",
       "   muslim  not_muslim  religion_not_specified  marrid  not_marrid  \\\n",
       "0   False       False                    True   False       False   \n",
       "1   False       False                    True   False       False   \n",
       "2   False       False                    True   False       False   \n",
       "3   False       False                    True   False       False   \n",
       "4   False       False                    True   False       False   \n",
       "\n",
       "   status_not_specified age_range           family_name     country  \n",
       "0                  True     25-35  family_not_specified  Bangladesh  \n",
       "1                  True     25-35                الشمري  Bangladesh  \n",
       "2                  True     25-35               العتيبي  Bangladesh  \n",
       "3                  True     25-35              القحطاني  Bangladesh  \n",
       "4                  True     25-35              القحطاني  Bangladesh  "
      ]
     },
     "execution_count": 220,
     "metadata": {},
     "output_type": "execute_result"
    }
   ],
   "source": [
    "bps_df.head()"
   ]
  },
  {
   "cell_type": "code",
   "execution_count": 221,
   "metadata": {},
   "outputs": [
    {
     "data": {
      "text/plain": [
       "Bangladesh     678\n",
       "Srilanka       440\n",
       "Philippines    222\n",
       "Name: country, dtype: int64"
      ]
     },
     "execution_count": 221,
     "metadata": {},
     "output_type": "execute_result"
    }
   ],
   "source": [
    "# check how many classes to we have in the new dataframe\n",
    "bps_df.country.value_counts()"
   ]
  },
  {
   "cell_type": "code",
   "execution_count": 222,
   "metadata": {},
   "outputs": [
    {
     "data": {
      "text/plain": [
       "(1340, 19)"
      ]
     },
     "execution_count": 222,
     "metadata": {},
     "output_type": "execute_result"
    }
   ],
   "source": [
    "# the shape of our final dataframe\n",
    "bps_df.shape"
   ]
  },
  {
   "cell_type": "code",
   "execution_count": 223,
   "metadata": {},
   "outputs": [
    {
     "data": {
      "text/plain": [
       "Index(['visa_number', 'id', 'office', 'city', 'appearance', 'have_wokred',\n",
       "       'no_experience', 'experience_not_specified', 'good_with_kids',\n",
       "       'good_with_elderly', 'muslim', 'not_muslim', 'religion_not_specified',\n",
       "       'marrid', 'not_marrid', 'status_not_specified', 'age_range',\n",
       "       'family_name', 'country'],\n",
       "      dtype='object')"
      ]
     },
     "execution_count": 223,
     "metadata": {},
     "output_type": "execute_result"
    }
   ],
   "source": [
    "bps_df.columns"
   ]
  },
  {
   "cell_type": "code",
   "execution_count": 224,
   "metadata": {},
   "outputs": [
    {
     "data": {
      "text/plain": [
       "visa_number                 0\n",
       "id                          0\n",
       "office                      0\n",
       "city                        6\n",
       "appearance                  0\n",
       "have_wokred                 0\n",
       "no_experience               0\n",
       "experience_not_specified    0\n",
       "good_with_kids              0\n",
       "good_with_elderly           0\n",
       "muslim                      0\n",
       "not_muslim                  0\n",
       "religion_not_specified      0\n",
       "marrid                      0\n",
       "not_marrid                  0\n",
       "status_not_specified        0\n",
       "age_range                   0\n",
       "family_name                 0\n",
       "country                     0\n",
       "dtype: int64"
      ]
     },
     "execution_count": 224,
     "metadata": {},
     "output_type": "execute_result"
    }
   ],
   "source": [
    "# check if we have null values in the final dataframe\n",
    "bps_df.isnull().sum()"
   ]
  },
  {
   "cell_type": "markdown",
   "metadata": {},
   "source": [
    "#### it seems that we have a small bug in the dataframe, now we'll deal with it!"
   ]
  },
  {
   "cell_type": "code",
   "execution_count": 225,
   "metadata": {},
   "outputs": [
    {
     "data": {
      "text/plain": [
       "الرياض                745\n",
       "city_not_specified    365\n",
       "ابها                   40\n",
       "القصيم                 39\n",
       "الدمام                 31\n",
       "تبوك                   27\n",
       "الطائف                 23\n",
       "بيشه                   20\n",
       "وادي الدواسر           13\n",
       "حائل                   11\n",
       "جدة                    10\n",
       "المدينه                10\n",
       "Name: city, dtype: int64"
      ]
     },
     "execution_count": 225,
     "metadata": {},
     "output_type": "execute_result"
    }
   ],
   "source": [
    "# make a mask: 1st: for city that occurs less than 10 times.\n",
    "mask_city_less_than_ten = bps_df.city.value_counts()[bps_df.city.value_counts() < 10]\n",
    "\n",
    "# apply our mask\n",
    "bps_df.city = bps_df.city.apply(lambda x: 'city_not_specified' if (x in mask_city_less_than_ten or x == 'أبو') else x)\n",
    "\n",
    "# check the value counts after our final cleaning\n",
    "bps_df.city.value_counts()"
   ]
  },
  {
   "cell_type": "code",
   "execution_count": 226,
   "metadata": {},
   "outputs": [],
   "source": [
    "# deal with null values and replace them with most the frequent class\n",
    "bps_df.loc[bps_df.city.isnull(),\"city\"] = 'city_not_specified'"
   ]
  },
  {
   "cell_type": "code",
   "execution_count": 227,
   "metadata": {},
   "outputs": [
    {
     "data": {
      "text/plain": [
       "visa_number                 0\n",
       "id                          0\n",
       "office                      0\n",
       "city                        0\n",
       "appearance                  0\n",
       "have_wokred                 0\n",
       "no_experience               0\n",
       "experience_not_specified    0\n",
       "good_with_kids              0\n",
       "good_with_elderly           0\n",
       "muslim                      0\n",
       "not_muslim                  0\n",
       "religion_not_specified      0\n",
       "marrid                      0\n",
       "not_marrid                  0\n",
       "status_not_specified        0\n",
       "age_range                   0\n",
       "family_name                 0\n",
       "country                     0\n",
       "dtype: int64"
      ]
     },
     "execution_count": 227,
     "metadata": {},
     "output_type": "execute_result"
    }
   ],
   "source": [
    "# check the null values after we're done cleaning\n",
    "bps_df.isnull().sum()"
   ]
  },
  {
   "cell_type": "code",
   "execution_count": 228,
   "metadata": {},
   "outputs": [],
   "source": [
    "# clean the visa column since we do have one inconsistent value\n",
    "def clean_visa(value):\n",
    "    try:\n",
    "        return value.split(\"\\n\")[0]\n",
    "    except:\n",
    "        return value\n",
    "# reassign the visa number with the new value after cleaning\n",
    "bps_df.visa_number = bps_df.visa_number.apply(clean_visa)"
   ]
  },
  {
   "cell_type": "code",
   "execution_count": 229,
   "metadata": {},
   "outputs": [
    {
     "data": {
      "text/plain": [
       "Index(['visa_number', 'id', 'office', 'city', 'appearance', 'have_wokred',\n",
       "       'no_experience', 'experience_not_specified', 'good_with_kids',\n",
       "       'good_with_elderly', 'muslim', 'not_muslim', 'religion_not_specified',\n",
       "       'marrid', 'not_marrid', 'status_not_specified', 'age_range',\n",
       "       'family_name', 'country'],\n",
       "      dtype='object')"
      ]
     },
     "execution_count": 229,
     "metadata": {},
     "output_type": "execute_result"
    }
   ],
   "source": [
    "# print the dataframe column\n",
    "bps_df.columns"
   ]
  },
  {
   "cell_type": "code",
   "execution_count": 230,
   "metadata": {},
   "outputs": [
    {
     "data": {
      "text/plain": [
       "visa_number                 object\n",
       "id                          object\n",
       "office                      object\n",
       "city                        object\n",
       "appearance                    bool\n",
       "have_wokred                   bool\n",
       "no_experience                 bool\n",
       "experience_not_specified      bool\n",
       "good_with_kids                bool\n",
       "good_with_elderly             bool\n",
       "muslim                        bool\n",
       "not_muslim                    bool\n",
       "religion_not_specified        bool\n",
       "marrid                        bool\n",
       "not_marrid                    bool\n",
       "status_not_specified          bool\n",
       "age_range                   object\n",
       "family_name                 object\n",
       "country                     object\n",
       "dtype: object"
      ]
     },
     "execution_count": 230,
     "metadata": {},
     "output_type": "execute_result"
    }
   ],
   "source": [
    "# check the data types of our dataframe\n",
    "bps_df.dtypes"
   ]
  },
  {
   "cell_type": "markdown",
   "metadata": {},
   "source": [
    "### Finally, we'll write the clean version of the data into a csv file. so that we can deal with it in a new file"
   ]
  },
  {
   "cell_type": "code",
   "execution_count": 231,
   "metadata": {},
   "outputs": [],
   "source": [
    "# write the data into a csv file\n",
    "bps_df.to_csv('clean_data_version_of_the_dirty_one.csv')"
   ]
  }
 ],
 "metadata": {
  "kernelspec": {
   "display_name": "Python 3",
   "language": "python",
   "name": "python3"
  },
  "language_info": {
   "codemirror_mode": {
    "name": "ipython",
    "version": 3
   },
   "file_extension": ".py",
   "mimetype": "text/x-python",
   "name": "python",
   "nbconvert_exporter": "python",
   "pygments_lexer": "ipython3",
   "version": "3.6.8"
  }
 },
 "nbformat": 4,
 "nbformat_minor": 2
}

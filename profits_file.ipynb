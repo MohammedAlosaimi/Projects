{
 "cells": [
  {
   "cell_type": "markdown",
   "metadata": {},
   "source": [
    "# Inroduction"
   ]
  },
  {
   "cell_type": "markdown",
   "metadata": {},
   "source": [
    "**In this file, we will work with a data that provides different columns such as data, the price of recruitment 'that the client pays', cost of supplier 'that the office had to pay to a third party in order to recruit the maid', and finally the profit. We will analyze the dataframe to show mean profit for each country and also for a given month**"
   ]
  },
  {
   "cell_type": "markdown",
   "metadata": {},
   "source": [
    "## Import packages"
   ]
  },
  {
   "cell_type": "code",
   "execution_count": 204,
   "metadata": {},
   "outputs": [],
   "source": [
    "# import libraries\n",
    "import pandas as pd\n",
    "import numpy as np\n",
    "import seaborn as sns\n",
    "import matplotlib.pyplot as plt\n",
    "import re"
   ]
  },
  {
   "cell_type": "markdown",
   "metadata": {},
   "source": [
    "# 1st step: cleaning data, EDA, and feature engineering"
   ]
  },
  {
   "cell_type": "code",
   "execution_count": 205,
   "metadata": {},
   "outputs": [],
   "source": [
    "# read in the data\n",
    "profit_df = pd.read_excel('datasets/Estimated profits of recuriments requests.xlsx')"
   ]
  },
  {
   "cell_type": "code",
   "execution_count": 206,
   "metadata": {},
   "outputs": [
    {
     "data": {
      "text/html": [
       "<div>\n",
       "<style scoped>\n",
       "    .dataframe tbody tr th:only-of-type {\n",
       "        vertical-align: middle;\n",
       "    }\n",
       "\n",
       "    .dataframe tbody tr th {\n",
       "        vertical-align: top;\n",
       "    }\n",
       "\n",
       "    .dataframe thead th {\n",
       "        text-align: right;\n",
       "    }\n",
       "</style>\n",
       "<table border=\"1\" class=\"dataframe\">\n",
       "  <thead>\n",
       "    <tr style=\"text-align: right;\">\n",
       "      <th></th>\n",
       "      <th>Serial</th>\n",
       "      <th>Request information</th>\n",
       "      <th>Added date</th>\n",
       "      <th>Client name</th>\n",
       "      <th>The Price Of Recruitment</th>\n",
       "      <th>Cost of supplier</th>\n",
       "      <th>Profit</th>\n",
       "    </tr>\n",
       "  </thead>\n",
       "  <tbody>\n",
       "    <tr>\n",
       "      <th>0</th>\n",
       "      <td>1.0</td>\n",
       "      <td>1 (Closed) - Domestic worker</td>\n",
       "      <td>2018-05-06 | 21-08-1439</td>\n",
       "      <td>1 / HESA SALEH ALAMERY</td>\n",
       "      <td>11000.0</td>\n",
       "      <td>0.0</td>\n",
       "      <td>11000.0</td>\n",
       "    </tr>\n",
       "    <tr>\n",
       "      <th>1</th>\n",
       "      <td>NaN</td>\n",
       "      <td>Bangladesh - Ready - Muslim</td>\n",
       "      <td>NaN</td>\n",
       "      <td>NaN</td>\n",
       "      <td>NaN</td>\n",
       "      <td>NaN</td>\n",
       "      <td>NaN</td>\n",
       "    </tr>\n",
       "  </tbody>\n",
       "</table>\n",
       "</div>"
      ],
      "text/plain": [
       "   Serial            Request information               Added date  \\\n",
       "0     1.0  1 (Closed) - Domestic worker   2018-05-06 | 21-08-1439   \n",
       "1     NaN    Bangladesh - Ready - Muslim                      NaN   \n",
       "\n",
       "              Client name  The Price Of Recruitment  Cost of supplier   Profit  \n",
       "0  1 / HESA SALEH ALAMERY                   11000.0               0.0  11000.0  \n",
       "1                     NaN                       NaN               NaN      NaN  "
      ]
     },
     "execution_count": 206,
     "metadata": {},
     "output_type": "execute_result"
    }
   ],
   "source": [
    "# print the head of our data\n",
    "profit_df.head(2)"
   ]
  },
  {
   "cell_type": "markdown",
   "metadata": {},
   "source": [
    "#### remove spaces from the columns and replace them with _ symbol"
   ]
  },
  {
   "cell_type": "code",
   "execution_count": 207,
   "metadata": {},
   "outputs": [],
   "source": [
    "# clean column names: convert them to lowercase and replace any space with the symbol _ for easy access to the column\n",
    "profit_df.columns = profit_df.columns.str.lower()\n",
    "profit_df.columns = profit_df.columns.str.replace(' ', '_')"
   ]
  },
  {
   "cell_type": "markdown",
   "metadata": {},
   "source": [
    "### Since the odd rows have a single value, we'll concat that value to the first column of the even rows"
   ]
  },
  {
   "cell_type": "code",
   "execution_count": 208,
   "metadata": {},
   "outputs": [],
   "source": [
    "# iterate through the first half of the dataframe\n",
    "for i in range(int(len(profit_df)/2)):\n",
    "    # assign the value of the even row with the value of the odd row to the even rows\n",
    "    # it is kinda aggregation\n",
    "    profit_df.iloc[i*2,1] = profit_df.iloc[i*2,1] + profit_df.iloc[(i*2)+1,1]"
   ]
  },
  {
   "cell_type": "code",
   "execution_count": 209,
   "metadata": {},
   "outputs": [
    {
     "data": {
      "text/html": [
       "<div>\n",
       "<style scoped>\n",
       "    .dataframe tbody tr th:only-of-type {\n",
       "        vertical-align: middle;\n",
       "    }\n",
       "\n",
       "    .dataframe tbody tr th {\n",
       "        vertical-align: top;\n",
       "    }\n",
       "\n",
       "    .dataframe thead th {\n",
       "        text-align: right;\n",
       "    }\n",
       "</style>\n",
       "<table border=\"1\" class=\"dataframe\">\n",
       "  <thead>\n",
       "    <tr style=\"text-align: right;\">\n",
       "      <th></th>\n",
       "      <th>serial</th>\n",
       "      <th>request_information</th>\n",
       "      <th>added_date</th>\n",
       "      <th>client_name</th>\n",
       "      <th>the_price_of_recruitment</th>\n",
       "      <th>cost_of_supplier</th>\n",
       "      <th>profit</th>\n",
       "    </tr>\n",
       "  </thead>\n",
       "  <tbody>\n",
       "    <tr>\n",
       "      <th>0</th>\n",
       "      <td>1.0</td>\n",
       "      <td>1 (Closed) - Domestic worker Bangladesh - Read...</td>\n",
       "      <td>2018-05-06 | 21-08-1439</td>\n",
       "      <td>1 / HESA SALEH ALAMERY</td>\n",
       "      <td>11000.0</td>\n",
       "      <td>0.0</td>\n",
       "      <td>11000.0</td>\n",
       "    </tr>\n",
       "    <tr>\n",
       "      <th>1</th>\n",
       "      <td>NaN</td>\n",
       "      <td>Bangladesh - Ready - Muslim</td>\n",
       "      <td>NaN</td>\n",
       "      <td>NaN</td>\n",
       "      <td>NaN</td>\n",
       "      <td>NaN</td>\n",
       "      <td>NaN</td>\n",
       "    </tr>\n",
       "  </tbody>\n",
       "</table>\n",
       "</div>"
      ],
      "text/plain": [
       "   serial                                request_information  \\\n",
       "0     1.0  1 (Closed) - Domestic worker Bangladesh - Read...   \n",
       "1     NaN                        Bangladesh - Ready - Muslim   \n",
       "\n",
       "                added_date             client_name  the_price_of_recruitment  \\\n",
       "0  2018-05-06 | 21-08-1439  1 / HESA SALEH ALAMERY                   11000.0   \n",
       "1                      NaN                     NaN                       NaN   \n",
       "\n",
       "   cost_of_supplier   profit  \n",
       "0               0.0  11000.0  \n",
       "1               NaN      NaN  "
      ]
     },
     "execution_count": 209,
     "metadata": {},
     "output_type": "execute_result"
    }
   ],
   "source": [
    "# print the head of our data after cleaning column names\n",
    "profit_df.head(2)"
   ]
  },
  {
   "cell_type": "markdown",
   "metadata": {},
   "source": [
    "### **NOTE: When the profit is 0, then that means it's an alternative maid"
   ]
  },
  {
   "cell_type": "code",
   "execution_count": 210,
   "metadata": {},
   "outputs": [],
   "source": [
    "# create a mask which returns a indices when they're even or 0  \n",
    "index_mask = pd.Series(profit_df.index.values).apply(lambda index: index == 0 or index % 2 == 0)\n",
    "# reassign the dataframe with the evevn rows\n",
    "profit_df = profit_df.loc[index_mask]"
   ]
  },
  {
   "cell_type": "code",
   "execution_count": 211,
   "metadata": {},
   "outputs": [
    {
     "data": {
      "text/html": [
       "<div>\n",
       "<style scoped>\n",
       "    .dataframe tbody tr th:only-of-type {\n",
       "        vertical-align: middle;\n",
       "    }\n",
       "\n",
       "    .dataframe tbody tr th {\n",
       "        vertical-align: top;\n",
       "    }\n",
       "\n",
       "    .dataframe thead th {\n",
       "        text-align: right;\n",
       "    }\n",
       "</style>\n",
       "<table border=\"1\" class=\"dataframe\">\n",
       "  <thead>\n",
       "    <tr style=\"text-align: right;\">\n",
       "      <th></th>\n",
       "      <th>serial</th>\n",
       "      <th>request_information</th>\n",
       "      <th>added_date</th>\n",
       "      <th>client_name</th>\n",
       "      <th>the_price_of_recruitment</th>\n",
       "      <th>cost_of_supplier</th>\n",
       "      <th>profit</th>\n",
       "    </tr>\n",
       "  </thead>\n",
       "  <tbody>\n",
       "    <tr>\n",
       "      <th>0</th>\n",
       "      <td>1.0</td>\n",
       "      <td>1 (Closed) - Domestic worker Bangladesh - Read...</td>\n",
       "      <td>2018-05-06 | 21-08-1439</td>\n",
       "      <td>1 / HESA SALEH ALAMERY</td>\n",
       "      <td>11000.0</td>\n",
       "      <td>0.0</td>\n",
       "      <td>11000.0</td>\n",
       "    </tr>\n",
       "    <tr>\n",
       "      <th>1</th>\n",
       "      <td>2.0</td>\n",
       "      <td>2 (Closed) - Domestic worker Bangladesh - Read...</td>\n",
       "      <td>2018-05-06 | 21-08-1439</td>\n",
       "      <td>2 / ALHANOF OBAID ALOMARY</td>\n",
       "      <td>11000.0</td>\n",
       "      <td>7400.0</td>\n",
       "      <td>3600.0</td>\n",
       "    </tr>\n",
       "  </tbody>\n",
       "</table>\n",
       "</div>"
      ],
      "text/plain": [
       "   serial                                request_information  \\\n",
       "0     1.0  1 (Closed) - Domestic worker Bangladesh - Read...   \n",
       "1     2.0  2 (Closed) - Domestic worker Bangladesh - Read...   \n",
       "\n",
       "                added_date                client_name  \\\n",
       "0  2018-05-06 | 21-08-1439     1 / HESA SALEH ALAMERY   \n",
       "1  2018-05-06 | 21-08-1439  2 / ALHANOF OBAID ALOMARY   \n",
       "\n",
       "   the_price_of_recruitment  cost_of_supplier   profit  \n",
       "0                   11000.0               0.0  11000.0  \n",
       "1                   11000.0            7400.0   3600.0  "
      ]
     },
     "execution_count": 211,
     "metadata": {},
     "output_type": "execute_result"
    }
   ],
   "source": [
    "# reset index\n",
    "profit_df.reset_index(inplace=True, drop=True)\n",
    "# print the head\n",
    "profit_df.head(2)"
   ]
  },
  {
   "cell_type": "markdown",
   "metadata": {},
   "source": [
    "### feature engineering"
   ]
  },
  {
   "cell_type": "code",
   "execution_count": 212,
   "metadata": {},
   "outputs": [],
   "source": [
    "# extract country from request_information column\n",
    "def extract_country(value):\n",
    "    # check if the column has the country name not sri lanka\n",
    "    if len(value.split('-')[1].split()) < 4:\n",
    "        # return the last value in the list which would be the country\n",
    "        return ''.join(value.split('-')[1].split()[-1])\n",
    "    # if the country is located in two indices, then return the last two indices\n",
    "    elif len(value.split('-')[1].split()) == 4:\n",
    "        return ''.join(value.split('-')[1].split()[-2:])\n",
    "# create a new column that would hold the country value and use apply to use the function above\n",
    "profit_df['country'] = profit_df['request_information'].apply(extract_country)"
   ]
  },
  {
   "cell_type": "code",
   "execution_count": 213,
   "metadata": {},
   "outputs": [],
   "source": [
    "# create another column which would have the percentage of the profit \n",
    "# profit_df['profit_percentage'] =  (profit_df['profit'] - (profit_df['cost_of_supplier']) / profit_df['profit'] )"
   ]
  },
  {
   "cell_type": "code",
   "execution_count": 214,
   "metadata": {},
   "outputs": [
    {
     "data": {
      "text/html": [
       "<div>\n",
       "<style scoped>\n",
       "    .dataframe tbody tr th:only-of-type {\n",
       "        vertical-align: middle;\n",
       "    }\n",
       "\n",
       "    .dataframe tbody tr th {\n",
       "        vertical-align: top;\n",
       "    }\n",
       "\n",
       "    .dataframe thead th {\n",
       "        text-align: right;\n",
       "    }\n",
       "</style>\n",
       "<table border=\"1\" class=\"dataframe\">\n",
       "  <thead>\n",
       "    <tr style=\"text-align: right;\">\n",
       "      <th></th>\n",
       "      <th>serial</th>\n",
       "      <th>request_information</th>\n",
       "      <th>added_date</th>\n",
       "      <th>client_name</th>\n",
       "      <th>the_price_of_recruitment</th>\n",
       "      <th>cost_of_supplier</th>\n",
       "      <th>profit</th>\n",
       "      <th>country</th>\n",
       "    </tr>\n",
       "  </thead>\n",
       "  <tbody>\n",
       "    <tr>\n",
       "      <th>0</th>\n",
       "      <td>1.0</td>\n",
       "      <td>1 (Closed) - Domestic worker Bangladesh - Read...</td>\n",
       "      <td>2018-05-06 | 21-08-1439</td>\n",
       "      <td>1 / HESA SALEH ALAMERY</td>\n",
       "      <td>11000.0</td>\n",
       "      <td>0.0</td>\n",
       "      <td>11000.0</td>\n",
       "      <td>Bangladesh</td>\n",
       "    </tr>\n",
       "    <tr>\n",
       "      <th>1</th>\n",
       "      <td>2.0</td>\n",
       "      <td>2 (Closed) - Domestic worker Bangladesh - Read...</td>\n",
       "      <td>2018-05-06 | 21-08-1439</td>\n",
       "      <td>2 / ALHANOF OBAID ALOMARY</td>\n",
       "      <td>11000.0</td>\n",
       "      <td>7400.0</td>\n",
       "      <td>3600.0</td>\n",
       "      <td>Bangladesh</td>\n",
       "    </tr>\n",
       "    <tr>\n",
       "      <th>2</th>\n",
       "      <td>3.0</td>\n",
       "      <td>3 (Closed) - Domestic worker Bangladesh - Read...</td>\n",
       "      <td>2018-05-07 | 22-08-1439</td>\n",
       "      <td>3 / SHEYHA FAHAD ALDOSARY</td>\n",
       "      <td>11000.0</td>\n",
       "      <td>0.0</td>\n",
       "      <td>11000.0</td>\n",
       "      <td>Bangladesh</td>\n",
       "    </tr>\n",
       "  </tbody>\n",
       "</table>\n",
       "</div>"
      ],
      "text/plain": [
       "   serial                                request_information  \\\n",
       "0     1.0  1 (Closed) - Domestic worker Bangladesh - Read...   \n",
       "1     2.0  2 (Closed) - Domestic worker Bangladesh - Read...   \n",
       "2     3.0  3 (Closed) - Domestic worker Bangladesh - Read...   \n",
       "\n",
       "                added_date                client_name  \\\n",
       "0  2018-05-06 | 21-08-1439     1 / HESA SALEH ALAMERY   \n",
       "1  2018-05-06 | 21-08-1439  2 / ALHANOF OBAID ALOMARY   \n",
       "2  2018-05-07 | 22-08-1439  3 / SHEYHA FAHAD ALDOSARY   \n",
       "\n",
       "   the_price_of_recruitment  cost_of_supplier   profit     country  \n",
       "0                   11000.0               0.0  11000.0  Bangladesh  \n",
       "1                   11000.0            7400.0   3600.0  Bangladesh  \n",
       "2                   11000.0               0.0  11000.0  Bangladesh  "
      ]
     },
     "execution_count": 214,
     "metadata": {},
     "output_type": "execute_result"
    }
   ],
   "source": [
    "profit_df.head(3)"
   ]
  },
  {
   "cell_type": "markdown",
   "metadata": {},
   "source": [
    "# Extract date by months"
   ]
  },
  {
   "cell_type": "code",
   "execution_count": 215,
   "metadata": {},
   "outputs": [],
   "source": [
    "# extract date form the added_date column\n",
    "def extraxt_date(value):\n",
    "    return value.split('|')[0]\n",
    "profit_df['date'] = pd.to_datetime(profit_df.added_date.apply(extraxt_date))"
   ]
  },
  {
   "cell_type": "code",
   "execution_count": 216,
   "metadata": {},
   "outputs": [],
   "source": [
    "profit_df['month'] = pd.DatetimeIndex(profit_df['date']).month"
   ]
  },
  {
   "cell_type": "code",
   "execution_count": 217,
   "metadata": {},
   "outputs": [
    {
     "data": {
      "text/plain": [
       "5     121\n",
       "7      55\n",
       "9      45\n",
       "8      35\n",
       "10     34\n",
       "6      25\n",
       "11     20\n",
       "12      5\n",
       "1       1\n",
       "Name: month, dtype: int64"
      ]
     },
     "execution_count": 217,
     "metadata": {},
     "output_type": "execute_result"
    }
   ],
   "source": [
    "# check how many month do we have\n",
    "profit_df.month.value_counts()"
   ]
  },
  {
   "cell_type": "code",
   "execution_count": 218,
   "metadata": {},
   "outputs": [
    {
     "data": {
      "text/plain": [
       "SriLanka       179\n",
       "Bangladesh      80\n",
       "Philippines     62\n",
       "Indian          20\n",
       "Name: country, dtype: int64"
      ]
     },
     "execution_count": 218,
     "metadata": {},
     "output_type": "execute_result"
    }
   ],
   "source": [
    "# look at the number of our classes 'country in the data'\n",
    "profit_df.country.value_counts()"
   ]
  },
  {
   "cell_type": "markdown",
   "metadata": {},
   "source": [
    "# Visualization"
   ]
  },
  {
   "cell_type": "markdown",
   "metadata": {},
   "source": [
    "## Show the percentage of each country in our data"
   ]
  },
  {
   "cell_type": "code",
   "execution_count": 219,
   "metadata": {},
   "outputs": [
    {
     "data": {
      "image/png": "[encoded data removed]",
      "text/plain": [
       "<Figure size 432x432 with 1 Axes>"
      ]
     },
     "metadata": {},
     "output_type": "display_data"
    }
   ],
   "source": [
    "# set colour\n",
    "colors = ['yellowgreen', 'gold', 'lightskyblue', 'lightcoral']\n",
    "# set figure size\n",
    "plt.figure(figsize=(6, 6));\n",
    "# plot the chart\n",
    "plt.pie(profit_df.country.value_counts().values, colors=colors, shadow=True, startangle=90, autopct='%.1f%%')\n",
    "# set legend\n",
    "plt.legend(profit_df.country.value_counts().index.tolist(), loc=\"best\")\n",
    "# set the chart to be in the midlle\n",
    "plt.axis('equal')\n",
    "plt.tight_layout()\n",
    "# set title\n",
    "plt.title('Country Percentage in the data')\n",
    "plt.savefig('Country_Percentage_in_the_data.png')\n",
    "# show the plot\n",
    "plt.show();"
   ]
  },
  {
   "cell_type": "markdown",
   "metadata": {},
   "source": [
    "# check the profit in a given month"
   ]
  },
  {
   "cell_type": "code",
   "execution_count": 220,
   "metadata": {},
   "outputs": [
    {
     "data": {
      "text/html": [
       "<div>\n",
       "<style scoped>\n",
       "    .dataframe tbody tr th:only-of-type {\n",
       "        vertical-align: middle;\n",
       "    }\n",
       "\n",
       "    .dataframe tbody tr th {\n",
       "        vertical-align: top;\n",
       "    }\n",
       "\n",
       "    .dataframe thead th {\n",
       "        text-align: right;\n",
       "    }\n",
       "</style>\n",
       "<table border=\"1\" class=\"dataframe\">\n",
       "  <thead>\n",
       "    <tr style=\"text-align: right;\">\n",
       "      <th></th>\n",
       "      <th>the_price_of_recruitment</th>\n",
       "      <th>cost_of_supplier</th>\n",
       "      <th>profit</th>\n",
       "    </tr>\n",
       "    <tr>\n",
       "      <th>month</th>\n",
       "      <th></th>\n",
       "      <th></th>\n",
       "      <th></th>\n",
       "    </tr>\n",
       "  </thead>\n",
       "  <tbody>\n",
       "    <tr>\n",
       "      <th>8</th>\n",
       "      <td>12985.714286</td>\n",
       "      <td>10888.885714</td>\n",
       "      <td>2096.857143</td>\n",
       "    </tr>\n",
       "  </tbody>\n",
       "</table>\n",
       "</div>"
      ],
      "text/plain": [
       "       the_price_of_recruitment  cost_of_supplier       profit\n",
       "month                                                         \n",
       "8                  12985.714286      10888.885714  2096.857143"
      ]
     },
     "execution_count": 220,
     "metadata": {},
     "output_type": "execute_result"
    }
   ],
   "source": [
    "month = 8\n",
    "df_in_a_month = profit_df[profit_df.month == month]\n",
    "# create a dataframe of the mean of of all numeric values for all countries grouped by months and countries\n",
    "df_month_mean = df_in_a_month.iloc[:, 1:].groupby(['month']).mean()\n",
    "# print the average dataframe\n",
    "df_month_mean"
   ]
  },
  {
   "cell_type": "code",
   "execution_count": 221,
   "metadata": {},
   "outputs": [
    {
     "data": {
      "text/plain": [
       "446500.0"
      ]
     },
     "execution_count": 221,
     "metadata": {},
     "output_type": "execute_result"
    }
   ],
   "source": [
    "# whole income in the given month ** Note it is not the profit dropping India since we don't have it the other data.\n",
    "df_drop_india = df_in_a_month[df_in_a_month['country'] != 'Indian']\n",
    "df_drop_india['the_price_of_recruitment'].sum()"
   ]
  },
  {
   "cell_type": "code",
   "execution_count": 222,
   "metadata": {},
   "outputs": [
    {
     "data": {
      "text/plain": [
       "country\n",
       "Bangladesh      7333.333333\n",
       "Philippines    16250.000000\n",
       "SriLanka       15630.434783\n",
       "Name: the_price_of_recruitment, dtype: float64"
      ]
     },
     "execution_count": 222,
     "metadata": {},
     "output_type": "execute_result"
    }
   ],
   "source": [
    "df_drop_india.groupby('country')['the_price_of_recruitment'].mean()"
   ]
  },
  {
   "cell_type": "code",
   "execution_count": 223,
   "metadata": {},
   "outputs": [],
   "source": [
    "predicted_countries_income = pd.DataFrame(data=[[80663,  325000, 359508]], \n",
    "                                          columns=['Bangladesh', 'Philippines', 'SriLanka'])"
   ]
  },
  {
   "cell_type": "code",
   "execution_count": 224,
   "metadata": {},
   "outputs": [
    {
     "data": {
      "text/html": [
       "<div>\n",
       "<style scoped>\n",
       "    .dataframe tbody tr th:only-of-type {\n",
       "        vertical-align: middle;\n",
       "    }\n",
       "\n",
       "    .dataframe tbody tr th {\n",
       "        vertical-align: top;\n",
       "    }\n",
       "\n",
       "    .dataframe thead th {\n",
       "        text-align: right;\n",
       "    }\n",
       "</style>\n",
       "<table border=\"1\" class=\"dataframe\">\n",
       "  <thead>\n",
       "    <tr style=\"text-align: right;\">\n",
       "      <th></th>\n",
       "      <th>Bangladesh</th>\n",
       "      <th>Philippines</th>\n",
       "      <th>SriLanka</th>\n",
       "    </tr>\n",
       "  </thead>\n",
       "  <tbody>\n",
       "    <tr>\n",
       "      <th>0</th>\n",
       "      <td>80663</td>\n",
       "      <td>325000</td>\n",
       "      <td>359508</td>\n",
       "    </tr>\n",
       "  </tbody>\n",
       "</table>\n",
       "</div>"
      ],
      "text/plain": [
       "   Bangladesh  Philippines  SriLanka\n",
       "0       80663       325000    359508"
      ]
     },
     "execution_count": 224,
     "metadata": {},
     "output_type": "execute_result"
    }
   ],
   "source": [
    "predicted_countries_income"
   ]
  },
  {
   "cell_type": "code",
   "execution_count": 225,
   "metadata": {},
   "outputs": [
    {
     "data": {
      "image/png": "[encoded data removed]",
      "text/plain": [
       "<Figure size 432x288 with 1 Axes>"
      ]
     },
     "metadata": {
      "needs_background": "light"
     },
     "output_type": "display_data"
    }
   ],
   "source": [
    "# show the sum of the income per country in a given month\n",
    "pd.DataFrame(df_in_a_month.groupby('country')['the_price_of_recruitment'].sum()).plot(kind='bar')\n",
    "plt.savefig('sum_of_profit_in_a_month.png')"
   ]
  },
  {
   "cell_type": "code",
   "execution_count": 226,
   "metadata": {},
   "outputs": [
    {
     "data": {
      "image/png": "[encoded data removed]",
      "text/plain": [
       "<Figure size 432x288 with 1 Axes>"
      ]
     },
     "metadata": {
      "needs_background": "light"
     },
     "output_type": "display_data"
    }
   ],
   "source": [
    "# show the mean income per country in a given month\n",
    "df_in_a_month.groupby('country')['the_price_of_recruitment'].mean().plot(kind='bar')\n",
    "plt.savefig('mean_of_mean_in_a_month.png')"
   ]
  },
  {
   "cell_type": "code",
   "execution_count": 227,
   "metadata": {},
   "outputs": [
    {
     "data": {
      "text/plain": [
       "35"
      ]
     },
     "execution_count": 227,
     "metadata": {},
     "output_type": "execute_result"
    }
   ],
   "source": [
    "# number of requests in a given month\n",
    "len(df_in_a_month)"
   ]
  },
  {
   "cell_type": "markdown",
   "metadata": {},
   "source": [
    "## Visualization of the percentage of each country requests in a given month"
   ]
  },
  {
   "cell_type": "code",
   "execution_count": 228,
   "metadata": {},
   "outputs": [
    {
     "data": {
      "image/png": "[encoded data removed]",
      "text/plain": [
       "<Figure size 432x432 with 1 Axes>"
      ]
     },
     "metadata": {},
     "output_type": "display_data"
    }
   ],
   "source": [
    "# set color\n",
    "colors = ['yellowgreen', 'gold', 'lightskyblue', 'lightcoral']\n",
    "# set figure size\n",
    "plt.figure(figsize=(6, 6));\n",
    "# plot the chart\n",
    "plt.pie(df_in_a_month.country.value_counts().values, colors=colors, shadow=True, startangle=90, autopct='%.1f%%')\n",
    "# set legend\n",
    "plt.legend(df_in_a_month.country.value_counts().index.tolist(), loc=\"best\")\n",
    "# set the chart to be in the middle\n",
    "plt.axis('equal')\n",
    "plt.tight_layout()\n",
    "# set chart title\n",
    "plt.title('Country Percentage Requests in Aug')\n",
    "plt.savefig('Country_Percentage_Requests_in_Aug.png')\n",
    "# show the plot\n",
    "plt.show();"
   ]
  },
  {
   "cell_type": "code",
   "execution_count": 229,
   "metadata": {},
   "outputs": [
    {
     "data": {
      "text/html": [
       "<div>\n",
       "<style scoped>\n",
       "    .dataframe tbody tr th:only-of-type {\n",
       "        vertical-align: middle;\n",
       "    }\n",
       "\n",
       "    .dataframe tbody tr th {\n",
       "        vertical-align: top;\n",
       "    }\n",
       "\n",
       "    .dataframe thead th {\n",
       "        text-align: right;\n",
       "    }\n",
       "</style>\n",
       "<table border=\"1\" class=\"dataframe\">\n",
       "  <thead>\n",
       "    <tr style=\"text-align: right;\">\n",
       "      <th></th>\n",
       "      <th>the_price_of_recruitment</th>\n",
       "      <th>cost_of_supplier</th>\n",
       "      <th>profit</th>\n",
       "    </tr>\n",
       "    <tr>\n",
       "      <th>country</th>\n",
       "      <th></th>\n",
       "      <th></th>\n",
       "      <th></th>\n",
       "    </tr>\n",
       "  </thead>\n",
       "  <tbody>\n",
       "    <tr>\n",
       "      <th>Bangladesh</th>\n",
       "      <td>9725.000000</td>\n",
       "      <td>6303.750000</td>\n",
       "      <td>3421.250000</td>\n",
       "    </tr>\n",
       "    <tr>\n",
       "      <th>Indian</th>\n",
       "      <td>1735.000000</td>\n",
       "      <td>223.600000</td>\n",
       "      <td>1511.400000</td>\n",
       "    </tr>\n",
       "    <tr>\n",
       "      <th>Philippines</th>\n",
       "      <td>14735.483871</td>\n",
       "      <td>9677.935484</td>\n",
       "      <td>5057.548387</td>\n",
       "    </tr>\n",
       "    <tr>\n",
       "      <th>SriLanka</th>\n",
       "      <td>17010.279330</td>\n",
       "      <td>12084.173184</td>\n",
       "      <td>4926.206704</td>\n",
       "    </tr>\n",
       "  </tbody>\n",
       "</table>\n",
       "</div>"
      ],
      "text/plain": [
       "             the_price_of_recruitment  cost_of_supplier       profit\n",
       "country                                                             \n",
       "Bangladesh                9725.000000       6303.750000  3421.250000\n",
       "Indian                    1735.000000        223.600000  1511.400000\n",
       "Philippines              14735.483871       9677.935484  5057.548387\n",
       "SriLanka                 17010.279330      12084.173184  4926.206704"
      ]
     },
     "execution_count": 229,
     "metadata": {},
     "output_type": "execute_result"
    }
   ],
   "source": [
    "# create a dataframe of the mean of of all numeric values for all countries grouped by months and countries\n",
    "df_mean = profit_df.iloc[:, 1:-2].groupby(['country']).mean()\n",
    "# print the average dataframe\n",
    "df_mean"
   ]
  },
  {
   "cell_type": "markdown",
   "metadata": {},
   "source": [
    "## Visualization of the profit, cost of supplier, cot of the client in a given month"
   ]
  },
  {
   "cell_type": "code",
   "execution_count": 230,
   "metadata": {},
   "outputs": [
    {
     "data": {
      "image/png": "[encoded data removed]",
      "text/plain": [
       "<Figure size 864x576 with 1 Axes>"
      ]
     },
     "metadata": {
      "needs_background": "light"
     },
     "output_type": "display_data"
    }
   ],
   "source": [
    "# plot the mean of all columns for all every country\n",
    "df_mean.plot(kind='bar', figsize=(12, 8))\n",
    "plt.title('Average client payments, office costs, and profits');\n",
    "plt.savefig('Average_client_payments_office_costs_and_profits.png')"
   ]
  },
  {
   "cell_type": "code",
   "execution_count": null,
   "metadata": {},
   "outputs": [],
   "source": []
  }
 ],
 "metadata": {
  "kernelspec": {
   "display_name": "Python 3",
   "language": "python",
   "name": "python3"
  },
  "language_info": {
   "codemirror_mode": {
    "name": "ipython",
    "version": 3
   },
   "file_extension": ".py",
   "mimetype": "text/x-python",
   "name": "python",
   "nbconvert_exporter": "python",
   "pygments_lexer": "ipython3",
   "version": "3.6.8"
  }
 },
 "nbformat": 4,
 "nbformat_minor": 2
}
